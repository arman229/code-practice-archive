{
 "cells": [
  {
   "cell_type": "code",
   "execution_count": 9,
   "metadata": {},
   "outputs": [
    {
     "name": "stdout",
     "output_type": "stream",
     "text": [
      "3.5\n",
      "3.55\n"
     ]
    }
   ],
   "source": [
    "  # Union Type\n",
    "num:int|float = 3.5\n",
    "print(num)\n",
    "# or\n",
    "\n",
    "from typing import Union\n",
    "num1:Union[int,float] = 3.55\n",
    "print(num1)"
   ]
  },
  {
   "cell_type": "code",
   "execution_count": 10,
   "metadata": {},
   "outputs": [
    {
     "name": "stdout",
     "output_type": "stream",
     "text": [
      "M Arman\n"
     ]
    }
   ],
   "source": [
    "from typing import Optional\n",
    "furture_name:Optional[str] = None\n",
    "furture_name='M Arman'\n",
    "print(furture_name)"
   ]
  },
  {
   "cell_type": "code",
   "execution_count": 32,
   "metadata": {},
   "outputs": [
    {
     "name": "stdout",
     "output_type": "stream",
     "text": [
      "[('Alice', 30), ('Charlie', 25), ('Bob', 6)]\n"
     ]
    }
   ],
   "source": [
    "# zip function \n",
    "# In Python, the zip() function is used to combine two or more iterables (such as lists, tuples, or other sequences)\n",
    "# element-wise into tuples. It returns an iterator that generates these tuples.\n",
    "names:list[str] = ['Alice', 'Bob', 'Charlie']\n",
    "ages:list[int] = [30,6, 25]\n",
    "#  sorts the elements of data_base based on the value of their second element,\n",
    "# and returns a new list containing the sorted elements.\n",
    "combined = sorted(list(zip(names, ages)),key=lambda x:x[1], reverse=True)\n",
    "\n",
    "print(combined)\n"
   ]
  },
  {
   "cell_type": "code",
   "execution_count": 23,
   "metadata": {},
   "outputs": [
    {
     "name": "stdout",
     "output_type": "stream",
     "text": [
      "['apple', 'banana', 'orange']\n"
     ]
    }
   ],
   "source": [
    " # splite method \n",
    "# The split() method in Python is used to split a string into a \n",
    "# list of substrings based on a specified separator. \n",
    "\n",
    "text:str = \"apple,banana,orange\"\n",
    "fruits:list[str] = text.split(',')\n",
    "print(fruits)  "
   ]
  },
  {
   "cell_type": "code",
   "execution_count": 30,
   "metadata": {},
   "outputs": [
    {
     "name": "stdout",
     "output_type": "stream",
     "text": [
      "[None, 2, None, 4, None, 6, None, 8, None, 10]\n"
     ]
    }
   ],
   "source": [
    "# comprehensive if-else\n",
    "# True_block if logic else False_block\n",
    "nums: list[int] = list(range(1, 11))\n",
    "even_num: list[int] = [num if num % 2 == 0 else None for num in nums]\n",
    "print(even_num)\n"
   ]
  },
  {
   "cell_type": "code",
   "execution_count": 37,
   "metadata": {},
   "outputs": [
    {
     "name": "stdout",
     "output_type": "stream",
     "text": [
      "[1, 4, 3, 16, 5, 36, 7, 64, 9, 100]\n",
      "[2, 4, 6, 8, 10]\n"
     ]
    }
   ],
   "source": [
    "  # comprehensive if-else\n",
    "# True_block if logic else False_block\n",
    "nums: list[int] = list(range(1, 11))\n",
    "even_num: list[int] = [num  for num in nums if  num % 2 == 0 ]\n",
    "squre_even_num:list[int] = [num**2 if num%2==0 else num for num in nums]\n",
    "print(squre_even_num)\n",
    "print(even_num)"
   ]
  }
 ],
 "metadata": {
  "kernelspec": {
   "display_name": "mypython12",
   "language": "python",
   "name": "python3"
  },
  "language_info": {
   "codemirror_mode": {
    "name": "ipython",
    "version": 3
   },
   "file_extension": ".py",
   "mimetype": "text/x-python",
   "name": "python",
   "nbconvert_exporter": "python",
   "pygments_lexer": "ipython3",
   "version": "3.12.0"
  }
 },
 "nbformat": 4,
 "nbformat_minor": 2
}
