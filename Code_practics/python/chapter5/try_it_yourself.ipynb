{
 "cells": [
  {
   "cell_type": "markdown",
   "metadata": {},
   "source": [
    "5-1. Conditional Tests: Write a series of conditional tests. Print a statement\n",
    "describing each test and your prediction for the results of each test. Your code\n",
    "should look something like this:\n",
    "car = 'subaru'\n",
    "print(\"Is car == 'subaru'? I predict True.\")\n",
    "print(car == 'subaru')\n",
    "print(\"\\nIs car == 'audi'? I predict False.\")\n",
    "print(car == 'audi')\n",
    "* Look closely at your results, and make sure you understand why each line\n",
    "evaluates to True or False.\n",
    "* Create at least 10 tests. Have at least 5 tests evaluate to True and another\n",
    "5 tests evaluate to False."
   ]
  },
  {
   "cell_type": "code",
   "execution_count": 5,
   "metadata": {},
   "outputs": [
    {
     "name": "stdout",
     "output_type": "stream",
     "text": [
      "is car=='subaru' ? I predict True\n",
      "True\n",
      "is car=='audi' ? I predict False\n",
      "False\n",
      "is name='arman' ? I predict True\n",
      "True\n",
      "is name='Arman' ? I predict False\n",
      "False\n",
      "is age<=22? I predict True\n",
      "True\n",
      "is age>=23? I predict False\n",
      "False\n",
      "is prime_minister=='Imran Khan'? I predict False\n",
      "False\n",
      "is prime_minister=='anwar ul haq'? I predict True\n",
      "True\n",
      "is light=='True'? I predict True\n",
      "True\n",
      "is light=='False'? I predict False\n",
      "False\n"
     ]
    }
   ],
   "source": [
    "car = 'subaru'\n",
    "print(\"Is car == 'subaru'? I predict True.\")\n",
    "print(car == 'subaru')\n",
    "print(\"\\nIs car == 'audi'? I predict False.\")\n",
    "print(car == 'audi')\n",
    "my_name:str = 'arman'\n",
    "print(\"Is my_name == 'arman'? I predict True.\")\n",
    "print(my_name == 'arman')\n",
    "print(\"Is my_name == 'armans'? I predict false.\")\n",
    "print(my_name == 'armans')\n",
    "my_city:str='sialkot'\n",
    "print(\"Is my_city == 'sialkot'? I predict True.\")\n",
    "print(my_city == 'sialkot')\n",
    "print(\"Is my_city == 'sialkott'? I predict false.\")\n",
    "print(my_city == 'sialkott')\n",
    "my_country:str = 'pakistan'\n",
    "print(\"Is my_country == 'pakistan'? I predict True.\")\n",
    "print(my_country == 'pakistan')\n",
    "print(\"Is my_country == 'pakistann'? I predict false.\")\n",
    "print(my_country == 'pakistann')\n",
    "current_prime_minister:str = 'anwar ul haq'\n",
    "print(\"Is current_prime_minister == 'anwar ul haq'? I predict True.\")\n",
    "print(current_prime_minister == 'anwar ul haq')\n",
    "print(\"Is current_prime_minister == 'anwar ul haqq'? I predict false.\")\n",
    "print(current_prime_minister == 'anwar ul haqq')\n",
    "my_age:int = 22\n",
    "print(\"Is my_age == 22 ? I predict True.\")\n",
    "print(my_age == 22)\n",
    "print(\"Is my_age == 22 ? I predict True.\")\n",
    "print(my_age == 22)"
   ]
  },
  {
   "cell_type": "markdown",
   "metadata": {},
   "source": [
    "5-2. More Conditional Tests: You don’t have to limit the number of tests you create to 10. If you want to try more comparisons, write more tests and add them\n",
    "to conditional_tests.py. Have at least one True and one False result for each of\n",
    "the following:\n",
    "* Tests for equality and inequality with strings\n",
    "* Tests using the lower() method\n",
    "* Numerical tests involving equality and inequality, greater than and less\n",
    "than, greater than or equal to, and less than or equal to\n",
    "* Tests using the and keyword and the or keyword\n",
    "* Test whether an item is in a list\n",
    "* Test whether an item is not in a list"
   ]
  },
  {
   "cell_type": "code",
   "execution_count": 9,
   "metadata": {},
   "outputs": [
    {
     "name": "stdout",
     "output_type": "stream",
     "text": [
      "True\n",
      "False\n",
      "True\n",
      "False\n",
      "True\n",
      "False\n",
      "False\n",
      "False\n",
      "True\n",
      "True\n",
      "False\n",
      "True\n",
      "False\n",
      "True\n",
      "True\n",
      "False\n",
      "True\n",
      "False\n"
     ]
    }
   ],
   "source": [
    "name:str = 'Arman'\n",
    "father_name:str = 'Ashraf'\n",
    "age:int = 22\n",
    "height:int=6\n",
    "passtest:bool = True\n",
    "failtest:bool = False\n",
    "print(name=='Arman')\n",
    "print(name=='arman')\n",
    "print(name!='arman')\n",
    "print(name!='Arman')\n",
    "print(name.lower()=='arman')\n",
    "print(name.lower()=='Arman') \n",
    "print(age==height)\n",
    "print(age<height)\n",
    "print(age>height)\n",
    "print(age!=height)\n",
    "print(age<=height)\n",
    "print(age>=height)\n",
    "print(passtest and failtest)\n",
    "print(passtest or failtest)\n",
    "friend_list:list[str] = ['sameer','ali','bilal']\n",
    "print('sameer' in friend_list)\n",
    "print('ahmad' in friend_list)\n",
    "print('asif' not in friend_list)\n",
    "print('bilal' not in friend_list)"
   ]
  },
  {
   "cell_type": "markdown",
   "metadata": {},
   "source": [
    "5-3. Alien Colors #1: Imagine an alien was just shot down in a game. Create a\n",
    "variable called alien_color and assign it a value of 'green', 'yellow', or 'red'.\n",
    "* Write an if statement to test whether the alien’s color is green. If it is, print\n",
    "a message that the player just earned 5 points.\n",
    "* Write one version of this program that passes the if test and another that\n",
    "fails. (The version that fails will have no output.)"
   ]
  },
  {
   "cell_type": "code",
   "execution_count": 12,
   "metadata": {},
   "outputs": [
    {
     "name": "stdout",
     "output_type": "stream",
     "text": [
      "You just earned 5 points!\n"
     ]
    }
   ],
   "source": [
    "alien_color:str = 'green'\n",
    "if (alien_color=='green'):\n",
    "    print(\"You just earned 5 points!\")\n",
    "    "
   ]
  },
  {
   "cell_type": "markdown",
   "metadata": {},
   "source": [
    "5-4. Alien Colors #2: Choose a color for an alien as you did in Exercise 5-3,\n",
    "and write an if-else chain.\n",
    "* If the alien’s color is green, print a statement that the player just earned 5\n",
    "points for shooting the alien.\n",
    "* If the alien’s color isn’t green, print a statement that the player just earned\n",
    "10 points.\n",
    "* Write one version of this program that runs the if block and another that\n",
    "runs the else block."
   ]
  },
  {
   "cell_type": "code",
   "execution_count": 14,
   "metadata": {},
   "outputs": [
    {
     "name": "stdout",
     "output_type": "stream",
     "text": [
      "You just earned 5 points!\n"
     ]
    }
   ],
   "source": [
    "alien_color = 'yellow'\n",
    "\n",
    "if alien_color == 'green':\n",
    "    print(\"You just earned 5 points!\")\n",
    "\n",
    "else:\n",
    "    print('You just earned 10 points'    )     "
   ]
  },
  {
   "cell_type": "markdown",
   "metadata": {},
   "source": [
    "5-5. Alien Colors #3: Turn your if-else chain from Exercise 5-4 into an if-elifelse chain.\n",
    "* If the alien is green, print a message that the player earned 5 points.\n",
    "* If the alien is yellow, print a message that the player earned 10 points.\n",
    "* If the alien is red, print a message that the player earned 15 points.\n",
    "* Write three versions of this program, making sure each message is printed\n",
    "for the appropriate color alien."
   ]
  },
  {
   "cell_type": "code",
   "execution_count": 15,
   "metadata": {},
   "outputs": [
    {
     "name": "stdout",
     "output_type": "stream",
     "text": [
      "you just earned 15 points\n"
     ]
    }
   ],
   "source": [
    "alien_color:str='red'\n",
    "if (alien_color=='green'):\n",
    "    print('You just earned 5 points')\n",
    "elif(alien_color=='yellow'):\n",
    "    print('you just earned 10 points')\n",
    "elif(alien_color=='red'):\n",
    "    print('you just earned 15 points')        "
   ]
  },
  {
   "cell_type": "markdown",
   "metadata": {},
   "source": [
    "5-6. Stages of Life: Write an if-elif-else chain that determines a person’s stage\n",
    "of life. Set a value for the variable age, and then:\n",
    "* If the person is less than 2 years old, print a message that the person is\n",
    "a baby.\n",
    "* If the person is at least 2 years old but less than 4, print a message that the\n",
    "person is a toddler.\n",
    "* If the person is at least 4 years old but less than 13, print a message that\n",
    "the person is a kid.\n",
    "* If the person is at least 13 years old but less than 20, print a message that\n",
    "the person is a teenager.\n",
    "* If the person is at least 20 years old but less than 65, print a message that\n",
    "the person is an adult.\n",
    "* If the person is age 65 or older, print a message that the person is an elder."
   ]
  },
  {
   "cell_type": "code",
   "execution_count": null,
   "metadata": {},
   "outputs": [],
   "source": [
    "age:int = 18\n",
    "\n",
    "if age < 2:\n",
    "    print(\"You're a baby!\")\n",
    "elif age < 4:\n",
    "    print(\"You're a toddler!\")\n",
    "elif age < 13:\n",
    "    print(\"You're a kid!\")\n",
    "elif age < 20:\n",
    "    print(\"You're a teenager!\")\n",
    "elif age < 65:\n",
    "    print(\"You're an adult!\")\n",
    "else:\n",
    "    print(\"You're an elder!\")"
   ]
  },
  {
   "cell_type": "markdown",
   "metadata": {},
   "source": [
    "\n",
    "5-7. Favorite Fruit: Make a list of your favorite fruits, and then write a series of\n",
    "independent if statements that check for certain fruits in your list.\n",
    "* Make a list of your three favorite fruits and call it favorite_fruits.\n",
    "* Write five if statements. Each should check whether a certain kind of fruit\n",
    "is in your list. If the fruit is in your list, the if block should print a statement,\n",
    "such as You really like bananas!"
   ]
  },
  {
   "cell_type": "code",
   "execution_count": 16,
   "metadata": {},
   "outputs": [
    {
     "name": "stdout",
     "output_type": "stream",
     "text": [
      "You really like apples!\n",
      "You really like blueberries!\n",
      "You really like peaches!\n"
     ]
    }
   ],
   "source": [
    "favorite_fruits:list[str] = ['blueberries', 'apples', 'peaches']\n",
    "\n",
    "if ('bananas' in favorite_fruits):\n",
    "    print(\"You really like bananas!\")\n",
    "if ('apples' in favorite_fruits):\n",
    "    print(\"You really like apples!\")\n",
    "if ('blueberries' in favorite_fruits):\n",
    "    print(\"You really like blueberries!\")\n",
    "if ('kiwis' in favorite_fruits):\n",
    "    print(\"You really like kiwis!\")\n",
    "if ('peaches' in favorite_fruits):\n",
    "    print(\"You really like peaches!\")"
   ]
  },
  {
   "cell_type": "markdown",
   "metadata": {},
   "source": [
    "5-8. Hello Admin: Make a list of five or more usernames, including the name\n",
    "'admin'. Imagine you are writing code that will print a greeting to each user\n",
    "after they log in to a website. Loop through the list, and print a greeting to\n",
    "each user.\n",
    "* If the username is 'admin', print a special greeting, such as Hello admin,\n",
    "would you like to see a status report?\n",
    "* Otherwise, print a generic greeting, such as Hello Jaden, thank you for\n",
    "logging in again.\n"
   ]
  },
  {
   "cell_type": "code",
   "execution_count": 18,
   "metadata": {},
   "outputs": [
    {
     "name": "stdout",
     "output_type": "stream",
     "text": [
      "Hello ali, thank you for logging in again!\n",
      "Hello arman, thank you for logging in again!\n",
      "Hello admin, would you like to see a status report?\n",
      "Hello usman, thank you for logging in again!\n",
      "Hello asad, thank you for logging in again!\n"
     ]
    }
   ],
   "source": [
    "usernames:list[str] = ['ali', 'arman', 'admin', 'usman', 'asad']\n",
    "\n",
    "for username in usernames:\n",
    "    if username == 'admin':\n",
    "        print(\"Hello admin, would you like to see a status report?\")\n",
    "    else:\n",
    "        print(f\"Hello {username }, thank you for logging in again!\")"
   ]
  },
  {
   "cell_type": "markdown",
   "metadata": {},
   "source": [
    "5-9. No Users: Add an if test to hello_admin.py to make sure the list of users is\n",
    "not empty.\n",
    "* If the list is empty, print the message We need to find some users!\n",
    "* Remove all of the usernames from your list, and make sure the correct message is printed.\n"
   ]
  },
  {
   "cell_type": "code",
   "execution_count": 20,
   "metadata": {},
   "outputs": [
    {
     "name": "stdout",
     "output_type": "stream",
     "text": [
      "Hello ali, thank you for logging in again!\n",
      "Hello arman, thank you for logging in again!\n",
      "Hello admin, would you like to see a status report?\n",
      "Hello usman, thank you for logging in again!\n",
      "Hello asad, thank you for logging in again!\n"
     ]
    }
   ],
   "source": [
    "usernames:list[str] = ['ali', 'arman', 'admin', 'usman', 'asad']\n",
    "# usernames:list[str] = []\n",
    " \n",
    "if usernames:\n",
    "    for username in usernames:\n",
    "        if username == 'admin':\n",
    "            print(\"Hello admin, would you like to see a status report?\")\n",
    "        else:\n",
    "            print(f\"Hello {username}, thank you for logging in again!\")\n",
    "else:\n",
    "    print('We need to find some users!')"
   ]
  },
  {
   "cell_type": "markdown",
   "metadata": {},
   "source": [
    "5-10. Checking Usernames: Do the following to create a program that simulates\n",
    "how websites ensure that everyone has a unique username.\n",
    "* Make a list of five or more usernames called current_users.\n",
    "* Make another list of five usernames called new_users. Make sure one or\n",
    "two of the new usernames are also in the current_users list.\n",
    "* Loop through the new_users list to see if each new username has already\n",
    "been used. If it has, print a message that the person will need to enter a\n",
    "new username. If a username has not been used, print a message saying\n",
    "that the username is available.\n",
    "* Make sure your comparison is case insensitive. If 'John' has been used,\n",
    "'JOHN' should not be accepted. (To do this, you’ll need to make a copy of\n",
    "current_users containing the lowercase versions of all existing users.)\n"
   ]
  },
  {
   "cell_type": "code",
   "execution_count": 23,
   "metadata": {},
   "outputs": [
    {
     "name": "stdout",
     "output_type": "stream",
     "text": [
      "['ali', 'asad', 'zain', 'arman', 'arman']\n",
      "ali is already taken. You will need to enter a new username.\n",
      "Asad is already taken. You will need to enter a new username.\n",
      "saad is available.\n",
      "sameer is available.\n",
      "mazher is available.\n"
     ]
    }
   ],
   "source": [
    "current_users:list[str] = ['ali','asad','zain','arman','arman']\n",
    "new_users:list[str]= ['ali','Asad','saad','sameer','mazher']\n",
    "current_users_lower = [user.lower() for user in current_users]\n",
    "print(current_users_lower)\n",
    "for new_user in new_users:\n",
    "    \n",
    "    if new_user.lower() in current_users_lower:\n",
    "        print(f\"{new_user} is already taken. You will need to enter a new username.\")\n",
    "    else:\n",
    "        print(f\"{new_user} is available.\")\n"
   ]
  },
  {
   "cell_type": "markdown",
   "metadata": {},
   "source": [
    "5-11. Ordinal Numbers: Ordinal numbers indicate their position in a list, such as\n",
    "1st or 2nd. Most ordinal numbers end in th, except 1, 2, and 3.\n",
    "* Store the numbers 1 through 9 in a list.\n",
    "8 Loop through the list.\n",
    "* Use an if-elif-else chain inside the loop to print the proper ordinal ending\n",
    "for each number. Your output should read \"1st 2nd 3rd 4th 5th 6th 7th\n",
    "8th 9th\", and each result should be on a separate line."
   ]
  },
  {
   "cell_type": "code",
   "execution_count": null,
   "metadata": {},
   "outputs": [],
   "source": [
    "numbers:list[int] = list(range(1,10))\n",
    "\n",
    "for number in numbers:\n",
    "    if number == 1:\n",
    "        print(\"1st\")\n",
    "    elif number == 2:\n",
    "        print(\"2nd\")\n",
    "    elif number == 3:\n",
    "        print(\"3rd\")\n",
    "    else:\n",
    "        print(str(number) + \"th\")"
   ]
  }
 ],
 "metadata": {
  "kernelspec": {
   "display_name": "mypython12",
   "language": "python",
   "name": "python3"
  },
  "language_info": {
   "codemirror_mode": {
    "name": "ipython",
    "version": 3
   },
   "file_extension": ".py",
   "mimetype": "text/x-python",
   "name": "python",
   "nbconvert_exporter": "python",
   "pygments_lexer": "ipython3",
   "version": "3.12.0"
  }
 },
 "nbformat": 4,
 "nbformat_minor": 2
}
