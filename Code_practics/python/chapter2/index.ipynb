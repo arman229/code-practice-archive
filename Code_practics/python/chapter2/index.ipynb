{
 "cells": [
  {
   "cell_type": "markdown",
   "metadata": {},
   "source": [
    "# How python handle error in our code ?\n",
    "\n",
    "When an error occurs in your program, the Python interpreter does its\n",
    "best to help you figure out where the problem is. The interpreter provides\n",
    "a traceback when a program cannot run successfully. A traceback is a record\n",
    "of where the interpreter ran into trouble when trying to execute your code\n",
    "* Here is an example"
   ]
  },
  {
   "cell_type": "code",
   "execution_count": 3,
   "metadata": {},
   "outputs": [
    {
     "ename": "NameError",
     "evalue": "name 'my_names' is not defined",
     "output_type": "error",
     "traceback": [
      "\u001b[1;31m---------------------------------------------------------------------------\u001b[0m",
      "\u001b[1;31mNameError\u001b[0m                                 Traceback (most recent call last)",
      "Cell \u001b[1;32mIn[3], line 2\u001b[0m\n\u001b[0;32m      1\u001b[0m my_name:\u001b[38;5;28mstr\u001b[39m\u001b[38;5;241m=\u001b[39m\u001b[38;5;124m'\u001b[39m\u001b[38;5;124marman\u001b[39m\u001b[38;5;124m'\u001b[39m\n\u001b[1;32m----> 2\u001b[0m \u001b[38;5;28mprint\u001b[39m(\u001b[43mmy_names\u001b[49m)\n",
      "\u001b[1;31mNameError\u001b[0m: name 'my_names' is not defined"
     ]
    }
   ],
   "source": [
    "my_name:str='arman'\n",
    "print(my_names)"
   ]
  },
  {
   "cell_type": "markdown",
   "metadata": {},
   "source": []
  },
  {
   "cell_type": "code",
   "execution_count": 6,
   "metadata": {},
   "outputs": [
    {
     "name": "stdout",
     "output_type": "stream",
     "text": [
      "Arman muhammad ashraf\n",
      "Arman Muhammad Ashraf\n",
      "arman muhammad ashraf\n",
      "arman muhammad ashraf\n"
     ]
    }
   ],
   "source": [
    "my_name:str='arman Muhammad AshRaf'\n",
    "print(my_name.capitalize())\n",
    "print(my_name.title())\n",
    "print(my_name.casefold())\n",
    "print(my_name.lower())"
   ]
  },
  {
   "cell_type": "markdown",
   "metadata": {},
   "source": [
    "# add space\n",
    "\\t\n",
    "# Add line Break\n",
    "\\n\n",
    "# Add new"
   ]
  },
  {
   "cell_type": "markdown",
   "metadata": {},
   "source": [
    "# strip\n",
    "left strip right strip , strip"
   ]
  },
  {
   "cell_type": "code",
   "execution_count": 2,
   "metadata": {},
   "outputs": [
    {
     "name": "stdout",
     "output_type": "stream",
     "text": [
      "Arman   Ashraf\n",
      "    Arman   Ashraf\n",
      "Arman   Ashraf\n"
     ]
    }
   ],
   "source": [
    "my_name='    Arman   Ashraf'\n",
    "print(my_name.lstrip())\n",
    "print(my_name.rstrip())\n",
    "print(my_name.strip())"
   ]
  },
  {
   "cell_type": "markdown",
   "metadata": {},
   "source": [
    "# Remove Prefix"
   ]
  },
  {
   "cell_type": "code",
   "execution_count": 3,
   "metadata": {},
   "outputs": [
    {
     "name": "stdout",
     "output_type": "stream",
     "text": [
      "w3school\n"
     ]
    }
   ],
   "source": [
    "urlOfWebsire:str='https://w3school';\n",
    "print(urlOfWebsire.removeprefix('https://'))"
   ]
  },
  {
   "cell_type": "markdown",
   "metadata": {},
   "source": [
    "# Underscores in Numbers"
   ]
  },
  {
   "cell_type": "code",
   "execution_count": 4,
   "metadata": {},
   "outputs": [
    {
     "name": "stdout",
     "output_type": "stream",
     "text": [
      "20000000\n"
     ]
    }
   ],
   "source": [
    "longNumber:int=200_000_00\n",
    "print(longNumber)"
   ]
  },
  {
   "cell_type": "markdown",
   "metadata": {},
   "source": [
    "# Multiple Assignment"
   ]
  },
  {
   "cell_type": "code",
   "execution_count": 6,
   "metadata": {},
   "outputs": [
    {
     "name": "stdout",
     "output_type": "stream",
     "text": [
      " value of x is 3\n",
      " value of y is 2\n",
      " value of z is 1\n"
     ]
    }
   ],
   "source": [
    "x,y,z=3,2,1\n",
    "\n",
    "print(f' value of x is {x}')\n",
    "\n",
    "print(f' value of y is {y}')\n",
    "\n",
    "print(f' value of z is {z}')"
   ]
  },
  {
   "cell_type": "markdown",
   "metadata": {},
   "source": [
    "# Constant"
   ]
  },
  {
   "cell_type": "code",
   "execution_count": 13,
   "metadata": {},
   "outputs": [
    {
     "name": "stdout",
     "output_type": "stream",
     "text": [
      "6\n"
     ]
    }
   ],
   "source": [
    "MAXD:int=3\n",
    "MAXD=4\n",
    "print(f'{MAXD+2}')\n"
   ]
  }
 ],
 "metadata": {
  "kernelspec": {
   "display_name": "mypython12",
   "language": "python",
   "name": "python3"
  },
  "language_info": {
   "codemirror_mode": {
    "name": "ipython",
    "version": 3
   },
   "file_extension": ".py",
   "mimetype": "text/x-python",
   "name": "python",
   "nbconvert_exporter": "python",
   "pygments_lexer": "ipython3",
   "version": "3.12.0"
  }
 },
 "nbformat": 4,
 "nbformat_minor": 2
}
