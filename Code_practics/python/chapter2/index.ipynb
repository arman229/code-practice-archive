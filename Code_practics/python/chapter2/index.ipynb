{
 "cells": [
  {
   "cell_type": "markdown",
   "metadata": {},
   "source": [
    "# How python handle error in our code ?\n",
    "\n",
    "When an error occurs in your program, the Python interpreter does its\n",
    "best to help you figure out where the problem is. The interpreter provides\n",
    "a traceback when a program cannot run successfully. A traceback is a record\n",
    "of where the interpreter ran into trouble when trying to execute your code\n",
    "* Here is an example"
   ]
  },
  {
   "cell_type": "code",
   "execution_count": 3,
   "metadata": {},
   "outputs": [
    {
     "ename": "NameError",
     "evalue": "name 'my_names' is not defined",
     "output_type": "error",
     "traceback": [
      "\u001b[1;31m---------------------------------------------------------------------------\u001b[0m",
      "\u001b[1;31mNameError\u001b[0m                                 Traceback (most recent call last)",
      "Cell \u001b[1;32mIn[3], line 2\u001b[0m\n\u001b[0;32m      1\u001b[0m my_name:\u001b[38;5;28mstr\u001b[39m\u001b[38;5;241m=\u001b[39m\u001b[38;5;124m'\u001b[39m\u001b[38;5;124marman\u001b[39m\u001b[38;5;124m'\u001b[39m\n\u001b[1;32m----> 2\u001b[0m \u001b[38;5;28mprint\u001b[39m(\u001b[43mmy_names\u001b[49m)\n",
      "\u001b[1;31mNameError\u001b[0m: name 'my_names' is not defined"
     ]
    }
   ],
   "source": [
    "my_name:str='arman'\n",
    "print(my_names)"
   ]
  },
  {
   "cell_type": "markdown",
   "metadata": {},
   "source": []
  },
  {
   "cell_type": "code",
   "execution_count": 6,
   "metadata": {},
   "outputs": [
    {
     "name": "stdout",
     "output_type": "stream",
     "text": [
      "Arman muhammad ashraf\n",
      "Arman Muhammad Ashraf\n",
      "arman muhammad ashraf\n",
      "arman muhammad ashraf\n"
     ]
    }
   ],
   "source": [
    "my_name:str='arman Muhammad AshRaf'\n",
    "print(my_name.capitalize())\n",
    "print(my_name.title())\n",
    "print(my_name.casefold())\n",
    "print(my_name.lower())"
   ]
  },
  {
   "cell_type": "markdown",
   "metadata": {},
   "source": [
    "# add space\n",
    "\\t\n",
    "# Add line Break\n",
    "\\n\n",
    "# Add new"
   ]
  },
  {
   "cell_type": "markdown",
   "metadata": {},
   "source": [
    "# strip\n",
    "left strip right strip , strip"
   ]
  },
  {
   "cell_type": "code",
   "execution_count": 2,
   "metadata": {},
   "outputs": [
    {
     "name": "stdout",
     "output_type": "stream",
     "text": [
      "Arman   Ashraf\n",
      "    Arman   Ashraf\n",
      "Arman   Ashraf\n"
     ]
    }
   ],
   "source": [
    "my_name='    Arman   Ashraf'\n",
    "print(my_name.lstrip())\n",
    "print(my_name.rstrip())\n",
    "print(my_name.strip())"
   ]
  },
  {
   "cell_type": "markdown",
   "metadata": {},
   "source": [
    "# Remove Prefix"
   ]
  },
  {
   "cell_type": "code",
   "execution_count": 3,
   "metadata": {},
   "outputs": [
    {
     "name": "stdout",
     "output_type": "stream",
     "text": [
      "w3school\n"
     ]
    }
   ],
   "source": [
    "urlOfWebsire:str='https://w3school';\n",
    "print(urlOfWebsire.removeprefix('https://'))"
   ]
  },
  {
   "cell_type": "markdown",
   "metadata": {},
   "source": [
    "# Underscores in Numbers"
   ]
  },
  {
   "cell_type": "code",
   "execution_count": 4,
   "metadata": {},
   "outputs": [
    {
     "name": "stdout",
     "output_type": "stream",
     "text": [
      "20000000\n"
     ]
    }
   ],
   "source": [
    "longNumber:int=200_000_00\n",
    "print(longNumber)"
   ]
  },
  {
   "cell_type": "markdown",
   "metadata": {},
   "source": [
    "# Multiple Assignment"
   ]
  },
  {
   "cell_type": "code",
   "execution_count": 14,
   "metadata": {},
   "outputs": [
    {
     "name": "stdout",
     "output_type": "stream",
     "text": [
      " value of x is 3\n",
      " value of y is True\n",
      " value of z is ali\n"
     ]
    }
   ],
   "source": [
    "x:int\n",
    "y:bool\n",
    "z:str\n",
    "\n",
    "x,y,z=3,True,'ali'\n",
    "\n",
    "print(f' value of x is {x}')\n",
    "\n",
    "print(f' value of y is {y}')\n",
    "\n",
    "print(f' value of z is {z}')"
   ]
  },
  {
   "cell_type": "markdown",
   "metadata": {},
   "source": [
    "# Constant"
   ]
  },
  {
   "cell_type": "code",
   "execution_count": 15,
   "metadata": {},
   "outputs": [
    {
     "name": "stdout",
     "output_type": "stream",
     "text": [
      "6\n"
     ]
    }
   ],
   "source": [
    "MAXD:int=3\n",
    "MAXD+=3\n",
    "print(f'{MAXD}')\n"
   ]
  },
  {
   "cell_type": "markdown",
   "metadata": {},
   "source": [
    "# Triple Single/Double Quote"
   ]
  },
  {
   "cell_type": "code",
   "execution_count": 12,
   "metadata": {},
   "outputs": [
    {
     "name": "stdout",
     "output_type": "stream",
     "text": [
      "my\n",
      "name \n",
      "is \n",
      "arman\n",
      ".\n",
      "\n"
     ]
    }
   ],
   "source": [
    "bioa:str = '''my\n",
    "name \n",
    "is \n",
    "arman\n",
    ".\n",
    "'''\n",
    "print(bioa)"
   ]
  },
  {
   "cell_type": "markdown",
   "metadata": {},
   "source": [
    "# String Formating"
   ]
  },
  {
   "cell_type": "code",
   "execution_count": 17,
   "metadata": {},
   "outputs": [
    {
     "name": "stdout",
     "output_type": "stream",
     "text": [
      "My name is Arman and age is 22 and i have completed 2 quartar.\n"
     ]
    }
   ],
   "source": [
    "my_name:str = 'Arman'\n",
    "my_age:int = 22\n",
    "quartar:int=2\n",
    "print('My name is %s and age is %d and i have completed %d quartars.' %(my_name,my_age,quartar))"
   ]
  },
  {
   "cell_type": "markdown",
   "metadata": {},
   "source": [
    "# Using Format method"
   ]
  },
  {
   "cell_type": "code",
   "execution_count": 18,
   "metadata": {},
   "outputs": [
    {
     "name": "stdout",
     "output_type": "stream",
     "text": [
      "My name is Arman and age is 22 and i have completed 2 quartars.\n"
     ]
    }
   ],
   "source": [
    "my_name:str = 'Arman'\n",
    "my_age:int = 22\n",
    "quartar:int=2\n",
    "print('My name is {} and age is {} and i have completed {} quartars.'.format(my_name,my_age,quartar))"
   ]
  },
  {
   "cell_type": "code",
   "execution_count": 19,
   "metadata": {},
   "outputs": [
    {
     "name": "stdout",
     "output_type": "stream",
     "text": [
      "Value of pi to 2 decimal places: 3.14\n"
     ]
    }
   ],
   "source": [
    "pi: float = 3.14159\n",
    "print(f\"Value of pi to 2 decimal places: {pi:.2f}\")"
   ]
  },
  {
   "cell_type": "markdown",
   "metadata": {},
   "source": [
    "* Note: Snake case for variable name, Like  my_name:str = 'Arman'\n",
    "* Note: Upper Snake case for a Constant Name, Like MY_CONSTANT_VALUE:int = 300"
   ]
  },
  {
   "cell_type": "code",
   "execution_count": 22,
   "metadata": {},
   "outputs": [
    {
     "name": "stdout",
     "output_type": "stream",
     "text": [
      "My name isarmanMuhammad Ashrafand my age is22\n"
     ]
    }
   ],
   "source": [
    "# Concatenat \n",
    "my_name:str = 'arman'\n",
    "father_name:str = 'Muhammad Ashraf'\n",
    "my_age:int = 22\n",
    "print('My name is' + my_name + father_name + 'and my age is' + str(my_age) )"
   ]
  },
  {
   "cell_type": "code",
   "execution_count": 42,
   "metadata": {},
   "outputs": [
    {
     "name": "stdout",
     "output_type": "stream",
     "text": [
      "My name is arman\n",
      "father Name is Muhammad Ashraf\n",
      "and my age is 22\n"
     ]
    }
   ],
   "source": [
    "# Concatenat \n",
    "my_name:str = 'arman'\n",
    "father_name:str = 'Muhammad Ashraf'\n",
    "my_age:int = 22\n",
    "data:str='My name is ' +\\\n",
    "my_name+'\\nfather Name is ' + \\\n",
    "father_name + '\\nand my age is ' + \\\n",
    "str(my_age) \n",
    "print(data)"
   ]
  },
  {
   "cell_type": "code",
   "execution_count": 44,
   "metadata": {},
   "outputs": [
    {
     "name": "stdout",
     "output_type": "stream",
     "text": [
      "My name is arman\n",
      "father Name is  Muhammad Ashraf\n",
      "and my age is  22 \n"
     ]
    }
   ],
   "source": [
    "# We can print the result by using the f triple string ('''''' or \"\"\"\"\"\")\n",
    "my_name:str = 'arman'\n",
    "father_name:str = 'Muhammad Ashraf'\n",
    "my_age:int = 22\n",
    "data:str=f'''My name is {my_name}\n",
    "father Name is  {father_name}\n",
    "and my age is  {my_age} '''\n",
    "print(data)"
   ]
  },
  {
   "cell_type": "code",
   "execution_count": null,
   "metadata": {},
   "outputs": [],
   "source": [
    "#\\   line continue\n",
    "print(3 \\\n",
    "+4 \\\n",
    "    -3)"
   ]
  },
  {
   "cell_type": "code",
   "execution_count": 55,
   "metadata": {},
   "outputs": [
    {
     "name": "stdout",
     "output_type": "stream",
     "text": [
      "student name Arman Ashraf Arman Ashraf ali\n"
     ]
    }
   ],
   "source": [
    "from jinja2 import Template\n",
    "name:str = \"Arman Ashraf\"\n",
    "names:str = \"Arman Ashraf ali\"\n",
    "template = Template(\"student name {{ name }} {{names}}\").render(name=name,names=names)\n",
    "print(template)\n"
   ]
  },
  {
   "cell_type": "code",
   "execution_count": 60,
   "metadata": {},
   "outputs": [
    {
     "name": "stdout",
     "output_type": "stream",
     "text": [
      "Sum of 10  and  22  is 32\n"
     ]
    }
   ],
   "source": [
    "a:int=10\n",
    "b:int=22\n",
    "\n",
    "print('Sum of %d  and  %d  is %d'%(a,b,(10+22)))"
   ]
  },
  {
   "cell_type": "code",
   "execution_count": 61,
   "metadata": {},
   "outputs": [
    {
     "name": "stdout",
     "output_type": "stream",
     "text": [
      "Sum of 10  and  22  is 32\n"
     ]
    }
   ],
   "source": [
    "a:int=10\n",
    "b:int=22\n",
    "\n",
    "print('Sum of {}  and  {}  is {}'.format(a,b,(a+b)))"
   ]
  },
  {
   "cell_type": "code",
   "execution_count": 63,
   "metadata": {},
   "outputs": [
    {
     "name": "stdout",
     "output_type": "stream",
     "text": [
      "Sum of b=22  and  a=10  is 32\n"
     ]
    }
   ],
   "source": [
    "a:int=10\n",
    "b:int=22\n",
    "\n",
    "print('Sum of b={1}  and  a={0}  is {2}'.format(a,b,(a+b)))"
   ]
  },
  {
   "cell_type": "code",
   "execution_count": 64,
   "metadata": {},
   "outputs": [
    {
     "name": "stdout",
     "output_type": "stream",
     "text": [
      "Sum of 10  and  22  is 32\n"
     ]
    }
   ],
   "source": [
    "a:int=10\n",
    "b:int=22\n",
    "\n",
    "print('Sum of {aa}  and  {bb}  is {cc}'.format(aa=a,bb=b,cc=(a+b)))"
   ]
  },
  {
   "cell_type": "markdown",
   "metadata": {},
   "source": [
    "* Difference between print and display in python?\n",
    "print() is a built-in Python function used to display text or other data on the console or standard output.\n",
    "display() is used in interactive environments like Jupyter notebooks to render and display rich content such as dataframes, plots, and images.(beautiful)\n"
   ]
  },
  {
   "cell_type": "code",
   "execution_count": 70,
   "metadata": {},
   "outputs": [
    {
     "name": "stdout",
     "output_type": "stream",
     "text": [
      "    Name  Age\n",
      "0    Ali   25\n",
      "1   zain   30\n",
      "2  arman   35\n"
     ]
    }
   ],
   "source": [
    "\n",
    "from typing import Dict ,List\n",
    "import pandas as pd\n",
    "data:Dict[str,List[str]] = {'Name': ['Ali', 'zain', 'arman'], 'Age': [25, 30, 35]}\n",
    "df = pd.DataFrame(data)\n",
    "print(df)\n"
   ]
  },
  {
   "cell_type": "code",
   "execution_count": 71,
   "metadata": {},
   "outputs": [
    {
     "data": {
      "text/html": [
       "<div>\n",
       "<style scoped>\n",
       "    .dataframe tbody tr th:only-of-type {\n",
       "        vertical-align: middle;\n",
       "    }\n",
       "\n",
       "    .dataframe tbody tr th {\n",
       "        vertical-align: top;\n",
       "    }\n",
       "\n",
       "    .dataframe thead th {\n",
       "        text-align: right;\n",
       "    }\n",
       "</style>\n",
       "<table border=\"1\" class=\"dataframe\">\n",
       "  <thead>\n",
       "    <tr style=\"text-align: right;\">\n",
       "      <th></th>\n",
       "      <th>Name</th>\n",
       "      <th>Age</th>\n",
       "    </tr>\n",
       "  </thead>\n",
       "  <tbody>\n",
       "    <tr>\n",
       "      <th>0</th>\n",
       "      <td>Ali</td>\n",
       "      <td>25</td>\n",
       "    </tr>\n",
       "    <tr>\n",
       "      <th>1</th>\n",
       "      <td>zain</td>\n",
       "      <td>30</td>\n",
       "    </tr>\n",
       "    <tr>\n",
       "      <th>2</th>\n",
       "      <td>arman</td>\n",
       "      <td>35</td>\n",
       "    </tr>\n",
       "  </tbody>\n",
       "</table>\n",
       "</div>"
      ],
      "text/plain": [
       "    Name  Age\n",
       "0    Ali   25\n",
       "1   zain   30\n",
       "2  arman   35"
      ]
     },
     "metadata": {},
     "output_type": "display_data"
    }
   ],
   "source": [
    "\n",
    "from typing import Dict ,List\n",
    "import pandas as pd\n",
    "data:Dict[str,List[str]] = {'Name': ['Ali', 'zain', 'arman'], 'Age': [25, 30, 35]}\n",
    "df = pd.DataFrame(data)\n",
    "display(df)\n"
   ]
  },
  {
   "cell_type": "markdown",
   "metadata": {},
   "source": [
    "sub=substitute \n",
    "re=regular Expression\n",
    " re.sub(pattarn ,replacement, variable)"
   ]
  },
  {
   "cell_type": "code",
   "execution_count": 89,
   "metadata": {},
   "outputs": [
    {
     "data": {
      "text/plain": [
       "'Arman           Muhammad     Ashraf      '"
      ]
     },
     "metadata": {},
     "output_type": "display_data"
    },
    {
     "data": {
      "text/plain": [
       "'Arman Muhammad Ashraf '"
      ]
     },
     "metadata": {},
     "output_type": "display_data"
    }
   ],
   "source": [
    "import re\n",
    "name : str = \"Arman           Muhammad     Ashraf      \"\n",
    "display(name)\n",
    "final_output : str = re.sub(' {2,100}',' ', name)\n",
    "display(final_output)"
   ]
  },
  {
   "cell_type": "code",
   "execution_count": 91,
   "metadata": {},
   "outputs": [
    {
     "data": {
      "text/html": [
       "<div>\n",
       "<style scoped>\n",
       "    .dataframe tbody tr th:only-of-type {\n",
       "        vertical-align: middle;\n",
       "    }\n",
       "\n",
       "    .dataframe tbody tr th {\n",
       "        vertical-align: top;\n",
       "    }\n",
       "\n",
       "    .dataframe thead th {\n",
       "        text-align: right;\n",
       "    }\n",
       "</style>\n",
       "<table border=\"1\" class=\"dataframe\">\n",
       "  <thead>\n",
       "    <tr style=\"text-align: right;\">\n",
       "      <th></th>\n",
       "      <th>Operator</th>\n",
       "      <th>Name</th>\n",
       "      <th>Example</th>\n",
       "      <th>Try it</th>\n",
       "    </tr>\n",
       "  </thead>\n",
       "  <tbody>\n",
       "    <tr>\n",
       "      <th>0</th>\n",
       "      <td>+</td>\n",
       "      <td>Addition</td>\n",
       "      <td>x + y</td>\n",
       "      <td>Try it »</td>\n",
       "    </tr>\n",
       "    <tr>\n",
       "      <th>1</th>\n",
       "      <td>-</td>\n",
       "      <td>Subtraction</td>\n",
       "      <td>x - y</td>\n",
       "      <td>Try it »</td>\n",
       "    </tr>\n",
       "    <tr>\n",
       "      <th>2</th>\n",
       "      <td>*</td>\n",
       "      <td>Multiplication</td>\n",
       "      <td>x * y</td>\n",
       "      <td>Try it »</td>\n",
       "    </tr>\n",
       "    <tr>\n",
       "      <th>3</th>\n",
       "      <td>/</td>\n",
       "      <td>Division</td>\n",
       "      <td>x / y</td>\n",
       "      <td>Try it »</td>\n",
       "    </tr>\n",
       "    <tr>\n",
       "      <th>4</th>\n",
       "      <td>%</td>\n",
       "      <td>Modulus</td>\n",
       "      <td>x % y</td>\n",
       "      <td>Try it »</td>\n",
       "    </tr>\n",
       "    <tr>\n",
       "      <th>5</th>\n",
       "      <td>**</td>\n",
       "      <td>Exponentiation</td>\n",
       "      <td>x ** y</td>\n",
       "      <td>Try it »</td>\n",
       "    </tr>\n",
       "    <tr>\n",
       "      <th>6</th>\n",
       "      <td>//</td>\n",
       "      <td>Floor division</td>\n",
       "      <td>x // y</td>\n",
       "      <td>Try it »</td>\n",
       "    </tr>\n",
       "  </tbody>\n",
       "</table>\n",
       "</div>"
      ],
      "text/plain": [
       "  Operator            Name Example    Try it\n",
       "0        +        Addition   x + y  Try it »\n",
       "1        -     Subtraction   x - y  Try it »\n",
       "2        *  Multiplication   x * y  Try it »\n",
       "3        /        Division   x / y  Try it »\n",
       "4        %         Modulus   x % y  Try it »\n",
       "5       **  Exponentiation  x ** y  Try it »\n",
       "6       //  Floor division  x // y  Try it »"
      ]
     },
     "execution_count": 91,
     "metadata": {},
     "output_type": "execute_result"
    }
   ],
   "source": [
    "table = pd.read_html('https://www.w3schools.com/python/python_operators.asp')\n",
    "table[0]"
   ]
  },
  {
   "cell_type": "markdown",
   "metadata": {},
   "source": [
    "# walrus operator :\n",
    "The walrus operator (:=) in Python is used primarily for readability and convenience, especially in situations where you want to both assign a value to a variable and use that value in an expression at the same time. "
   ]
  },
  {
   "cell_type": "code",
   "execution_count": 97,
   "metadata": {},
   "outputs": [
    {
     "name": "stdout",
     "output_type": "stream",
     "text": [
      "2\n"
     ]
    }
   ],
   "source": [
    "a:int=3\n",
    "print(b:=2)\n",
    "  "
   ]
  },
  {
   "cell_type": "code",
   "execution_count": 100,
   "metadata": {},
   "outputs": [
    {
     "data": {
      "text/plain": [
       "[0, 1, 4, 9, 16, 25, 36, 49]"
      ]
     },
     "metadata": {},
     "output_type": "display_data"
    }
   ],
   "source": [
    "square = [sqrt for x in range(10) if (sqrt:=x*x)<50]\n",
    "display(square)"
   ]
  },
  {
   "cell_type": "markdown",
   "metadata": {},
   "source": [
    "# ord() chr()"
   ]
  },
  {
   "cell_type": "code",
   "execution_count": 101,
   "metadata": {},
   "outputs": [
    {
     "name": "stdout",
     "output_type": "stream",
     "text": [
      "65\n",
      ",\n"
     ]
    }
   ],
   "source": [
    "print(ord('A'))\n",
    "print(chr(65))"
   ]
  },
  {
   "cell_type": "markdown",
   "metadata": {},
   "source": [
    "# Python logical 'or','and','not' Operator\n",
    "and=lazami\n",
    "or=optional"
   ]
  },
  {
   "cell_type": "code",
   "execution_count": 103,
   "metadata": {},
   "outputs": [
    {
     "name": "stdout",
     "output_type": "stream",
     "text": [
      "True\n",
      "True\n",
      "True\n"
     ]
    }
   ],
   "source": [
    "\n",
    "name:str = 'Arman '\n",
    "print(True or False)\n",
    "print(True and True)\n",
    "\n",
    "print(not name=='arman')"
   ]
  },
  {
   "cell_type": "markdown",
   "metadata": {},
   "source": [
    "# is and is not "
   ]
  },
  {
   "cell_type": "code",
   "execution_count": 106,
   "metadata": {},
   "outputs": [
    {
     "name": "stdout",
     "output_type": "stream",
     "text": [
      "140714562175152\n",
      "1663606169424\n"
     ]
    },
    {
     "data": {
      "text/plain": [
       "False"
      ]
     },
     "execution_count": 106,
     "metadata": {},
     "output_type": "execute_result"
    }
   ],
   "source": [
    "a : str = 'abc'\n",
    "x : str = 'xyz'\n",
    "\n",
    "print(id(a))\n",
    "print(id(x))\n",
    "\n",
    "a is x\n"
   ]
  },
  {
   "cell_type": "code",
   "execution_count": 108,
   "metadata": {},
   "outputs": [
    {
     "name": "stdout",
     "output_type": "stream",
     "text": [
      "140714562175152\n",
      "140714562175152\n"
     ]
    },
    {
     "data": {
      "text/plain": [
       "True"
      ]
     },
     "execution_count": 108,
     "metadata": {},
     "output_type": "execute_result"
    }
   ],
   "source": [
    "b : str = 'abc'\n",
    "y : str = 'abc'\n",
    "\n",
    "print(id(b))\n",
    "print(id(y))\n",
    "b is y\n",
    "# b is not y"
   ]
  },
  {
   "cell_type": "markdown",
   "metadata": {},
   "source": [
    "# Python Membership Operators (in not in)"
   ]
  },
  {
   "cell_type": "code",
   "execution_count": null,
   "metadata": {},
   "outputs": [],
   "source": []
  }
 ],
 "metadata": {
  "kernelspec": {
   "display_name": "mypython12",
   "language": "python",
   "name": "python3"
  },
  "language_info": {
   "codemirror_mode": {
    "name": "ipython",
    "version": 3
   },
   "file_extension": ".py",
   "mimetype": "text/x-python",
   "name": "python",
   "nbconvert_exporter": "python",
   "pygments_lexer": "ipython3",
   "version": "3.12.0"
  }
 },
 "nbformat": 4,
 "nbformat_minor": 2
}
