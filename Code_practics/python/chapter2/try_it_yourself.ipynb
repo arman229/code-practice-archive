{
 "cells": [
  {
   "cell_type": "code",
   "execution_count": null,
   "metadata": {},
   "outputs": [],
   "source": [
    "# Try It Yourself"
   ]
  },
  {
   "cell_type": "markdown",
   "metadata": {},
   "source": [
    "2-1. Simple Message: Assign a message to a variable, and then print that\n",
    "message."
   ]
  },
  {
   "cell_type": "code",
   "execution_count": 3,
   "metadata": {},
   "outputs": [
    {
     "name": "stdout",
     "output_type": "stream",
     "text": [
      "execdd\n"
     ]
    }
   ],
   "source": [
    "message:str='My name is Arman '\n",
    "print(message)"
   ]
  },
  {
   "cell_type": "markdown",
   "metadata": {},
   "source": [
    "2-2. Simple Messages: Assign a message to a variable, and print that message.\n",
    "Then change the value of the variable to a new message, and print the new\n",
    "message."
   ]
  },
  {
   "cell_type": "code",
   "execution_count": 5,
   "metadata": {},
   "outputs": [
    {
     "name": "stdout",
     "output_type": "stream",
     "text": [
      "I have completed Bachelor's degree in Mathematics.\n",
      "My name is Arman.I have completed Bachelor's degree in Mathematics.\n"
     ]
    }
   ],
   "source": [
    "message:str='I have completed Bachelor\\'s degree in Mathematics.'\n",
    "print(message)\n",
    "new_message:str=f'My name is Arman.{message}'\n",
    "print(new_message)"
   ]
  }
 ],
 "metadata": {
  "kernelspec": {
   "display_name": "mypython12",
   "language": "python",
   "name": "python3"
  },
  "language_info": {
   "codemirror_mode": {
    "name": "ipython",
    "version": 3
   },
   "file_extension": ".py",
   "mimetype": "text/x-python",
   "name": "python",
   "nbconvert_exporter": "python",
   "pygments_lexer": "ipython3",
   "version": "3.12.0"
  }
 },
 "nbformat": 4,
 "nbformat_minor": 2
}
