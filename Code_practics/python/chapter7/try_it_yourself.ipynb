{
 "cells": [
  {
   "cell_type": "markdown",
   "metadata": {},
   "source": [
    "7-1. Rental Car: Write a program that asks the user what kind of rental car they\n",
    "would like. Print a message about that car, such as “Let me see if I can find you\n",
    "a Subaru.”"
   ]
  },
  {
   "cell_type": "code",
   "execution_count": null,
   "metadata": {},
   "outputs": [],
   "source": [
    "rental_car:str = input('What kind of car would you like?')\n",
    "print(f\"Let me see if I can find you a {rental_car.title()}.\")"
   ]
  },
  {
   "cell_type": "markdown",
   "metadata": {},
   "source": [
    "7-2. Restaurant Seating: Write a program that asks the user how many people\n",
    "are in their dinner group. If the answer is more than eight, print a message saying they’ll have to wait for a table. Otherwise, report that their table is ready.\n"
   ]
  },
  {
   "cell_type": "code",
   "execution_count": 2,
   "metadata": {},
   "outputs": [
    {
     "name": "stdout",
     "output_type": "stream",
     "text": [
      "I'm sorry, you'll have to wait for a table.\n"
     ]
    }
   ],
   "source": [
    "seating:int = int(input('How many people are in your dinner party tonight?'))\n",
    "if seating > 8:\n",
    "    print(\"I'm sorry, you'll have to wait for a table.\")\n",
    "else:\n",
    "    print(\"Your table is ready.\")\n",
    "     \n",
    " "
   ]
  },
  {
   "cell_type": "markdown",
   "metadata": {},
   "source": [
    "7-3. Multiples of Ten: Ask the user for a number, and then report whether the\n",
    "number is a multiple of 10 or not."
   ]
  },
  {
   "cell_type": "code",
   "execution_count": 3,
   "metadata": {},
   "outputs": [
    {
     "name": "stdout",
     "output_type": "stream",
     "text": [
      "3 is not a multiple of 10.\n"
     ]
    }
   ],
   "source": [
    "multiples:int = int(input('Give me a number, please:'))\n",
    "if (multiples % 10==0):\n",
    "    print(f\"{multiples} is a multiple of 10.\")\n",
    "else:\n",
    "    print(f\"{multiples} is not a multiple of 10.\")\n",
    "\n",
    " "
   ]
  }
 ],
 "metadata": {
  "kernelspec": {
   "display_name": "mypython12",
   "language": "python",
   "name": "python3"
  },
  "language_info": {
   "codemirror_mode": {
    "name": "ipython",
    "version": 3
   },
   "file_extension": ".py",
   "mimetype": "text/x-python",
   "name": "python",
   "nbconvert_exporter": "python",
   "pygments_lexer": "ipython3",
   "version": "3.12.0"
  }
 },
 "nbformat": 4,
 "nbformat_minor": 2
}
