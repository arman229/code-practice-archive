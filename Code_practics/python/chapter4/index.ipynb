{
 "cells": [
  {
   "cell_type": "markdown",
   "metadata": {},
   "source": [
    "* for loop we can get element in own choice by using the slicing "
   ]
  },
  {
   "cell_type": "code",
   "execution_count": 3,
   "metadata": {},
   "outputs": [
    {
     "name": "stdout",
     "output_type": "stream",
     "text": [
      "ali is my friend\n",
      "zain is my friend\n",
      "sameer is my friend\n"
     ]
    }
   ],
   "source": [
    "my_friends:list[str] = ['ali','zain','sameer']\n",
    "for my_friend in my_friends[::]:\n",
    "    print(f'{my_friend} is my friend')"
   ]
  },
  {
   "cell_type": "markdown",
   "metadata": {},
   "source": [
    "* Note:in loop last value is global can accessable outside of the loop"
   ]
  },
  {
   "cell_type": "code",
   "execution_count": 19,
   "metadata": {},
   "outputs": [
    {
     "name": "stdout",
     "output_type": "stream",
     "text": [
      "sameer\n",
      "zain\n",
      "ali\n",
      "sameer\n"
     ]
    }
   ],
   "source": [
    "# while loop in python \n",
    "my_friends:list[str] = ['ali','zain','sameer'] \n",
    "my_count:int = len(my_friends)-1\n",
    "while my_count>=0:\n",
    "    print(my_friends[my_count])\n",
    "    my_count-=1\n",
    "print(my_friends[my_count])    "
   ]
  },
  {
   "cell_type": "code",
   "execution_count": 12,
   "metadata": {},
   "outputs": [
    {
     "name": "stdout",
     "output_type": "stream",
     "text": [
      "ali\n",
      "zain\n",
      "sameer\n",
      "This is the last line of our code\n",
      "sameer\n"
     ]
    }
   ],
   "source": [
    "# We can use `else` with any block, such as a `for` loop.\n",
    "# Note: The else block only prints the message if the loop completes normally.\n",
    "#However, in this case, the loop breaks after the first iteration, so the else block is not executed.\n",
    "\n",
    "my_friends:list[str] = ['ali','zain','sameer'] \n",
    "\n",
    "for my_friend in my_friends:\n",
    "    print(my_friend)\n",
    "    break\n",
    "else:\n",
    "    print('This is the last line of our code')\n",
    "print(my_friend)    \n",
    "     \n"
   ]
  },
  {
   "cell_type": "code",
   "execution_count": null,
   "metadata": {},
   "outputs": [],
   "source": [
    " # Note that in a `for` loop, the last value of the loop can be accessed outside of the loop, as shown below.\n",
    "my_friends:list[str] = ['ali','zain','sameer'] \n",
    "\n",
    "for my_friend in my_friends:\n",
    "    print(my_friend) \n",
    "print(my_friend)     "
   ]
  },
  {
   "cell_type": "code",
   "execution_count": 4,
   "metadata": {},
   "outputs": [
    {
     "name": "stdout",
     "output_type": "stream",
     "text": [
      "Valid User\n"
     ]
    }
   ],
   "source": [
    "data_base : list[tuple[str,str]] = [(\"qasim\",'123'),\n",
    "                                    (\"sirzia\",'345'),\n",
    "                                    ('ikhlas','789')\n",
    "                                    ]\n",
    "input_user : str = input(\"Enter user name\")\n",
    "input_password : str = input(\"Enter user password\")\n",
    "\n",
    "\n",
    "\n",
    "for row in data_base:\n",
    "    user, password = row # (\"qasim\",'123')\n",
    "    if input_user == user and input_password == password:\n",
    "        print(\"Valid User\")\n",
    "        break\n",
    "else:\n",
    "    print(\"Not found or Invalid user name\")\n",
    "    "
   ]
  },
  {
   "cell_type": "code",
   "execution_count": 22,
   "metadata": {},
   "outputs": [
    {
     "data": {
      "text/plain": [
       "[(0, 'HTML5'), (1, 'CSS'), (2, 'TypeScript'), (3, 'React')]"
      ]
     },
     "execution_count": 22,
     "metadata": {},
     "output_type": "execute_result"
    }
   ],
   "source": [
    "# Note that in Jupyter Notebook, the last statement always returns, but not in Python.\n",
    "language_list:list[str] = ['HTML5','CSS','TypeScript','React']\n",
    "list(enumerate(language_list)) # Without print we can see the list but in the Python(.py)\n"
   ]
  },
  {
   "cell_type": "markdown",
   "metadata": {},
   "source": [
    "# Numbers with loop\n",
    " range(start,end,step)"
   ]
  },
  {
   "cell_type": "markdown",
   "metadata": {},
   "source": [
    "# Range function \n",
    "* range(start, stop, step)\n",
    "##### Where:\n",
    "##### start: The starting value of the range (inclusive). If omitted, it defaults to 0.\n",
    "##### stop: The ending value of the range (exclusive). This is a required argument.\n",
    "##### step: The increment (or decrement) between each number in the sequence. If omitted, it defaults to 1.\n",
    "In Python, the range() function returns a sequence of numbers according to the specified start, stop, and step arguments. However, it doesn't produce any output by itself; it simply generates the sequence that can be iterated over using a loop or converted into a list.\n",
    "\n",
    "In your code, range(0, 2) generates a sequence of numbers from 0 to 1 (inclusive of the start value and exclusive of the stop value), but it doesn't print anything directly. It's just a generator for the numbers 0 and 1."
   ]
  },
  {
   "cell_type": "code",
   "execution_count": 26,
   "metadata": {},
   "outputs": [
    {
     "name": "stdout",
     "output_type": "stream",
     "text": [
      "0\n",
      "1\n",
      "2\n",
      "3\n",
      "4\n",
      "[0, 1]\n"
     ]
    }
   ],
   "source": [
    "x=list(range(0,2))\n",
    "for i in range(5):\n",
    "    print(i)\n",
    "print(x)"
   ]
  },
  {
   "cell_type": "code",
   "execution_count": 29,
   "metadata": {},
   "outputs": [
    {
     "name": "stdout",
     "output_type": "stream",
     "text": [
      "1\n",
      "2\n",
      "3\n",
      "4\n",
      "5\n",
      "1\n",
      "2\n",
      "3\n",
      "4\n",
      "5\n"
     ]
    }
   ],
   "source": [
    "for i in 1,2,3,4,5:\n",
    "    print(i)\n",
    "# By using the range function\n",
    "for i in range(1,6):\n",
    "    print(i)        "
   ]
  },
  {
   "cell_type": "markdown",
   "metadata": {},
   "source": [
    "## List comprehensions\n",
    "\n",
    "List comprehensions in Python provide a concise way to create lists. They are a compact and readable way to generate lists from existing lists or other iterable objects, applying some transformation or filtering to each element.\n",
    "\n",
    "The basic syntax of a list comprehension is:\n",
    " \n",
    "    [expression for item in iterable if condition]\n",
    "* expression is the expression to be evaluated and added to the new list.\n",
    "* item is the variable representing each item in the iterable.\n",
    "* iterable is the iterable object (such as a list, tuple, or range) over which the comprehension iterates.\n",
    "* condition is an optional condition that filters the elements. Only elements for which the condition evaluates to True   are  included in the new list."
   ]
  },
  {
   "cell_type": "code",
   "execution_count": 34,
   "metadata": {},
   "outputs": [
    {
     "name": "stdout",
     "output_type": "stream",
     "text": [
      "[0, 1, 4, 9, 16]\n",
      "0\n",
      "16\n",
      "30\n"
     ]
    }
   ],
   "source": [
    "squares:list[int] = [x ** 2 for x in range(5)]\n",
    "print(squares)\n",
    "print(min(squares))\n",
    "print(max(squares))\n",
    "print(sum(squares))"
   ]
  },
  {
   "cell_type": "code",
   "execution_count": 36,
   "metadata": {},
   "outputs": [
    {
     "name": "stdout",
     "output_type": "stream",
     "text": [
      "[[0], [1], [8], [27, 9], [64]]\n",
      "[[0], [1], [8], [27, 9], [64]]\n"
     ]
    }
   ],
   "source": [
    "cubes:list[list[int]] = [[x ** 3] for x in range(5)]\n",
    "new_cubes:list[int] = cubes[:]\n",
    "new_cubes[3].append(9)\n",
    "print(cubes)\n",
    "print(new_cubes)"
   ]
  },
  {
   "cell_type": "markdown",
   "metadata": {},
   "source": [
    "# Tuple \n",
    "A built-in data type that lets us create immutable sequences of values.\n",
    "* Tuple Method\n",
    "tup.index(  ) #returns index of first occurrence\n",
    "tup.count(  ) #counts total occurrences  "
   ]
  },
  {
   "cell_type": "code",
   "execution_count": 39,
   "metadata": {},
   "outputs": [
    {
     "name": "stdout",
     "output_type": "stream",
     "text": [
      "0\n",
      "2\n"
     ]
    },
    {
     "ename": "TypeError",
     "evalue": "'tuple' object does not support item assignment",
     "output_type": "error",
     "traceback": [
      "\u001b[1;31m---------------------------------------------------------------------------\u001b[0m",
      "\u001b[1;31mTypeError\u001b[0m                                 Traceback (most recent call last)",
      "Cell \u001b[1;32mIn[39], line 5\u001b[0m\n\u001b[0;32m      3\u001b[0m \u001b[38;5;28mprint\u001b[39m(alphabats\u001b[38;5;241m.\u001b[39mindex(\u001b[38;5;124m'\u001b[39m\u001b[38;5;124ma\u001b[39m\u001b[38;5;124m'\u001b[39m))\n\u001b[0;32m      4\u001b[0m \u001b[38;5;28mprint\u001b[39m(alphabats\u001b[38;5;241m.\u001b[39mcount(\u001b[38;5;124m'\u001b[39m\u001b[38;5;124mc\u001b[39m\u001b[38;5;124m'\u001b[39m))\n\u001b[1;32m----> 5\u001b[0m \u001b[43malphabats\u001b[49m\u001b[43m[\u001b[49m\u001b[38;5;241;43m2\u001b[39;49m\u001b[43m]\u001b[49m\u001b[38;5;241m=\u001b[39m\u001b[38;5;124m'\u001b[39m\u001b[38;5;124mdd\u001b[39m\u001b[38;5;124m'\u001b[39m \u001b[38;5;66;03m# Not allowed\u001b[39;00m\n",
      "\u001b[1;31mTypeError\u001b[0m: 'tuple' object does not support item assignment"
     ]
    }
   ],
   "source": [
    "from typing import Any\n",
    "alphabats:tuple[str,str,str,str,str] = ('a','b','c','a','c')\n",
    "print(alphabats.index('a'))\n",
    "print(alphabats.count('c'))\n",
    "alphabats[2]='dd' # Not allowed\n"
   ]
  },
  {
   "cell_type": "code",
   "execution_count": 42,
   "metadata": {},
   "outputs": [
    {
     "name": "stdout",
     "output_type": "stream",
     "text": [
      "()\n",
      "1 <class 'str'>\n",
      "(1,) <class 'tuple'>\n",
      "(1, 2, 3)\n"
     ]
    }
   ],
   "source": [
    "#Note that if there is only one item in the tuple, it is necessary \n",
    "#to put a comma after the item; otherwise, Python will assume that it is not a tuple.\n",
    "from typing import Any,Optional\n",
    "tup1: tuple[Optional[None]] = (None,)\n",
    "tup2:tuple[int] = ( 1 ) # Be careful\n",
    "tup22:tuple[int] = ( 1, )\n",
    "tup3:tuple[int,int,int] = ( 1, 2, 3 )\n",
    "print(tup1)\n",
    "print(tup2,type(tup2))\n",
    "print(tup22,type(tup22))\n",
    "print(tup3)"
   ]
  },
  {
   "cell_type": "markdown",
   "metadata": {},
   "source": [
    "Definitions of Palindrome\n",
    "n. A word, verse, or sentence, that is the same when read backward or forward \n",
    "in list such as \n",
    "alphabatics:list[str]= ['a','b','a']"
   ]
  },
  {
   "cell_type": "code",
   "execution_count": 44,
   "metadata": {},
   "outputs": [
    {
     "name": "stdout",
     "output_type": "stream",
     "text": [
      "([1, 2, 3, 4, 5], 5, True, 'arman')\n"
     ]
    },
    {
     "ename": "AttributeError",
     "evalue": "'tuple' object has no attribute 'insert'",
     "output_type": "error",
     "traceback": [
      "\u001b[1;31m---------------------------------------------------------------------------\u001b[0m",
      "\u001b[1;31mAttributeError\u001b[0m                            Traceback (most recent call last)",
      "Cell \u001b[1;32mIn[44], line 6\u001b[0m\n\u001b[0;32m      4\u001b[0m my_courses[\u001b[38;5;241m0\u001b[39m]\u001b[38;5;241m.\u001b[39mappend(\u001b[38;5;241m5\u001b[39m) \u001b[38;5;66;03m# allowed \u001b[39;00m\n\u001b[0;32m      5\u001b[0m \u001b[38;5;28mprint\u001b[39m(my_courses)\n\u001b[1;32m----> 6\u001b[0m \u001b[43mmy_courses\u001b[49m\u001b[38;5;241;43m.\u001b[39;49m\u001b[43minsert\u001b[49m(\u001b[38;5;241m0\u001b[39m,\u001b[38;5;241m6\u001b[39m) \u001b[38;5;66;03m# Not allowed\u001b[39;00m\n\u001b[0;32m      7\u001b[0m \u001b[38;5;28mprint\u001b[39m(my_courses)\n",
      "\u001b[1;31mAttributeError\u001b[0m: 'tuple' object has no attribute 'insert'"
     ]
    }
   ],
   "source": [
    "# Note: nested list in tuple is a list we can apply all the method of list such as\n",
    "\n",
    "my_courses:tuple[list[int],int,bool,str] = ([1,2,3,4],5,True,\"arman\")\n",
    "my_courses[0].append(5) # allowed \n",
    "print(my_courses)\n",
    "my_courses.insert(0,6) # Not allowed\n",
    "print(my_courses)"
   ]
  },
  {
   "cell_type": "code",
   "execution_count": 1,
   "metadata": {},
   "outputs": [
    {
     "name": "stdout",
     "output_type": "stream",
     "text": [
      "['michael', 'florence', 'eli']\n"
     ]
    }
   ],
   "source": [
    "players = ['charles', 'martina', 'michael', 'florence', 'eli']\n",
    "print(players[-3:])"
   ]
  },
  {
   "cell_type": "code",
   "execution_count": 3,
   "metadata": {},
   "outputs": [
    {
     "name": "stdout",
     "output_type": "stream",
     "text": [
      "Here are the first three players on my team:\n",
      "Charles\n",
      "Martina\n",
      "Michael\n"
     ]
    }
   ],
   "source": [
    "players = ['charles', 'martina', 'michael', 'florence', 'eli']\n",
    "print(\"Here are the first three players on my team:\")\n",
    "for player in players[:3]:\n",
    "   print(player.title())"
   ]
  },
  {
   "cell_type": "code",
   "execution_count": 5,
   "metadata": {},
   "outputs": [
    {
     "name": "stdout",
     "output_type": "stream",
     "text": [
      "Here are the first three players on my team:\n",
      "Florence\n",
      "Eli\n"
     ]
    }
   ],
   "source": [
    "players = ['charles', 'martina', 'michael', 'florence', 'eli']\n",
    "print(\"Here are the first three players on my team:\")\n",
    "for player in players[3:]:\n",
    "    print(player.title())"
   ]
  },
  {
   "cell_type": "markdown",
   "metadata": {},
   "source": [
    "# The Style Guide\n",
    "Indentation(tab 4 spaces)\n",
    "Line Length(79 characters)\n",
    "Blank Lines(For readability)\n"
   ]
  },
  {
   "cell_type": "code",
   "execution_count": 13,
   "metadata": {},
   "outputs": [
    {
     "name": "stdout",
     "output_type": "stream",
     "text": [
      "Three items from the middle of the list are:\n",
      "[5, 6, 7]\n"
     ]
    }
   ],
   "source": [
    "my_list = [1, 2, 3, 4, 5, 6, 7, 8, 9, 10,11,12]\n",
    "\n",
    "# Print the message\n",
    "print(\"Three items from the middle of the list are:\")\n",
    "\n",
    "# Calculate the starting index for the middle slice\n",
    "middle_index = len(my_list) // 2 - 1\n",
    "\n",
    "# Use slicing to print three items from the middle of the list\n",
    "print(my_list[middle_index - 1 : middle_index + 2])\n"
   ]
  }
 ],
 "metadata": {
  "kernelspec": {
   "display_name": "mypython12",
   "language": "python",
   "name": "python3"
  },
  "language_info": {
   "codemirror_mode": {
    "name": "ipython",
    "version": 3
   },
   "file_extension": ".py",
   "mimetype": "text/x-python",
   "name": "python",
   "nbconvert_exporter": "python",
   "pygments_lexer": "ipython3",
   "version": "3.12.0"
  }
 },
 "nbformat": 4,
 "nbformat_minor": 2
}
