{
 "cells": [
  {
   "cell_type": "markdown",
   "metadata": {},
   "source": [
    "* for loop we can get element in own choice by using the slicing "
   ]
  },
  {
   "cell_type": "code",
   "execution_count": 3,
   "metadata": {},
   "outputs": [
    {
     "name": "stdout",
     "output_type": "stream",
     "text": [
      "ali is my friend\n",
      "zain is my friend\n",
      "sameer is my friend\n"
     ]
    }
   ],
   "source": [
    "my_friends:list[str] = ['ali','zain','sameer']\n",
    "for my_friend in my_friends[::]:\n",
    "    print(f'{my_friend} is my friend')"
   ]
  },
  {
   "cell_type": "markdown",
   "metadata": {},
   "source": [
    "* Note:in loop last value is global can accessable outside of the loop"
   ]
  },
  {
   "cell_type": "code",
   "execution_count": 19,
   "metadata": {},
   "outputs": [
    {
     "name": "stdout",
     "output_type": "stream",
     "text": [
      "sameer\n",
      "zain\n",
      "ali\n",
      "sameer\n"
     ]
    }
   ],
   "source": [
    "# while loop in python \n",
    "my_friends:list[str] = ['ali','zain','sameer'] \n",
    "my_count:int = len(my_friends)-1\n",
    "while my_count>=0:\n",
    "    print(my_friends[my_count])\n",
    "    my_count-=1\n",
    "print(my_friends[my_count])    "
   ]
  },
  {
   "cell_type": "code",
   "execution_count": 12,
   "metadata": {},
   "outputs": [
    {
     "name": "stdout",
     "output_type": "stream",
     "text": [
      "ali\n",
      "zain\n",
      "sameer\n",
      "This is the last line of our code\n",
      "sameer\n"
     ]
    }
   ],
   "source": [
    "# We can use `else` with any block, such as a `for` loop.\n",
    "# Note: The else block only prints the message if the loop completes normally.\n",
    "#However, in this case, the loop breaks after the first iteration, so the else block is not executed.\n",
    "\n",
    "my_friends:list[str] = ['ali','zain','sameer'] \n",
    "\n",
    "for my_friend in my_friends:\n",
    "    print(my_friend)\n",
    "    break\n",
    "else:\n",
    "    print('This is the last line of our code')\n",
    "print(my_friend)    \n",
    "     \n"
   ]
  },
  {
   "cell_type": "code",
   "execution_count": null,
   "metadata": {},
   "outputs": [],
   "source": [
    " # Note that in a `for` loop, the last value of the loop can be accessed outside of the loop, as shown below.\n",
    "my_friends:list[str] = ['ali','zain','sameer'] \n",
    "\n",
    "for my_friend in my_friends:\n",
    "    print(my_friend) \n",
    "print(my_friend)     "
   ]
  },
  {
   "cell_type": "code",
   "execution_count": 4,
   "metadata": {},
   "outputs": [
    {
     "name": "stdout",
     "output_type": "stream",
     "text": [
      "Valid User\n"
     ]
    }
   ],
   "source": [
    "data_base : list[tuple[str,str]] = [(\"qasim\",'123'),\n",
    "                                    (\"sirzia\",'345'),\n",
    "                                    ('ikhlas','789')\n",
    "                                    ]\n",
    "input_user : str = input(\"Enter user name\")\n",
    "input_password : str = input(\"Enter user password\")\n",
    "\n",
    "\n",
    "\n",
    "for row in data_base:\n",
    "    user, password = row # (\"qasim\",'123')\n",
    "    if input_user == user and input_password == password:\n",
    "        print(\"Valid User\")\n",
    "        break\n",
    "else:\n",
    "    print(\"Not found or Invalid user name\")\n",
    "    "
   ]
  },
  {
   "cell_type": "code",
   "execution_count": 22,
   "metadata": {},
   "outputs": [
    {
     "data": {
      "text/plain": [
       "[(0, 'HTML5'), (1, 'CSS'), (2, 'TypeScript'), (3, 'React')]"
      ]
     },
     "execution_count": 22,
     "metadata": {},
     "output_type": "execute_result"
    }
   ],
   "source": [
    "# Note that in Jupyter Notebook, the last statement always returns, but not in Python.\n",
    "language_list:list[str] = ['HTML5','CSS','TypeScript','React']\n",
    "list(enumerate(language_list)) # Without print we can see the list but in the Python(.py)\n"
   ]
  },
  {
   "cell_type": "markdown",
   "metadata": {},
   "source": [
    "# Numbers with loop\n",
    " range(start,end,step)"
   ]
  },
  {
   "cell_type": "markdown",
   "metadata": {},
   "source": [
    "# Range function \n",
    "* range(start, stop, step)\n",
    "  # Where:\n",
    "** start: The starting value of the range (inclusive). If omitted, it defaults to 0.\n",
    "** stop: The ending value of the range (exclusive). This is a required argument.\n",
    "** step: The increment (or decrement) between each number in the sequence. If omitted, it defaults to 1.\n",
    "In Python, the range() function returns a sequence of numbers according to the specified start, stop, and step arguments. However, it doesn't produce any output by itself; it simply generates the sequence that can be iterated over using a loop or converted into a list.\n",
    "\n",
    "In your code, range(0, 2) generates a sequence of numbers from 0 to 1 (inclusive of the start value and exclusive of the stop value), but it doesn't print anything directly. It's just a generator for the numbers 0 and 1."
   ]
  },
  {
   "cell_type": "code",
   "execution_count": 26,
   "metadata": {},
   "outputs": [
    {
     "name": "stdout",
     "output_type": "stream",
     "text": [
      "0\n",
      "1\n",
      "2\n",
      "3\n",
      "4\n",
      "[0, 1]\n"
     ]
    }
   ],
   "source": [
    "x=list(range(0,2))\n",
    "for i in range(5):\n",
    "    print(i)\n",
    "print(x)"
   ]
  },
  {
   "cell_type": "code",
   "execution_count": 29,
   "metadata": {},
   "outputs": [
    {
     "name": "stdout",
     "output_type": "stream",
     "text": [
      "1\n",
      "2\n",
      "3\n",
      "4\n",
      "5\n",
      "1\n",
      "2\n",
      "3\n",
      "4\n",
      "5\n"
     ]
    }
   ],
   "source": [
    "for i in 1,2,3,4,5:\n",
    "    print(i)\n",
    "# By using the range function\n",
    "for i in range(1,6):\n",
    "    print(i)        "
   ]
  }
 ],
 "metadata": {
  "kernelspec": {
   "display_name": "mypython12",
   "language": "python",
   "name": "python3"
  },
  "language_info": {
   "codemirror_mode": {
    "name": "ipython",
    "version": 3
   },
   "file_extension": ".py",
   "mimetype": "text/x-python",
   "name": "python",
   "nbconvert_exporter": "python",
   "pygments_lexer": "ipython3",
   "version": "3.12.0"
  }
 },
 "nbformat": 4,
 "nbformat_minor": 2
}
