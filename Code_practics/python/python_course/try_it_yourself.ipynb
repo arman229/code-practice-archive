{
 "cells": [
  {
   "cell_type": "markdown",
   "metadata": {},
   "source": [
    "2-1. Simple Message: Assign a message to a variable, and then print that\n",
    "message"
   ]
  },
  {
   "cell_type": "code",
   "execution_count": null,
   "metadata": {},
   "outputs": [],
   "source": [
    "message:str = 'This is the first programe that i have written in python '\n",
    "print(message)"
   ]
  },
  {
   "cell_type": "markdown",
   "metadata": {},
   "source": [
    "2-2. Simple Messages: Assign a message to a variable, and print that message.\n",
    "Then change the value of the variable to a new message, and print the new\n",
    "message"
   ]
  },
  {
   "cell_type": "code",
   "execution_count": null,
   "metadata": {},
   "outputs": [],
   "source": [
    "simple_message:str = 'Hello world'\n",
    "new_message:str = f'{simple_message} Arman'\n",
    "print(new_message)"
   ]
  },
  {
   "cell_type": "markdown",
   "metadata": {},
   "source": [
    "2-4. Name Cases: Use a variable to represent a person’s name, and then print\n",
    "that person’s name in lowercase, uppercase, and title case"
   ]
  },
  {
   "cell_type": "code",
   "execution_count": null,
   "metadata": {},
   "outputs": [],
   "source": [
    "my_name:str='arman AshrAf'\n",
    "print(my_name.title())\n",
    "print(my_name.lower())\n",
    "print(my_name.upper())"
   ]
  },
  {
   "cell_type": "markdown",
   "metadata": {},
   "source": [
    "2-5. Famous Quote: Find a quote from a famous person you admire. Print the\n",
    "quote and the name of its author."
   ]
  },
  {
   "cell_type": "code",
   "execution_count": null,
   "metadata": {},
   "outputs": [],
   "source": [
    "famous_quotation:str='Albert Einstein once said, “A person who never made a mistake never tried anything new.'\n",
    "print(famous_quotation)  "
   ]
  },
  {
   "cell_type": "markdown",
   "metadata": {},
   "source": [
    "2-6. Famous Quote 2: Repeat Exercise 2-5, but this time, represent the famous\n",
    "person’s name using a variable called famous_person. Then compose your message and represent it with a new variable called message. Print your message."
   ]
  },
  {
   "cell_type": "code",
   "execution_count": null,
   "metadata": {},
   "outputs": [],
   "source": [
    "famous_person = \"Albert Einstein\"\n",
    "message = f'{famous_person} once said, \"A person who never made a mistake never tried anything new.\"'\n",
    "print(message)"
   ]
  },
  {
   "cell_type": "markdown",
   "metadata": {},
   "source": [
    "2-7. Stripping Names: Use a variable to represent a person’s name, and\n",
    "include some whitespace characters at the beginning and end of the name.\n",
    "Make sure you use each character combination, \"\\t\" and \"\\n\", at least once.\n",
    "Print the name once, so the whitespace around the name is displayed.\n",
    "Then print the name using each of the three stripping functions, lstrip(),\n",
    "rstrip(), and strip()"
   ]
  },
  {
   "cell_type": "code",
   "execution_count": null,
   "metadata": {},
   "outputs": [],
   "source": [
    "name = \"\\tArman ashraf\\n\"\n",
    "\n",
    "print(f\"Unmodified name:{name}\")\n",
    "print(name)\n",
    "\n",
    "print(\"\\nUsing lstrip():\")\n",
    "print(name.lstrip())\n",
    "\n",
    "print(\"\\nUsing rstrip():\")\n",
    "print(name.rstrip())\n",
    "\n",
    "print(\"\\nUsing strip():\")\n",
    "print(name.strip())"
   ]
  },
  {
   "cell_type": "markdown",
   "metadata": {},
   "source": [
    "2-8. File Extensions: Python has a removesuffix() method that works exactly\n",
    "like removeprefix(). Assign the value 'python_notes.txt' to a variable called\n",
    "filename. Then use the removesuffix() method to display the filename without\n",
    "the file extension, like some file browsers do."
   ]
  },
  {
   "cell_type": "code",
   "execution_count": null,
   "metadata": {},
   "outputs": [],
   "source": [
    "filename='python_notes.txt'\n",
    "print(filename.removesuffix('.txt'))"
   ]
  },
  {
   "cell_type": "markdown",
   "metadata": {},
   "source": [
    "F\n",
    "2-9. Number Eight: Write addition, subtraction, multiplication, and division\n",
    "operations that each result in the number 8. Be sure to enclose your operations\n",
    "in print() calls to see the results. You should create four lines that look like this:\n",
    "print(5+3)\n",
    "Your output should be four lines, with the number 8 appearing once on\n",
    "each line."
   ]
  },
  {
   "cell_type": "markdown",
   "metadata": {},
   "source": [
    "2-10. Favorite Number: Use a variable to represent your favorite number. Then,\n",
    "using that variable, create a message that reveals your favorite number. Print\n",
    "that message."
   ]
  },
  {
   "cell_type": "code",
   "execution_count": 1,
   "metadata": {},
   "outputs": [
    {
     "name": "stdout",
     "output_type": "stream",
     "text": [
      "This is my favorite Number:1234\n"
     ]
    }
   ],
   "source": [
    "favorite_number:int=1234\n",
    "message:str=f'This is my favorite Number:{favorite_number}'\n",
    "print(message)"
   ]
  },
  {
   "cell_type": "markdown",
   "metadata": {},
   "source": [
    "3-1. Names: Store the names of a few of your friends in a list called names. Print\n",
    "each person’s name by accessing each element in the list, one at a time."
   ]
  },
  {
   "cell_type": "code",
   "execution_count": null,
   "metadata": {},
   "outputs": [],
   "source": [
    "friend_name:list=['ali','asad','ahmad']\n",
    "print(friend_name[0])\n",
    "print(friend_name[1])\n",
    "print(friend_name[2])"
   ]
  },
  {
   "cell_type": "markdown",
   "metadata": {},
   "source": [
    "3-2. Greetings: Start with the list you used in Exercise 3-1, but instead of just\n",
    "printing each person’s name, print a message to them. The text of each message should be the same, but each message should be personalized with the\n",
    "person’s name."
   ]
  },
  {
   "cell_type": "code",
   "execution_count": null,
   "metadata": {},
   "outputs": [],
   "source": [
    "friend_name:list=['ali','asad','ahmad']\n",
    "print(f'friend_name[0] is my friend' )\n",
    "print(f'friend_name[1] is my friend ')\n",
    "print(f'friend_name[2] is my friend ')"
   ]
  },
  {
   "cell_type": "markdown",
   "metadata": {},
   "source": [
    "3-3. Your Own List: Think of your favorite mode of transportation, such as a\n",
    "motorcycle or a car, and make a list that stores several examples. Use your list\n",
    "to print a series of statements about these items, such as “I would like to own a\n",
    "Honda motorcycle.”"
   ]
  },
  {
   "cell_type": "code",
   "execution_count": null,
   "metadata": {},
   "outputs": [],
   "source": [
    "favorite_transportation:list=['motercycle','bus']\n",
    "print(f'I have a {favorite_transportation[0]}')\n",
    "print(f'Fair of {favorite_transportation[1]} is low reletive to the car')"
   ]
  },
  {
   "cell_type": "markdown",
   "metadata": {},
   "source": [
    "3-4. Guest List: If you could invite anyone, living or deceased, to dinner, who\n",
    "would you invite? Make a list that includes at least three people you’d like to\n",
    "invite to dinner. Then use your list to print a message to each person, inviting\n",
    "them to dinner."
   ]
  },
  {
   "cell_type": "code",
   "execution_count": null,
   "metadata": {},
   "outputs": [],
   "source": [
    "friend_name:list=['ali','asad','ahmad']\n",
    "print(f'{friend_name[0]} is my friend' )\n",
    "print(f'{friend_name[1]} is my friend ')\n",
    "print(f'{friend_name[2]} is my friend ')"
   ]
  },
  {
   "cell_type": "markdown",
   "metadata": {},
   "source": [
    "3-5. Changing Guest List: You just heard that one of your guests can’t make the\n",
    "dinner, so you need to send out a new set of invitations. You’ll have to think of\n",
    "someone else to invite.\n",
    "* Start with your program from Exercise 3-4. Add a print() call at the end of\n",
    "your program, stating the name of the guest who can’t make it.\n",
    "* Modify your list, replacing the name of the guest who can’t make it with the\n",
    "name of the new person you are inviting.\n",
    "* Print a second set of invitation messages, one for each person who is still in\n",
    "your list."
   ]
  },
  {
   "cell_type": "code",
   "execution_count": null,
   "metadata": {},
   "outputs": [],
   "source": [
    "guest_list:list[str] = ['ali', 'ahmad', 'asad']\n",
    "print(f'Welcome {guest_list[0].title()} please come to dinner  ')\n",
    "print(f'Welcome {guest_list[1].title()} please come to dinner  ')\n",
    "print(f'Welcome {guest_list[2].title()} please come to dinner  ')\n",
    "deleted_guest:str = guest_list.pop(0)\n",
    "print(f'Sorry {deleted_guest} can\\'t make it to dinner ')\n",
    "guest_list.insert(0,'arman')\n",
    "\n",
    "print(f'Welcome {guest_list[0].title()} please come to dinner  ')\n",
    "print(f'Welcome {guest_list[1].title()} please come to dinner  ')\n",
    "print(f'Welcome {guest_list[2].title()} please come to dinner  ')\n",
    "\n",
    "\n"
   ]
  },
  {
   "cell_type": "markdown",
   "metadata": {},
   "source": [
    "\n",
    "3-6. More Guests: You just found a bigger dinner table, so now more space is\n",
    "available. Think of three more guests to invite to dinner.\n",
    "* Start with your program from Exercise 3-4 or 3-5. Add a print() call to the\n",
    "end of your program, informing people that you found a bigger table.\n",
    "* Use insert() to add one new guest to the beginning of your list.\n",
    "* Use insert() to add one new guest to the middle of your list.\n",
    "* Use append() to add one new guest to the end of your list.\n",
    "* Print a new set of invitation messages, one for each person in your list."
   ]
  },
  {
   "cell_type": "code",
   "execution_count": null,
   "metadata": {},
   "outputs": [],
   "source": [
    "guest_list:list[str] = ['ali', 'ahmad', 'asad']\n",
    "print(f'Welcome {guest_list[0].title()} please come to dinner  ')\n",
    "print(f'Welcome {guest_list[1].title()} please come to dinner  ')\n",
    "print(f'Welcome {guest_list[2].title()} please come to dinner  ')\n",
    "deleted_guest:str = guest_list.pop(0)\n",
    "print(f'Sorry {deleted_guest} can\\'t make it to dinner ')\n",
    "guest_list.insert(0,'arman')\n",
    "\n",
    "print(f'Welcome {guest_list[0].title()} please come to dinner  ')\n",
    "print(f'Welcome {guest_list[1].title()} please come to dinner  ')\n",
    "print(f'Welcome {guest_list[2].title()} please come to dinner  ')\n",
    "\n",
    "print('We found a bigger table')\n",
    "guest_list.insert(0,'mazher')\n",
    "guest_list.insert(1,'sameer')\n",
    "guest_list.insert(2,'bilal')\n",
    " \n",
    "\n",
    "print(f'Welcome {guest_list[0].title()} please come to dinner  ')\n",
    "print(f'Welcome {guest_list[1].title()} please come to dinner  ')\n",
    "print(f'Welcome {guest_list[2].title()} please come to dinner  ')\n",
    "print(f'Welcome {guest_list[3].title()} please come to dinner  ')\n",
    "print(f'Welcome {guest_list[4].title()} please come to dinner  ')\n",
    "print(f'Welcome {guest_list[5].title()} please come to dinner  ')\n"
   ]
  },
  {
   "cell_type": "markdown",
   "metadata": {},
   "source": [
    "3-7. Shrinking Guest List: You just found out that your new dinner table won’t\n",
    "arrive in time for the dinner, and now you have space for only two guests.\n",
    "* Start with your program from Exercise 3-6. Add a new line that prints a\n",
    "message saying that you can invite only two people for dinner.\n",
    "* Use pop() to remove guests from your list one at a time until only two\n",
    "names remain in your list. Each time you pop a name from your list, print a\n",
    "message to that person letting them know you’re sorry you can’t invite them\n",
    "to dinner.\n",
    "* Print a message to each of the two people still on your list, letting them\n",
    "know they’re still invited.\n",
    "* Use del to remove the last two names from your list, so you have an empty\n",
    "list. Print your list to make sure you actually have an empty list at the end of\n",
    "your program."
   ]
  },
  {
   "cell_type": "code",
   "execution_count": null,
   "metadata": {},
   "outputs": [],
   "source": [
    "\n",
    "guest_list:list[str] = ['ali', 'ahmad', 'asad']\n",
    "print(f'Welcome {guest_list[0].title()} please come to dinner  ')\n",
    "print(f'Welcome {guest_list[1].title()} please come to dinner  ')\n",
    "print(f'Welcome {guest_list[2].title()} please come to dinner  ')\n",
    "deleted_guest:str = guest_list.pop(0)\n",
    "print(f'Sorry {deleted_guest} can\\'t make it to dinner ')\n",
    "guest_list.insert(0,'arman')\n",
    "\n",
    "print(f'Welcome {guest_list[0].title()} please come to dinner  ')\n",
    "print(f'Welcome {guest_list[1].title()} please come to dinner  ')\n",
    "print(f'Welcome {guest_list[2].title()} please come to dinner  ')\n",
    "\n",
    "print('We found a bigger table')\n",
    "guest_list.insert(0,'mazher')\n",
    "guest_list.insert(1,'sameer')\n",
    "guest_list.insert(2,'bilal')\n",
    " \n",
    "\n",
    "print(f'Welcome {guest_list[0].title()} please come to dinner  ')\n",
    "print(f'Welcome {guest_list[1].title()} please come to dinner  ')\n",
    "print(f'Welcome {guest_list[2].title()} please come to dinner  ')\n",
    "print(f'Welcome {guest_list[3].title()} please come to dinner  ')\n",
    "print(f'Welcome {guest_list[4].title()} please come to dinner  ')\n",
    "print(f'Welcome {guest_list[5].title()} please come to dinner  ')\n",
    "print('you can only invite two people for the  dinner')\n",
    "\n",
    "count:int = len(guest_list)-1\n",
    "print(count)\n",
    "while count>=2:\n",
    "    removing_guest:str = guest_list.pop()\n",
    "    print(f\"Sorry, {removing_guest.title()} there's no room at the table.\")\n",
    "    count -= 1\n",
    "\n",
    "print(f'Welcome {guest_list[0].title()} please come to dinner  ')\n",
    "print(f'Welcome {guest_list[1].title()} please come to dinner  ')\n",
    "print(guest_list)\n",
    "del guest_list[0]\n",
    "del guest_list[0]\n",
    "print(guest_list)\n",
    "\n"
   ]
  },
  {
   "cell_type": "markdown",
   "metadata": {},
   "source": [
    "3-8. Seeing the World: Think of at least five places in the world you’d like\n",
    "to visit.\n",
    "* Store the locations in a list. Make sure the list is not in alphabetical order.\n",
    "* Print your list in its original order. Don’t worry about printing the list neatly;\n",
    "just print it as a raw Python list.\n",
    "* Use sorted() to print your list in alphabetical order without modifying the\n",
    "actual list.\n",
    "* Show that your list is still in its original order by printing it.\n",
    "* Use sorted() to print your list in reverse-alphabetical order without changing the order of the original list.\n",
    "* Show that your list is still in its original order by printing it again.\n",
    "• Use reverse() to change the order of your list. Print the list to show that its\n",
    "order has changed.\n",
    "* Use reverse() to change the order of your list again. Print the list to show\n",
    "it’s back to its original order.\n",
    "* Use sort() to change your list so it’s stored in alphabetical order. Print the\n",
    "list to show that its order has been changed.\n",
    "* Use sort() to change your list so it’s stored in reverse-alphabetical order.\n",
    "Print the list to show that its order has changed."
   ]
  },
  {
   "cell_type": "code",
   "execution_count": null,
   "metadata": {},
   "outputs": [],
   "source": [
    "five_places:list[str] = ['Itly', 'Dubai','Pakistan', 'Makkah', 'California']\n",
    "print(f'List in oringinal order {five_places}')\n",
    "print(f'List in alphbetical order whithout modifiying the actual list {sorted(five_places)}')\n",
    "print(f'List is still in original order {five_places}')\n",
    "print(f'List in reverse_alphbetical order whithout modifiying the actual list {sorted(five_places, reverse=True)}')\n",
    "print(f'List is still in original order {five_places}')\n",
    "print(f'Now original  list change {five_places.reverse()}')\n",
    "print(f'Now order has changed {five_places}')\n",
    "\n",
    "\n",
    "print(f'Now back to  original  order {five_places.reverse()}')\n",
    "print(f'Now back to oringinal order {five_places}')\n",
    "print(f'Now original  list sort alphabatically {five_places.sort()}')\n",
    "print(f'Now order has changed {five_places}')\n",
    "print(f'Now original  list sort reverse_alphabtically {five_places.sort(reverse=True)}')\n",
    "print(f'Now order has changed {five_places}')"
   ]
  },
  {
   "cell_type": "markdown",
   "metadata": {},
   "source": [
    "\n",
    "3-9. Dinner Guests: Working with one of the programs from Exercises 3-4\n",
    "through 3-7 (pages 41–42), use len() to print a message indicating the number\n",
    "of people you’re inviting to dinner.\n"
   ]
  },
  {
   "cell_type": "code",
   "execution_count": null,
   "metadata": {},
   "outputs": [],
   "source": [
    "guest_list:list[str] = ['ali', 'ahmad', 'asad']\n",
    "no_of_guest: int = len(guest_list)\n",
    "print(f'Total No of guest {no_of_guest}')"
   ]
  },
  {
   "cell_type": "markdown",
   "metadata": {},
   "source": [
    "\n",
    "3-10. Every Function: Think of things you could store in a list. For example, you\n",
    "could make a list of mountains, rivers, countries, cities, languages, or anything\n",
    "else you’d like. Write a program that creates a list containing these items and\n",
    "then uses each function introduced in this chapter at least once"
   ]
  },
  {
   "cell_type": "code",
   "execution_count": null,
   "metadata": {},
   "outputs": [],
   "source": [
    "five_places = ['Italy', 'Dubai', 'Pakistan', 'Makkah', 'California']\n",
    "\n",
    "print(\"Original List:\", five_places)\n",
    "five_places.append('New York')\n",
    "print(\"Appended 'New York':\", five_places)\n",
    "five_places.insert(1, 'Paris')\n",
    "print(\"Inserted 'Paris':\", five_places)\n",
    "five_places.remove('Dubai')\n",
    "print(\"Removed 'Dubai':\", five_places)\n",
    "popped_in_five_places = five_places.pop(3)\n",
    "print(\"Popped item at index 3:\", popped_in_five_places)\n",
    "index = five_places.index('Pakistan')\n",
    "print(\"Index of 'Pakistan':\", index)\n",
    "count = five_places.count('Italy')\n",
    "print(\"Count of 'Italy':\", count)\n",
    "five_places.sort()\n",
    "print(\"Sorted List:\", five_places)\n",
    "five_places.reverse()\n",
    "print(\"Reversed List:\", five_places)\n",
    "copy_of_five_places = five_places.copy()\n",
    "print(\"Copy of List:\", copy_of_five_places)\n",
    "five_places.clear()\n",
    "print(\"Cleared List:\", five_places)\n",
    "five_places.extend(['France', 'Spain'])\n",
    "print(\"Extended List:\", five_places)\n"
   ]
  },
  {
   "cell_type": "markdown",
   "metadata": {},
   "source": [
    "3-11. Intentional Error: If you haven’t received an index error in one of your programs yet, try to make one happen. Change an index in one of your programs\n",
    "to produce an index error. Make sure you correct the error before closing the\n",
    "program."
   ]
  },
  {
   "cell_type": "code",
   "execution_count": null,
   "metadata": {},
   "outputs": [],
   "source": [
    "my_list = [1, 2, 3, 4, 5]\n",
    "\n",
    "try:\n",
    " \n",
    "    value = my_list[23]\n",
    "except IndexError as e:\n",
    "    print(\"Index Error: \", e)\n",
    "    print('Please write the correct index from the array')\n",
    "else:\n",
    "    print(\"Value at index 10:\", value)\n",
    "\n",
    "print('programe is executed')\n"
   ]
  },
  {
   "cell_type": "markdown",
   "metadata": {},
   "source": [
    "4-1. Pizzas: Think of at least three kinds of your favorite pizza. Store these\n",
    "pizza names in a list, and then use a for loop to print the name of each pizza.\n",
    "* Modify your for loop to print a sentence using the name of the pizza,\n",
    "instead of printing just the name of the pizza. For each pizza, you should\n",
    "have one line of output containing a simple statement like I like pepperoni pizza.\n",
    "* Add a line at the end of your program, outside the for loop, that states\n",
    "how much you like pizza. The output should consist of three or more lines\n",
    "about the kinds of pizza you like and then an additional sentence, such as\n",
    "I really love pizza!"
   ]
  },
  {
   "cell_type": "code",
   "execution_count": null,
   "metadata": {},
   "outputs": [],
   "source": [
    "my_favorite_pizza:list[str] = ['pizza1','pizza2', 'pizza3']\n",
    "for pizza in my_favorite_pizza:\n",
    "     print(f' {pizza}')\n",
    "     print(f'My favourite pizza {pizza} and i like it very much')\n",
    "print(\"\\nI really love pizza!\")"
   ]
  },
  {
   "cell_type": "markdown",
   "metadata": {},
   "source": [
    "4-2. Animals: Think of at least three different animals that have a common characteristic. Store the names of these animals in a list, and then use a for loop to\n",
    "print out the name of each animal.\n",
    "* Modify your program to print a statement about each animal, such as A\n",
    "dog would make a great pet.\n",
    "* Add a line at the end of your program, stating what these animals have in\n",
    "common. You could print a sentence, such as Any of these animals would\n",
    "make a great pet!"
   ]
  },
  {
   "cell_type": "code",
   "execution_count": null,
   "metadata": {},
   "outputs": [],
   "source": [
    "animals_list = ['cat', 'dog', 'bear']\n",
    "\n",
    "for animal in animals_list:\n",
    "    print(animal)\n",
    "    print(f'A {animal} would make a great pet.')\n",
    "\n",
    "print('Any of these animals would make a great pet!')\n"
   ]
  },
  {
   "cell_type": "markdown",
   "metadata": {},
   "source": [
    "4-3. Counting to Twenty: Use a for loop to print the numbers from 1 to 20,\n",
    "inclusive."
   ]
  },
  {
   "cell_type": "code",
   "execution_count": null,
   "metadata": {},
   "outputs": [],
   "source": [
    "for counting in range(1,21):\n",
    "    print(counting)"
   ]
  },
  {
   "cell_type": "markdown",
   "metadata": {},
   "source": [
    "4-4. One Million: Make a list of the numbers from one to one million, and then\n",
    "use a for loop to print the numbers. (If the output is taking too long, stop it by\n",
    "pressing CTRL-C or by closing the output window.)\n"
   ]
  },
  {
   "cell_type": "code",
   "execution_count": null,
   "metadata": {},
   "outputs": [],
   "source": [
    "for one_million in range(1,1000001):\n",
    "    print(one_million)"
   ]
  },
  {
   "cell_type": "markdown",
   "metadata": {},
   "source": [
    "4-5. Summing a Million: Make a list of the numbers from one to one million, and\n",
    "then use min() and max() to make sure your list actually starts at one and ends\n",
    "at one million. Also, use the sum() function to see how quickly Python can add\n",
    "a million numbers.\n"
   ]
  },
  {
   "cell_type": "code",
   "execution_count": null,
   "metadata": {},
   "outputs": [],
   "source": [
    "list_of_one_million = list(range(1, 1000001))\n",
    "total = sum(list_of_one_million)\n",
    "minimum = min(list_of_one_million)\n",
    "maximum = max(list_of_one_million)\n",
    "\n",
    "print(f'The sum of the numbers from 1 to 1,000,000 is {total}.')\n",
    "print(f'The minimum number in the range 1 to 1,000,000 is {minimum}.')\n",
    "print(f'The maximum number in the range 1 to 1,000,000 is {maximum}.')\n"
   ]
  },
  {
   "cell_type": "markdown",
   "metadata": {},
   "source": [
    "\n"
   ]
  },
  {
   "cell_type": "code",
   "execution_count": null,
   "metadata": {},
   "outputs": [],
   "source": [
    "for odd_number in range(1,21,2):\n",
    "    print(f'Odd number is {odd_number}')\n",
    "     "
   ]
  },
  {
   "cell_type": "markdown",
   "metadata": {},
   "source": [
    "4-7. Threes: Make a list of the multiples of 3, from 3 to 30. Use a for loop to\n",
    "print the numbers in your list.\n"
   ]
  },
  {
   "cell_type": "code",
   "execution_count": null,
   "metadata": {},
   "outputs": [],
   "source": [
    "for odd_number in range(3,31,3):\n",
    "    print(f'Odd number is {odd_number}')\n",
    " "
   ]
  },
  {
   "cell_type": "markdown",
   "metadata": {},
   "source": [
    "4-8. Cubes: A number raised to the third power is called a cube. For example,\n",
    "the cube of 2 is written as 2**3 in Python. Make a list of the first 10 cubes (that\n",
    "is, the cube of each integer from 1 through 10), and use a for loop to print out\n",
    "the value of each cube.\n"
   ]
  },
  {
   "cell_type": "code",
   "execution_count": null,
   "metadata": {},
   "outputs": [],
   "source": [
    "for cube in range(1,11):\n",
    "    print(f'Cube of {cube} is {cube**3}')"
   ]
  },
  {
   "cell_type": "markdown",
   "metadata": {},
   "source": [
    "4-9. Cube Comprehension: Use a list comprehension to generate a list of the first\n",
    "10 cubes."
   ]
  },
  {
   "cell_type": "code",
   "execution_count": null,
   "metadata": {},
   "outputs": [],
   "source": [
    "list_of_cubes = [cube ** 3 for cube in range(1, 11)]\n",
    "print(list_of_cubes)"
   ]
  },
  {
   "cell_type": "markdown",
   "metadata": {},
   "source": [
    "4-10. Slices: Using one of the programs you wrote in this chapter, add several\n",
    "lines to the end of the program that do the following:\n",
    "* Print the message The first three items in the list are:. Then use a slice to\n",
    "print the first three items from that program’s list.\n",
    "* Print the message Three items from the middle of the list are:. Then use a\n",
    "slice to print three items from the middle of the list.\n",
    "* Print the message The last three items in the list are:. Then use a slice to\n",
    "print the last three items in the list.\n"
   ]
  },
  {
   "cell_type": "code",
   "execution_count": null,
   "metadata": {},
   "outputs": [],
   "source": [
    "list_of_names:list[str] = ['arman', 'ali','usman','ahmad','mazher','sameer']\n",
    "first_three_items:list[str] = list_of_names[0:3]\n",
    "last_three_items:list[str] = list_of_names[-1:-4:-1]\n",
    "list_start:list[str] = len(list_of_names)//2 -1\n",
    "list_end:list[str] = list_start + 3\n",
    "middle_of_three_items:list[str] = list_of_names[list_start:list_end]\n",
    "print(f'First three items from this list {list_of_names} are {first_three_items}')\n",
    "print(f'last three items from this list {list_of_names} are {last_three_items}')\n",
    "print(f'Middle three items from this list {list_of_names} are {middle_of_three_items}')\n"
   ]
  },
  {
   "cell_type": "markdown",
   "metadata": {},
   "source": [
    "4-11. My Pizzas, Your Pizzas: Start with your program from Exercise 4-1 (page 56).\n",
    "Make a copy of the list of pizzas, and call it friend_pizzas. Then, do the\n",
    "following:\n",
    "* Add a new pizza to the original list.\n",
    "* Add a different pizza to the list friend_pizzas.\n",
    "* Prove that you have two separate lists. Print the message My favorite pizzas are:, and then use a for loop to print the first list. Print the message My\n",
    "friend’s favorite pizzas are:, and then use a for loop to print the second list.\n",
    "Make sure each new pizza is stored in the appropriate list.\n"
   ]
  },
  {
   "cell_type": "code",
   "execution_count": null,
   "metadata": {},
   "outputs": [],
   "source": [
    "my_foods = ['pizza', 'falafel', 'carrot cake']\n",
    "friend_foods = my_foods[:]\n",
    "\n",
    "my_foods.append('new pizza')\n",
    "friend_foods.append('friend favorite pizza')\n",
    "print(f'My original list of pizza are {my_foods}')\n",
    "print(f'My friends favorite food are {friend_foods}')\n",
    "print('\\nmy favorite pizzas are:')\n",
    "for pizza in my_foods:\n",
    "    print(f'-{pizza}')\n",
    "print(\"\\nMy friend's favorite pizzas are:\")\n",
    "for friend_pizza in friend_foods:\n",
    "    print(f'- {friend_pizza}')    \n",
    "\n",
    " "
   ]
  },
  {
   "cell_type": "markdown",
   "metadata": {},
   "source": [
    "4-12. More Loops: All versions of foods.py in this section have avoided using\n",
    "for loops when printing, to save space. Choose a version of foods.py, and\n",
    "write two for loops to print each list of foods."
   ]
  },
  {
   "cell_type": "code",
   "execution_count": null,
   "metadata": {},
   "outputs": [],
   "source": [
    "my_foods = ['pizza', 'falafel', 'carrot cake']\n",
    "friend_foods = my_foods[:]\n",
    "\n",
    "print(\"My favorite foods are:\")\n",
    "for food in my_foods:\n",
    "    print(food)\n",
    "\n",
    "print(\"\\nMy friend's favorite foods are:\")\n",
    "for food in friend_foods:\n",
    "    print(food)\n"
   ]
  },
  {
   "cell_type": "markdown",
   "metadata": {},
   "source": [
    "4-13. Buffet: A buffet-style restaurant offers only five basic foods. Think of five\n",
    "simple foods, and store them in a tuple.\n",
    "• Use a for loop to print each food the restaurant offers.\n",
    "• Try to modify one of the items, and make sure that Python rejects the\n",
    "change.\n",
    "• The restaurant changes its menu, replacing two of the items with different\n",
    "foods. Add a line that rewrites the tuple, and then use a for loop to print\n",
    "each of the items on the revised menu."
   ]
  },
  {
   "cell_type": "code",
   "execution_count": null,
   "metadata": {},
   "outputs": [],
   "source": [
    "menu = ('burger', 'pizza', 'pasta', 'salad', 'ice cream')\n",
    "\n",
    "print(\"Original Menu:\")\n",
    "for food in menu:\n",
    "    print(food)\n",
    "\n",
    "# menu[2] = 'sushi'\n",
    "\n",
    "menu = ('burger', 'pizza', 'sushi', 'fruit salad', 'cake')\n",
    "\n",
    "print(\"\\nRevised Menu:\")\n",
    "for food in menu:\n",
    "    print(food)\n"
   ]
  },
  {
   "cell_type": "markdown",
   "metadata": {},
   "source": [
    "5-1. Conditional Tests: Write a series of conditional tests. Print a statement\n",
    "describing each test and your prediction for the results of each test. Your code\n",
    "should look something like this:\n",
    "car = 'subaru'\n",
    "print(\"Is car == 'subaru'? I predict True.\")\n",
    "print(car == 'subaru')\n",
    "print(\"\\nIs car == 'audi'? I predict False.\")\n",
    "print(car == 'audi')\n",
    "• Look closely at your results, and make sure you understand why each line\n",
    "evaluates to True or False.\n",
    "• Create at least 10 tests. Have at least 5 tests evaluate to True and another\n",
    "5 tests evaluate to False.\n",
    " "
   ]
  },
  {
   "cell_type": "code",
   "execution_count": null,
   "metadata": {},
   "outputs": [],
   "source": [
    "car = 'subaru'\n",
    "print(\"Is car == 'subaru'? I predict True.\")\n",
    "print(car == 'subaru')\n",
    "print(\"\\nIs car == 'audi'? I predict False.\")\n",
    "print(car == 'audi')\n",
    "my_name:str = 'arman'\n",
    "print(\"Is my_name == 'arman'? I predict True.\")\n",
    "print(my_name == 'arman')\n",
    "print(\"Is my_name == 'armans'? I predict false.\")\n",
    "print(my_name == 'armans')\n",
    "my_city:str='sialkot'\n",
    "print(\"Is my_city == 'sialkot'? I predict True.\")\n",
    "print(my_city == 'sialkot')\n",
    "print(\"Is my_city == 'sialkott'? I predict false.\")\n",
    "print(my_city == 'sialkott')\n",
    "my_country:str = 'pakistan'\n",
    "print(\"Is my_country == 'pakistan'? I predict True.\")\n",
    "print(my_country == 'pakistan')\n",
    "print(\"Is my_country == 'pakistann'? I predict false.\")\n",
    "print(my_country == 'pakistann')\n",
    "current_prime_minister:str = 'anwar ul haq'\n",
    "print(\"Is current_prime_minister == 'anwar ul haq'? I predict True.\")\n",
    "print(current_prime_minister == 'anwar ul haq')\n",
    "print(\"Is current_prime_minister == 'anwar ul haqq'? I predict false.\")\n",
    "print(current_prime_minister == 'anwar ul haqq')\n",
    "my_age:int = 22\n",
    "print(\"Is my_age == 22 ? I predict True.\")\n",
    "print(my_age == 22)\n",
    "print(\"Is my_age == 22 ? I predict True.\")\n",
    "print(my_age == 22)"
   ]
  },
  {
   "cell_type": "markdown",
   "metadata": {},
   "source": [
    "5-2. More Conditional Tests: You don’t have to limit the number of tests you create to 10. If you want to try more comparisons, write more tests and add them\n",
    "to conditional_tests.py. Have at least one True and one False result for each of\n",
    "the following:\n",
    "• Tests for equality and inequality with strings\n",
    "• Tests using the lower() method\n",
    "• Numerical tests involving equality and inequality, greater than and less\n",
    "than, greater than or equal to, and less than or equal to\n",
    "• Tests using the and keyword and the or keyword\n",
    "• Test whether an item is in a list\n",
    "• Test whether an item is not in a list"
   ]
  },
  {
   "cell_type": "code",
   "execution_count": null,
   "metadata": {},
   "outputs": [],
   "source": [
    "string1:str = \"apple\"\n",
    "string2:str = \"banana\"\n",
    "print(\"Equality Test with Strings:\")\n",
    "print(string1 == string2)  \n",
    "print(\"Inequality Test with Strings:\")\n",
    "print(string1 != string2) \n",
    "string3:str = \"Python\"\n",
    "string4:str = \"python\"\n",
    "print(\"Lowercase Equality Test:\")\n",
    "print(string3.lower() == string4.lower())\n",
    "number1:str = 10\n",
    "number2:str = 20\n",
    "print(\"Numerical Equality Test:\")\n",
    "print(number1 == number2) \n",
    "print(\"Numerical Inequality Test:\")\n",
    "print(number1 != number2)\n",
    "print(\"Greater Than Test:\")\n",
    "print(number1 > number2)  \n",
    "print(\"Less Than Test:\")\n",
    "print(number1 < number2) \n",
    "print(\"Greater Than or Equal To Test:\")\n",
    "print(number1 >= number2) \n",
    "print(\"Less Than or Equal To Test:\")\n",
    "print(number1 <= number2)\n",
    "flag1:bool = True\n",
    "flag2:bool = False\n",
    "print(\"Logical AND Test:\")\n",
    "print(flag1 and flag2) \n",
    "print(\"Logical OR Test:\")\n",
    "print(flag1 or flag2) \n",
    "fruits = ['apple', 'banana', 'cherry', 'date']\n",
    "print(\"Item in List Test:\")\n",
    "print('banana' in fruits)  \n",
    "print(\"Item Not in List Test:\")\n",
    "print('grape' not in fruits) \n"
   ]
  },
  {
   "cell_type": "markdown",
   "metadata": {},
   "source": [
    "5-3. Alien Colors #1: Imagine an alien was just shot down in a game. Create a\n",
    "variable called alien_color and assign it a value of 'green', 'yellow', or 'red'.\n",
    "* Write an if statement to test whether the alien’s color is green. If it is, print\n",
    "  message that the player just earned 5 points.\n",
    "* Write one version of this program that passes the if test and another that\n",
    "fails. (The version that fails will have no output.)\n"
   ]
  },
  {
   "cell_type": "code",
   "execution_count": null,
   "metadata": {},
   "outputs": [],
   "source": [
    "alien_color = 'green'\n",
    "\n",
    "if alien_color == 'green':\n",
    "    print(\"You just earned 5 points!\")\n"
   ]
  },
  {
   "cell_type": "markdown",
   "metadata": {},
   "source": [
    "5-4. Alien Colors #2: Choose a color for an alien as you did in Exercise 5-3,\n",
    "and write an if-else chain.\n",
    "* If the alien’s color is green, print a statement that the player just earned 5\n",
    "points for shooting the alien.\n",
    "* If the alien’s color isn’t green, print a statement that the player just earned\n",
    "10 points.\n",
    "* Write one version of this program that runs the if block and another that\n",
    "runs the else block."
   ]
  },
  {
   "cell_type": "code",
   "execution_count": null,
   "metadata": {},
   "outputs": [],
   "source": [
    "alien_color = 'yellow'\n",
    "\n",
    "if alien_color == 'green':\n",
    "    print(\"You just earned 5 points!\")\n",
    "\n",
    "else:\n",
    "    print('You just earned 10 points'    )    "
   ]
  },
  {
   "cell_type": "markdown",
   "metadata": {},
   "source": [
    "\n",
    "5-5. Alien Colors #3: Turn your if-else chain from Exercise 5-4 into an if-elifelse chain.\n",
    "* If the alien is green, print a message that the player earned 5 points.\n",
    "* If the alien is yellow, print a message that the player earned 10 points.\n",
    "* If the alien is red, print a message that the player earned 15 points.\n",
    "* Write three versions of this program, making sure each message is printed\n",
    "for the appropriate color alien."
   ]
  },
  {
   "cell_type": "code",
   "execution_count": null,
   "metadata": {},
   "outputs": [],
   "source": [
    "alien_color = 'red'\n",
    "\n",
    "if alien_color == 'green':\n",
    "    print(\"You just earned 5 points!\")\n",
    "\n",
    "elif alien_color== ' yellow':\n",
    "    print('You just earned 10 points'    ) \n",
    "else:\n",
    "    print('You just earned 15 points')       "
   ]
  },
  {
   "cell_type": "markdown",
   "metadata": {},
   "source": [
    "\n",
    "5-6. Stages of Life: Write an if-elif-else chain that determines a person’s stage\n",
    "of life. Set a value for the variable age, and then:\n",
    "* If the person is less than 2 years old, print a message that the person is\n",
    "a baby.\n",
    "* If the person is at least 2 years old but less than 4, print a message that the\n",
    "person is a toddler.\n",
    "* If the person is at least 4 years old but less than 13, print a message that\n",
    "the person is a kid.\n",
    "* If the person is at least 13 years old but less than 20, print a message that\n",
    "the person is a teenager.\n",
    "* If the person is at least 20 years old but less than 65, print a message that\n",
    "the person is an adult.\n",
    "* If the person is age 65 or older, print a message that the person is an elder."
   ]
  },
  {
   "cell_type": "code",
   "execution_count": null,
   "metadata": {},
   "outputs": [],
   "source": [
    "age = 18\n",
    "\n",
    "if age < 2:\n",
    "    print(\"You're a baby!\")\n",
    "elif age < 4:\n",
    "    print(\"You're a toddler!\")\n",
    "elif age < 13:\n",
    "    print(\"You're a kid!\")\n",
    "elif age < 20:\n",
    "    print(\"You're a teenager!\")\n",
    "elif age < 65:\n",
    "    print(\"You're an adult!\")\n",
    "else:\n",
    "    print(\"You're an elder!\")"
   ]
  },
  {
   "cell_type": "markdown",
   "metadata": {},
   "source": [
    "\n",
    "5-7. Favorite Fruit: Make a list of your favorite fruits, and then write a series of\n",
    "independent if statements that check for certain fruits in your list.\n",
    "* Make a list of your three favorite fruits and call it favorite_fruits.\n",
    "* Write five if statements. Each should check whether a certain kind of fruit\n",
    "is in your list. If the fruit is in your list, the if block should print a statement,\n",
    "such as You really like bananas!"
   ]
  },
  {
   "cell_type": "code",
   "execution_count": null,
   "metadata": {},
   "outputs": [],
   "source": [
    "favorite_fruits = ['blueberries', 'apples', 'peaches']\n",
    "\n",
    "if 'bananas' in favorite_fruits:\n",
    "    print(\"You really like bananas!\")\n",
    "if 'apples' in favorite_fruits:\n",
    "    print(\"You really like apples!\")\n",
    "if 'blueberries' in favorite_fruits:\n",
    "    print(\"You really like blueberries!\")\n",
    "if 'kiwis' in favorite_fruits:\n",
    "    print(\"You really like kiwis!\")\n",
    "if 'peaches' in favorite_fruits:\n",
    "    print(\"You really like peaches!\")"
   ]
  },
  {
   "cell_type": "markdown",
   "metadata": {},
   "source": [
    "5-8. Hello Admin: Make a list of five or more usernames, including the name\n",
    "'admin'. Imagine you are writing code that will print a greeting to each user\n",
    "after they log in to a website. Loop through the list, and print a greeting to\n",
    "each user.\n",
    "• If the username is 'admin', print a special greeting, such as Hello admin,\n",
    "would you like to see a status report?\n",
    "• Otherwise, print a generic greeting, such as Hello Jaden, thank you for\n",
    "logging in again.\n"
   ]
  },
  {
   "cell_type": "code",
   "execution_count": null,
   "metadata": {},
   "outputs": [],
   "source": [
    "usernames:list[str] = ['ali', 'arman', 'admin', 'usman', 'asad']\n",
    "\n",
    "for username in usernames:\n",
    "    if username == 'admin':\n",
    "        print(\"Hello admin, would you like to see a status report?\")\n",
    "    else:\n",
    "        print(f\"Hello {username }, thank you for logging in again!\")"
   ]
  },
  {
   "cell_type": "markdown",
   "metadata": {},
   "source": [
    "5-9. No Users: Add an if test to hello_admin.py to make sure the list of users is\n",
    "not empty.\n",
    "• If the list is empty, print the message We need to find some users!\n",
    "• Remove all of the usernames from your list, and make sure the correct message is printed.\n"
   ]
  },
  {
   "cell_type": "code",
   "execution_count": null,
   "metadata": {},
   "outputs": [],
   "source": [
    "usernames:list[str] = ['ali', 'arman', 'admin', 'usman', 'asad']\n",
    "usernames:list[str] = []\n",
    " \n",
    "if usernames:\n",
    "    for username in usernames:\n",
    "        if username == 'admin':\n",
    "            print(\"Hello admin, would you like to see a status report?\")\n",
    "        else:\n",
    "            print(f\"Hello {username}, thank you for logging in again!\")\n",
    "else:\n",
    "    print('We need to find some users!')\n",
    "      "
   ]
  },
  {
   "cell_type": "markdown",
   "metadata": {},
   "source": [
    "5-10. Checking Usernames: Do the following to create a program that simulates\n",
    "how websites ensure that everyone has a unique username.\n",
    "• Make a list of five or more usernames called current_users.\n",
    "• Make another list of five usernames called new_users. Make sure one or\n",
    "two of the new usernames are also in the current_users list.\n",
    "• Loop through the new_users list to see if each new username has already\n",
    "been used. If it has, print a message that the person will need to enter a\n",
    "new username. If a username has not been used, print a message saying\n",
    "that the username is available.\n",
    "• Make sure your comparison is case insensitive. If 'John' has been used,\n",
    "'JOHN' should not be accepted. (To do this, you’ll need to make a copy of\n",
    "current_users containing the lowercase versions of all existing users.)\n"
   ]
  },
  {
   "cell_type": "code",
   "execution_count": null,
   "metadata": {},
   "outputs": [],
   "source": [
    "current_users = ['ali', 'Arman', 'admin', 'Usman', 'asad']\n",
    "new_users = ['mazher', 'sameer', 'noor', 'Usman', 'asad']\n",
    " \n",
    "current_users_lower = [user.lower() for user in current_users]\n",
    "print(current_users_lower)\n",
    "for new_user in new_users:\n",
    "    \n",
    "    if new_user.lower() in current_users_lower:\n",
    "        print(f\"{new_user} is already taken. You will need to enter a new username.\")\n",
    "    else:\n",
    "        print(f\"{new_user} is available.\")\n",
    "\n",
    "\n"
   ]
  },
  {
   "cell_type": "markdown",
   "metadata": {},
   "source": [
    "5-11. Ordinal Numbers: Ordinal numbers indicate their position in a list, such as\n",
    "1st or 2nd. Most ordinal numbers end in th, except 1, 2, and 3.\n",
    "• Store the numbers 1 through 9 in a list.\n",
    "• Loop through the list.\n",
    "• Use an if-elif-else chain inside the loop to print the proper ordinal ending\n",
    "for each number. Your output should read \"1st 2nd 3rd 4th 5th 6th 7th\n",
    "8th 9th\", and each result should be on a separate line."
   ]
  },
  {
   "cell_type": "code",
   "execution_count": null,
   "metadata": {},
   "outputs": [],
   "source": [
    "numbers = list(range(1,10))\n",
    "\n",
    "for number in numbers:\n",
    "    if number == 1:\n",
    "        print(\"1st\")\n",
    "    elif number == 2:\n",
    "        print(\"2nd\")\n",
    "    elif number == 3:\n",
    "        print(\"3rd\")\n",
    "    else:\n",
    "        print(str(number) + \"th\")"
   ]
  },
  {
   "cell_type": "markdown",
   "metadata": {},
   "source": [
    "6-1. Person: Use a dictionary to store information about a person you know.\n",
    "Store their first name, last name, age, and the city in which they live. You\n",
    "should have keys such as first_name, last_name, age, and city. Print each piece\n",
    "of information stored in your dictionary."
   ]
  },
  {
   "cell_type": "code",
   "execution_count": null,
   "metadata": {},
   "outputs": [],
   "source": [
    "person= {\n",
    "    'first_name':'arman',\n",
    "    'last_name':'M ashraf',\n",
    "    'age':22,\n",
    "    'city_name':'sialkot'\n",
    "    }\n",
    "\n",
    "for keys,values in person.items():\n",
    "    print(f'This is the person key {keys}'    )\n",
    "    print(f'This is the person values {values}'    )"
   ]
  },
  {
   "cell_type": "markdown",
   "metadata": {},
   "source": [
    "\n",
    "6-2. Favorite Numbers: Use a dictionary to store people’s favorite numbers.\n",
    "Think of five names, and use them as keys in your dictionary. Think of a favorite\n",
    "number for each person, and store each as a value in your dictionary. Print\n",
    "each person’s name and their favorite number. For even more fun, poll a few\n",
    "friends and get some actual data for your program."
   ]
  },
  {
   "cell_type": "code",
   "execution_count": null,
   "metadata": {},
   "outputs": [],
   "source": [
    "favorite_numbers= {\n",
    "    'ali':1,\n",
    "    'ahmad':2,\n",
    "    'asad':3,\n",
    "    'usman':4,\n",
    "    'arman':5\n",
    "}\n",
    "for name, favorite_number in favorite_numbers.items():\n",
    "    print(f'{name} favorite number is {favorite_number}')"
   ]
  },
  {
   "cell_type": "markdown",
   "metadata": {},
   "source": [
    "\n",
    "6-3. Glossary: A Python dictionary can be used to model an actual dictionary.\n",
    "However, to avoid confusion, let’s call it a glossary.\n",
    "• Think of five programming words you’ve learned about in the previous\n",
    "chapters. Use these words as the keys in your glossary, and store their\n",
    "meanings as values.\n",
    "• Print each word and its meaning as neatly formatted output. You might\n",
    "print the word followed by a colon and then its meaning, or print the word\n",
    "on one line and then print its meaning indented on a second line. Use the\n",
    "newline character (\\n) to insert a blank line between each word-meaning\n",
    "pair in your output."
   ]
  },
  {
   "cell_type": "code",
   "execution_count": null,
   "metadata": {},
   "outputs": [],
   "source": [
    "from typing import Dict\n",
    "glossary:Dict[str,str]  = {\n",
    "    'if':'for condition checking',\n",
    "'loop':'iteration',\n",
    "'continue':'skipping the value in loop',\n",
    "'break':'loop end',\n",
    "'function':'cde again and again use in our code'\n",
    "}\n",
    "for key,values in glossary.items():\n",
    "    print(f'tody i have learn some topic such as {key} and its complete details are {glossary[key]}')"
   ]
  },
  {
   "cell_type": "markdown",
   "metadata": {},
   "source": [
    "6-5. Rivers: Make a dictionary containing three major rivers and the country\n",
    "each river runs through. One key-value pair might be 'nile': 'egypt'.\n",
    "* Use a loop to print a sentence about each river, such as The Nile runs\n",
    "through Egypt.\n",
    "* Use a loop to print the name of each river included in the dictionary.\n",
    "* Use a loop to print the name of each country included in the dictionary.\n"
   ]
  },
  {
   "cell_type": "code",
   "execution_count": null,
   "metadata": {},
   "outputs": [],
   "source": [
    "from typing import Dict  \n",
    "\n",
    "rivers: Dict[str, str] = {\n",
    "    'nile': 'egypt',\n",
    "    'mississippi': 'united states',\n",
    "    'fraser': 'canada',\n",
    "    'kuskokwim': 'alaska',\n",
    "    'yangtze': 'china',\n",
    "}\n",
    "\n",
    "for river_name, river_country in rivers.items():\n",
    "        print(f'The {river_name.upper()} runs through {river_country.title()}') \n",
    "\n",
    "print(\"\\nThe following rivers are included in this data set:\")\n",
    "for river in rivers.keys():\n",
    "    print(f\"- {river.title()}\")\n",
    "\n",
    "print(\"\\nThe following countries are included in this data set:\")\n",
    "for country in rivers.values():\n",
    "    print(f\"- {country.title()}\")        "
   ]
  },
  {
   "cell_type": "markdown",
   "metadata": {},
   "source": [
    "6-6. Polling: Use the code in favorite_languages.py (page 96).\n",
    "* Make a list of people who should take the favorite languages poll. Include\n",
    "some names that are already in the dictionary and some that are not.\n",
    "* Loop through the list of people who should take the poll. If they have\n",
    "already taken the poll, print a message thanking them for responding.\n",
    "If they have not yet taken the poll, print a message inviting them to take\n",
    "the poll."
   ]
  },
  {
   "cell_type": "code",
   "execution_count": null,
   "metadata": {},
   "outputs": [],
   "source": [
    "from typing import Dict\n",
    "\n",
    "favorite_languages: Dict[str, str] = {\n",
    "    'jen': 'python',\n",
    "    'sarah': 'c',\n",
    "    'edward': 'rust',\n",
    "    'phil': 'python',\n",
    "}\n",
    "\n",
    "for name, favorite_language in favorite_languages.items():\n",
    "    print(f'{name} favorite language is {favorite_language}')\n",
    "\n",
    "list_of_people: list[str] = ['arman', 'ali', 'jen', 'sarah']\n",
    "\n",
    "for person in list_of_people:\n",
    "    if person in favorite_languages:\n",
    "        print(f'Thank you, {person}, for polling us.')\n",
    "    else:\n",
    "        print(f\"{person}, what's your favorite language?\")\n",
    "   "
   ]
  },
  {
   "cell_type": "markdown",
   "metadata": {},
   "source": [
    "6-7. People: Start with the program you wrote for Exercise 6-1 (page 98). Make\n",
    "two new dictionaries representing different people, and store all three dictionaries in a list called people. Loop through your list of people. As you loop through\n",
    "the list, print everything you know about each person."
   ]
  },
  {
   "cell_type": "code",
   "execution_count": null,
   "metadata": {},
   "outputs": [],
   "source": [
    "from typing import Dict, List\n",
    "\n",
    "person1: Dict[str, str | int] = {\n",
    "    'first_name': 'arman',\n",
    "    'last_name': 'ashraf',\n",
    "    'age': 22,\n",
    "    'city': 'sialkot'\n",
    "}\n",
    "\n",
    "person2: Dict[str, str | int] = {\n",
    "    'first_name': 'usman',\n",
    "    'last_name': 'ashraf',\n",
    "    'age': 30,\n",
    "    'city': 'sialkot'\n",
    "}\n",
    "\n",
    "person3: Dict[str, str | int] = {\n",
    "    'first_name': 'zaman',\n",
    "    'last_name': 'ashraf',\n",
    "    'age': 32,\n",
    "    'city': 'ashraf'\n",
    "}\n",
    "\n",
    "people: List[Dict[str, str | int]] = [person1, person2, person3]\n",
    "\n",
    "for person in people:\n",
    "    full_name = f\"{person['first_name']} {person['last_name']}\"\n",
    "    age = person['age']\n",
    "    city = person['city']\n",
    "\n",
    "    print(f\"Full Name: {full_name}\")\n",
    "    print(f\"Age: {age} years old\")\n",
    "    print(f\"City: {city}\\n\")\n"
   ]
  },
  {
   "cell_type": "markdown",
   "metadata": {},
   "source": [
    "\n",
    "6-8. Pets: Make several dictionaries, where each dictionary represents a different pet. In each dictionary, include the kind of animal and the owner’s name.\n",
    "Store these dictionaries in a list called pets. Next, loop through your list and as\n",
    "you do, print everything you know about each pet."
   ]
  },
  {
   "cell_type": "code",
   "execution_count": null,
   "metadata": {},
   "outputs": [],
   "source": [
    "from typing import Dict, List\n",
    "\n",
    "pet_1: Dict[str, str] = {\n",
    "    'animal': 'animal_1',\n",
    "    'owner_name': 'x'\n",
    "}\n",
    "\n",
    "pet_2: Dict[str, str] = {\n",
    "    'animal': 'animal_2',\n",
    "    'owner_name': 'y'\n",
    "}\n",
    "\n",
    "pet_3: Dict[str, str] = {\n",
    "    'animal': 'animal_3',\n",
    "    'owner_name': 'z'\n",
    "}\n",
    "\n",
    "pet_4: Dict[str, str] = {\n",
    "    'animal': 'animal_4',\n",
    "    'owner_name': 'a'\n",
    "}\n",
    "\n",
    "pet_list: List[Dict[str, str]] = [pet_1, pet_2, pet_3, pet_4]\n",
    "\n",
    "for item in pet_list:\n",
    "    print(f\"This pet is a {item['animal']} and the owner's name is {item['owner_name']}.\")\n"
   ]
  },
  {
   "cell_type": "markdown",
   "metadata": {},
   "source": [
    "\n",
    "6-9. Favorite Places: Make a dictionary called favorite_places. Think of three\n",
    "names to use as keys in the dictionary, and store one to three favorite places for\n",
    "each person. To make this exercise a bit more interesting, ask some friends to\n",
    "name a few of their favorite places. Loop through the dictionary, and print each\n",
    "person’s name and their favorite places."
   ]
  },
  {
   "cell_type": "code",
   "execution_count": 25,
   "metadata": {},
   "outputs": [
    {
     "name": "stdout",
     "output_type": "stream",
     "text": [
      "Welcome to ali and your favorite places are: \n",
      " -lahore\n",
      " -sialkot\n",
      " -multan\n",
      "Welcome to arman and your favorite places are: \n",
      " -islamabad\n",
      " -karachi\n",
      " -johar town\n",
      "Welcome to asad and your favorite places are: \n",
      " -murree\n",
      " -gujrat\n",
      " -sargodha\n"
     ]
    }
   ],
   "source": [
    "from typing import Dict, List\n",
    "\n",
    "favorite_places: Dict[str, List[str]] = {\n",
    "    'ali': ['lahore', 'sialkot', 'multan'],\n",
    "    'arman': ['islamabad', 'karachi', 'johar town'],\n",
    "    'asad': ['murree', 'gujrat', 'sargodha']\n",
    "}\n",
    "\n",
    "for name, places in favorite_places.items():\n",
    "    print(f\"Welcome to {name} and your favorite places are: \")\n",
    "    for place in places:\n",
    "        print(f' -{place}')\n"
   ]
  },
  {
   "cell_type": "markdown",
   "metadata": {},
   "source": [
    "\n",
    "6-10. Favorite Numbers: Modify your program from Exercise 6-2 (page 98) so\n",
    "each person can have more than one favorite number. Then print each person’s\n",
    "name along with their favorite numbers."
   ]
  },
  {
   "cell_type": "code",
   "execution_count": 27,
   "metadata": {},
   "outputs": [
    {
     "name": "stdout",
     "output_type": "stream",
     "text": [
      "ali's favorite numbers are:\n",
      "- 1\n",
      "- 2\n",
      "- 6\n",
      "ahmad's favorite numbers are:\n",
      "- 2\n",
      "- 2\n",
      "- 6\n",
      "asad's favorite numbers are:\n",
      "- 3\n",
      "- 2\n",
      "- 6\n",
      "usman's favorite numbers are:\n",
      "- 4\n",
      "- 2\n",
      "- 6\n",
      "arman's favorite numbers are:\n",
      "- 5\n",
      "- 2\n",
      "- 6\n"
     ]
    }
   ],
   "source": [
    "from typing import Dict, List\n",
    "\n",
    "favorite_numbers: Dict[str, List[int]] = {\n",
    "    'ali': [1, 2, 6],\n",
    "    'ahmad': [2, 2, 6],\n",
    "    'asad': [3, 2, 6],\n",
    "    'usman': [4, 2, 6],\n",
    "    'arman': [5, 2, 6]\n",
    "}\n",
    "\n",
    "for name, favorite_numbers in favorite_numbers.items():\n",
    "    print(f\"{name}'s favorite numbers are:\")\n",
    "    for favorite_number in favorite_numbers:\n",
    "        print(f'- {favorite_number}')\n"
   ]
  },
  {
   "cell_type": "markdown",
   "metadata": {},
   "source": [
    "\n",
    "6-11. Cities: Make a dictionary called cities. Use the names of three cities as\n",
    "keys in your dictionary. Create a dictionary of information about each city and\n",
    "include the country that the city is in, its approximate population, and one fact\n",
    "about that city. The keys for each city’s dictionary should be something like\n",
    "country, population, and fact. Print the name of each city and all of the information you have stored about it.\n"
   ]
  },
  {
   "cell_type": "code",
   "execution_count": 35,
   "metadata": {},
   "outputs": [
    {
     "name": "stdout",
     "output_type": "stream",
     "text": [
      "\n",
      "Sialkot is in Pakistan.\n",
      "  It has a population of about 10.\n",
      "  The K2 mounats are nearby.\n",
      "\n",
      "Lahore is in Pakistan.\n",
      "  It has a population of about 876.\n",
      "  The K2 mounats are nearby.\n",
      "\n",
      "Islamabad is in Pakistan.\n",
      "  It has a population of about 20.\n",
      "  The K2 mounats are nearby.\n"
     ]
    }
   ],
   "source": [
    "from typing import Dict\n",
    "\n",
    "cities: Dict[str, Dict[str, str | int]] = {\n",
    "    'sialkot': {\n",
    "        'country': 'pakistan',\n",
    "        'population': 10,\n",
    "        'nearby mountains': 'k2',\n",
    "    },\n",
    "    'lahore': {\n",
    "        'country': 'pakistan',\n",
    "        'population': 876,\n",
    "        'nearby mountains': 'k2',\n",
    "    },\n",
    "    'islamabad': {\n",
    "        'country': 'pakistan',\n",
    "        'population': 20,\n",
    "        'nearby mountains': 'k2',\n",
    "    }\n",
    "}\n",
    "\n",
    "\n",
    "for city, city_info in cities.items():\n",
    " \n",
    " \n",
    "\n",
    "    print(f\"\\n{city.title()} is in {city_info['country'].title()}.\")\n",
    "    print(f\"  It has a population of about {city_info['population']}.\")\n",
    "    print(f\"  The {city_info['nearby mountains'].title()} mounats are nearby.\")"
   ]
  },
  {
   "cell_type": "markdown",
   "metadata": {},
   "source": [
    "6-12. Extensions: We’re now working with examples that are complex enough\n",
    "that they can be extended in any number of ways. Use one of the example programs from this chapter, and extend it by adding new keys and values, changing the context of the program, or improving the formatting of the output."
   ]
  },
  {
   "cell_type": "code",
   "execution_count": 41,
   "metadata": {},
   "outputs": [
    {
     "name": "stdout",
     "output_type": "stream",
     "text": [
      "{'name': 'M arman', 'age': 22}\n"
     ]
    }
   ],
   "source": [
    "from typing import Dict\n",
    "\n",
    "previous_obj:Dict[str,str|int] = {\n",
    "    'name':'arman'\n",
    "}\n",
    "previous_obj['name']='M arman'\n",
    "previous_obj['age']=22\n",
    "print(previous_obj)"
   ]
  },
  {
   "cell_type": "code",
   "execution_count": 2,
   "metadata": {},
   "outputs": [
    {
     "name": "stdout",
     "output_type": "stream",
     "text": [
      "hello world\n"
     ]
    }
   ],
   "source": [
    "print('hello world')"
   ]
  }
 ],
 "metadata": {
  "kernelspec": {
   "display_name": "mypython12",
   "language": "python",
   "name": "python3"
  },
  "language_info": {
   "codemirror_mode": {
    "name": "ipython",
    "version": 3
   },
   "file_extension": ".py",
   "mimetype": "text/x-python",
   "name": "python",
   "nbconvert_exporter": "python",
   "pygments_lexer": "ipython3",
   "version": "3.12.0"
  }
 },
 "nbformat": 4,
 "nbformat_minor": 2
}
