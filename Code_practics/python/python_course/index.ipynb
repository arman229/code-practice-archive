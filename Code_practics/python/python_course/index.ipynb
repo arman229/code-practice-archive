{
 "cells": [
  {
   "cell_type": "markdown",
   "metadata": {},
   "source": [
    "### hello world"
   ]
  },
  {
   "cell_type": "code",
   "execution_count": 1,
   "metadata": {},
   "outputs": [
    {
     "name": "stdout",
     "output_type": "stream",
     "text": [
      "hello world\n"
     ]
    }
   ],
   "source": [
    "print('hello world')"
   ]
  },
  {
   "cell_type": "markdown",
   "metadata": {},
   "source": [
    "### type && id(physicial address) "
   ]
  },
  {
   "cell_type": "code",
   "execution_count": 3,
   "metadata": {},
   "outputs": [
    {
     "name": "stdout",
     "output_type": "stream",
     "text": [
      "3130079271584\n",
      "['capitalize', 'casefold', 'center', 'count', 'encode', 'endswith', 'expandtabs', 'find', 'format', 'format_map', 'index', 'isalnum', 'isalpha', 'isascii', 'isdecimal', 'isdigit', 'isidentifier', 'islower', 'isnumeric', 'isprintable', 'isspace', 'istitle', 'isupper', 'join', 'ljust', 'lower', 'lstrip', 'maketrans', 'partition', 'removeprefix', 'removesuffix', 'replace', 'rfind', 'rindex', 'rjust', 'rpartition', 'rsplit', 'rstrip', 'split', 'splitlines', 'startswith', 'strip', 'swapcase', 'title', 'translate', 'upper', 'zfill']\n"
     ]
    }
   ],
   "source": [
    "my_name:str = 'arman'\n",
    "print(id(my_name))\n",
    "print([i for i in dir(my_name) if \"__\" not in i])"
   ]
  },
  {
   "cell_type": "markdown",
   "metadata": {},
   "source": [
    "###  Changing Case in a String with Methods"
   ]
  },
  {
   "cell_type": "code",
   "execution_count": 2,
   "metadata": {},
   "outputs": [
    {
     "name": "stdout",
     "output_type": "stream",
     "text": [
      "arman aShraf\n",
      " This is the example of title case in python Arman Ashraf\n",
      " This is the example of Lower case in python arman ashraf\n",
      " This is the example of upper case in python ARMAN ASHRAF\n"
     ]
    }
   ],
   "source": [
    "my_name:str= 'arman aShraf'\n",
    "print(my_name)\n",
    "print(f\" This is the example of title case in python {my_name.title()}\")\n",
    "print(f\" This is the example of Lower case in python {my_name.lower()}\")\n",
    "print(f\" This is the example of upper case in python {my_name.upper()}\")"
   ]
  },
  {
   "cell_type": "markdown",
   "metadata": {},
   "source": [
    "### Stripping Whitespace"
   ]
  },
  {
   "cell_type": "code",
   "execution_count": null,
   "metadata": {},
   "outputs": [],
   "source": [
    "stripping_whitespace:str='            in this example extra space will be remove by using the python method like rstrip          '\n",
    "print(f\"Without removing the extra space {stripping_whitespace}\")\n",
    "print(f\"now removing the extra space {stripping_whitespace.strip()}\")"
   ]
  },
  {
   "cell_type": "markdown",
   "metadata": {},
   "source": [
    "### Underscores in Numbers"
   ]
  },
  {
   "cell_type": "code",
   "execution_count": null,
   "metadata": {},
   "outputs": [],
   "source": [
    "amount_balance:int=1_000_000_00\n",
    "# When you print a number that was defined using underscores, Python prints only the digits\n",
    "print(amount_balance)"
   ]
  },
  {
   "cell_type": "markdown",
   "metadata": {},
   "source": [
    "### Multiple Assignment"
   ]
  },
  {
   "cell_type": "code",
   "execution_count": null,
   "metadata": {},
   "outputs": [],
   "source": [
    "x,y,z=1,2,4\n",
    "print(x)\n",
    "print(y)\n",
    "print(z)"
   ]
  },
  {
   "cell_type": "markdown",
   "metadata": {},
   "source": [
    "* Input , not in, and range "
   ]
  },
  {
   "cell_type": "code",
   "execution_count": null,
   "metadata": {},
   "outputs": [],
   "source": [
    "names: list[str] = [chr(i) for i in range(65,91)]\n",
    "\n",
    "for i in range(len(names)):\n",
    "    print(i, names[i])\n",
    "'D' in names    \n",
    "'d' not in names\n",
    "user_names :list[str] = ['ali','saad','asad']\n",
    "user_input:str = input('Please Enter your name')\n",
    "user_input not in user_names"
   ]
  },
  {
   "cell_type": "markdown",
   "metadata": {},
   "source": [
    "### String Formatting"
   ]
  },
  {
   "cell_type": "code",
   "execution_count": null,
   "metadata": {},
   "outputs": [],
   "source": [
    "my_name:str = 'Arman'\n",
    "my_age:int = 22\n",
    "learning_language:str = 'Python'\n",
    "\n",
    "# Using f-string method\n",
    "print(f\"My name is {my_name}, and I am {my_age} years old. Currently, I am learning {learning_language}.\")\n",
    "\n",
    "# Using the % method\n",
    "print(\"My name is %s, and I am %d years old. Currently, I am learning %s.\" % (my_name, my_age, learning_language))\n",
    "\n",
    "# Using the .format method\n",
    "print(\"My name is {}, and I am {} years old. Currently, I am learning {}.\".format(my_name, my_age, learning_language))\n",
    "\n",
    "pi = 3.14159\n",
    "print(f\"The value of pi to 2 decimal places: {pi:.2f}\")\n",
    "\n",
    "my_bio:str='''\n",
    "name:{1}\n",
    "age:{0}\n",
    "'''.format(my_age,my_name)\n",
    "\n",
    "print(my_bio)\n",
    "# OR\n",
    "my_bio:str='''\n",
    "name:{b}\n",
    "age:{a}\n",
    "'''.format(a=my_age,b=my_name)\n",
    "\n",
    "print(my_bio)\n",
    "# OR\n",
    "my_bio:str='''\n",
    "name:{my_name}\n",
    "age:{my_age}\n",
    "''' \n",
    "print(my_bio)\n",
    " "
   ]
  },
  {
   "cell_type": "markdown",
   "metadata": {},
   "source": [
    "### Casefold && lower case in python"
   ]
  },
  {
   "cell_type": "code",
   "execution_count": 1,
   "metadata": {},
   "outputs": [
    {
     "name": "stdout",
     "output_type": "stream",
     "text": [
      "arman\n",
      "arman\n"
     ]
    }
   ],
   "source": [
    "my_name: str = 'ArMan'\n",
    "print(my_name.lower())\n",
    "print(my_name.casefold())"
   ]
  },
  {
   "cell_type": "markdown",
   "metadata": {},
   "source": [
    "### Removing the extra spaces"
   ]
  },
  {
   "cell_type": "code",
   "execution_count": null,
   "metadata": {},
   "outputs": [],
   "source": [
    "import re\n",
    "# regular expression\n",
    "# sup(pattern,Replacement,variable_name)\n",
    "sentence:str=\"I have                                   read in UMT lahore,pakistan                      \"\n",
    "display(sentence)\n",
    "updated_sentence:str =re.sub(' {2,100}',' ', sentence).strip()\n",
    "display(updated_sentence)\n",
    "\n",
    "   \n",
    " \n",
    " \n",
    " \n"
   ]
  },
  {
   "cell_type": "markdown",
   "metadata": {},
   "source": [
    "### Constants"
   ]
  },
  {
   "cell_type": "code",
   "execution_count": 3,
   "metadata": {},
   "outputs": [
    {
     "name": "stdout",
     "output_type": "stream",
     "text": [
      "333\n"
     ]
    }
   ],
   "source": [
    "# Python programmers use all capital letters to indicate a variable should be treated as a constant and never be changed:\n",
    "MY_CONSTANT:int=33\n",
    "print(MY_CONSTANT)\n",
    "MY_CONSTANT:int=333\n",
    "print(MY_CONSTANT)"
   ]
  },
  {
   "cell_type": "code",
   "execution_count": null,
   "metadata": {},
   "outputs": [],
   "source": [
    "# print(ali)"
   ]
  },
  {
   "cell_type": "markdown",
   "metadata": {},
   "source": [
    "### Unzip\n"
   ]
  },
  {
   "cell_type": "code",
   "execution_count": null,
   "metadata": {},
   "outputs": [],
   "source": [
    "#Unzip\n",
    "x,y,z='ali',22,4.4\n",
    "print(x)\n",
    "print(y)\n",
    "print(z)\n",
    "# Tuple\n",
    "x,y,z=('ali',22,4.4)\n",
    "print(x)\n",
    "print(y)\n",
    "print(z)\n",
    "'ali',22,4.4\n",
    "data=('ali',22,4.4)\n",
    "print(data[0],data[1],data[2])\n",
    "#OR\n",
    "print(*data)\n",
    "# print three times my name\n",
    "my_string:str='arman'\n",
    "print(my_string *3)"
   ]
  },
  {
   "cell_type": "markdown",
   "metadata": {},
   "source": [
    "### Walras Operator"
   ]
  },
  {
   "cell_type": "code",
   "execution_count": null,
   "metadata": {},
   "outputs": [],
   "source": [
    "# Without the walrus operator\n",
    "data = [1, 2, 3, 4, 5, 6]\n",
    "squared_values = []\n",
    "for number in data:\n",
    "    squared = number ** 2\n",
    "    if squared > 10:\n",
    "        squared_values.append(squared)\n",
    "print(squared_values)\n",
    "# With the walrus operator\n",
    "data = [1, 2, 3, 4, 5, 6]\n",
    "squared_values = [squared for number in data if (squared := number ** 2) > 10]\n",
    "print(squared_values)"
   ]
  },
  {
   "cell_type": "markdown",
   "metadata": {},
   "source": [
    "### Zen of Python\n",
    "The \"Zen of Python\" is a set of guiding aphorisms for writing computer programs in the Python language. It's also known as PEP 20, which stands for \"Python Enhancement Proposal 20.\" This document was written by Tim Peters and serves as a collection of principles and philosophies that Python developers should follow when writing code.\n",
    "\n",
    "You can view the Zen of Python by opening a Python interpreter and typing the following:\n",
    "\n",
    " \n",
    "       import this\n",
    " \n",
    "\n",
    "When you run this code, you'll see the Zen of Python displayed in your console. It consists of 19 guiding aphorisms that offer insight into Python's design philosophy. These aphorisms encourage good coding practices, readability, simplicity, and a sense of aesthetics. Some of the key principles include:\n",
    "\n",
    "- Readability counts.\n",
    "- Simple is better than complex.\n",
    "- There should be one-- and preferably only one --obvious way to do it.\n",
    "- Special cases aren't special enough to break the rules.\n",
    "- In the face of ambiguity, refuse the temptation to guess.\n",
    "\n",
    "The Zen of Python is a reflection of Python's emphasis on code clarity and the idea that code should be easy to read and understand. It serves as a set of guidelines that help Python developers write clean, Pythonic code."
   ]
  },
  {
   "cell_type": "code",
   "execution_count": null,
   "metadata": {},
   "outputs": [],
   "source": [
    "import this\n",
    "#"
   ]
  },
  {
   "cell_type": "markdown",
   "metadata": {},
   "source": [
    "### python follows PEMDAS(Parentheses/Brackets, Exponents/Orders, Multiplication and Division, Addition and Subtraction)"
   ]
  },
  {
   "cell_type": "code",
   "execution_count": null,
   "metadata": {},
   "outputs": [],
   "source": [
    " \n",
    "import pandas as pd\n",
    "\n",
    "table = pd.read_html('https://www.w3schools.com/python/python_operators.asp')\n",
    "table[0]"
   ]
  },
  {
   "cell_type": "code",
   "execution_count": null,
   "metadata": {},
   "outputs": [],
   "source": [
    "table[1]\n"
   ]
  },
  {
   "cell_type": "code",
   "execution_count": null,
   "metadata": {},
   "outputs": [],
   "source": [
    "table[2]\n"
   ]
  },
  {
   "cell_type": "code",
   "execution_count": null,
   "metadata": {},
   "outputs": [],
   "source": [
    "table[3]"
   ]
  },
  {
   "cell_type": "code",
   "execution_count": null,
   "metadata": {},
   "outputs": [],
   "source": [
    "table[4]"
   ]
  },
  {
   "cell_type": "code",
   "execution_count": null,
   "metadata": {},
   "outputs": [],
   "source": [
    "table[5]"
   ]
  },
  {
   "cell_type": "code",
   "execution_count": null,
   "metadata": {},
   "outputs": [],
   "source": [
    "table[6]"
   ]
  },
  {
   "cell_type": "markdown",
   "metadata": {},
   "source": [
    " \n",
    "Personal Message: Use a variable to represent a person’s name, and print  a message to that person. Your message should be simple, such as, “Hello  Eric, would you like to learn some Python today?”\n",
    " "
   ]
  },
  {
   "cell_type": "code",
   "execution_count": null,
   "metadata": {},
   "outputs": [],
   "source": []
  },
  {
   "cell_type": "markdown",
   "metadata": {},
   "source": [
    "<!-- print(ali)   chr ord %d %s .format id -->"
   ]
  },
  {
   "cell_type": "code",
   "execution_count": null,
   "metadata": {},
   "outputs": [],
   "source": [
    "personal_message:str='hello Eric'\n",
    "print(personal_message)"
   ]
  },
  {
   "cell_type": "code",
   "execution_count": null,
   "metadata": {},
   "outputs": [],
   "source": []
  },
  {
   "cell_type": "markdown",
   "metadata": {},
   "source": [
    "2-4. Name Cases: Use a variable to represent a person’s name, and then print\n",
    "that person’s name in lowercase, uppercase, and title case"
   ]
  },
  {
   "cell_type": "code",
   "execution_count": null,
   "metadata": {},
   "outputs": [],
   "source": [
    "my_name:str='arman AshrAf'\n",
    "print(my_name.title())\n",
    "print(my_name.lower())\n",
    "print(my_name.upper())"
   ]
  },
  {
   "cell_type": "markdown",
   "metadata": {},
   "source": [
    "2-5. Famous Quote: Find a quote from a famous person you admire. Print the\n",
    "quote and the name of its author."
   ]
  },
  {
   "cell_type": "code",
   "execution_count": null,
   "metadata": {},
   "outputs": [],
   "source": [
    "famous_quotation:str='Albert Einstein once said, “A person who never made a mistake never tried anything new.'\n",
    "print(famous_quotation)  "
   ]
  },
  {
   "cell_type": "markdown",
   "metadata": {},
   "source": [
    "2-6. Famous Quote 2: Repeat Exercise 2-5, but this time, represent the famous\n",
    "person’s name using a variable called famous_person. Then compose your message and represent it with a new variable called message. Print your message."
   ]
  },
  {
   "cell_type": "code",
   "execution_count": null,
   "metadata": {},
   "outputs": [],
   "source": [
    "famous_person = \"Albert Einstein\"\n",
    "message = f'{famous_person} once said, \"A person who never made a mistake never tried anything new.\"'\n",
    "print(message)"
   ]
  },
  {
   "cell_type": "markdown",
   "metadata": {},
   "source": [
    "2-7. Stripping Names: Use a variable to represent a person’s name, and\n",
    "include some whitespace characters at the beginning and end of the name.\n",
    "Make sure you use each character combination, \"\\t\" and \"\\n\", at least once.\n",
    "Print the name once, so the whitespace around the name is displayed.\n",
    "Then print the name using each of the three stripping functions, lstrip(),\n",
    "rstrip(), and strip()"
   ]
  },
  {
   "cell_type": "code",
   "execution_count": null,
   "metadata": {},
   "outputs": [],
   "source": [
    "name = \"\\tArman ashraf\\n\"\n",
    "\n",
    "print(f\"Unmodified name:{name}\")\n",
    "print(name)\n",
    "\n",
    "print(\"\\nUsing lstrip():\")\n",
    "print(name.lstrip())\n",
    "\n",
    "print(\"\\nUsing rstrip():\")\n",
    "print(name.rstrip())\n",
    "\n",
    "print(\"\\nUsing strip():\")\n",
    "print(name.strip())"
   ]
  },
  {
   "cell_type": "markdown",
   "metadata": {},
   "source": [
    "2-8. File Extensions: Python has a removesuffix() method that works exactly\n",
    "like removeprefix(). Assign the value 'python_notes.txt' to a variable called\n",
    "filename. Then use the removesuffix() method to display the filename without\n",
    "the file extension, like some file browsers do."
   ]
  },
  {
   "cell_type": "code",
   "execution_count": null,
   "metadata": {},
   "outputs": [],
   "source": [
    "filename='python_notes.txt'\n",
    "print(filename.removesuffix('.txt'))"
   ]
  },
  {
   "cell_type": "markdown",
   "metadata": {},
   "source": [
    "F\n",
    "2-9. Number Eight: Write addition, subtraction, multiplication, and division\n",
    "operations that each result in the number 8. Be sure to enclose your operations\n",
    "in print() calls to see the results. You should create four lines that look like this:\n",
    "print(5+3)\n",
    "Your output should be four lines, with the number 8 appearing once on\n",
    "each line."
   ]
  },
  {
   "cell_type": "code",
   "execution_count": null,
   "metadata": {},
   "outputs": [],
   "source": []
  },
  {
   "cell_type": "markdown",
   "metadata": {},
   "source": [
    "2-10. Favorite Number: Use a variable to represent your favorite number. Then,\n",
    "using that variable, create a message that reveals your favorite number. Print\n",
    "that message."
   ]
  },
  {
   "cell_type": "code",
   "execution_count": null,
   "metadata": {},
   "outputs": [],
   "source": [
    "favorite_number:int=1234\n",
    "message:str=f'This is my favorite Number:{favorite_number}'\n",
    "print(message)"
   ]
  },
  {
   "cell_type": "markdown",
   "metadata": {},
   "source": [
    "2-11. Adding Comments: Choose two of the programs you’ve written, and\n",
    "add at least one comment to each. If you don’t have anything specific to write\n",
    "because your programs are too simple at this point, just add your name and the\n",
    "current date at the top of each program file. Then write one sentence describing\n",
    "what the program does."
   ]
  },
  {
   "cell_type": "code",
   "execution_count": null,
   "metadata": {},
   "outputs": [],
   "source": [
    "# This is a comments \n",
    " "
   ]
  },
  {
   "cell_type": "markdown",
   "metadata": {},
   "source": [
    "### F-string and Jinja style"
   ]
  },
  {
   "cell_type": "code",
   "execution_count": null,
   "metadata": {},
   "outputs": [],
   "source": [
    "# F-string\n",
    "from jinja2 import Template\n",
    "msg:str='This is the example of F-string'\n",
    "print(f'F-String:{msg}')\n",
    "\n",
    "# Jinja Style\n",
    "# \"\\\" line continue\n",
    "mesg:str='Now, this is the example fo Jinja style'\n",
    "new_msg:str='''Jinja style \n",
    "      {{mesg}}'''\n",
    "print(new_msg)\n"
   ]
  },
  {
   "cell_type": "markdown",
   "metadata": {},
   "source": [
    "3-1. Names: Store the names of a few of your friends in a list called names. Print\n",
    "each person’s name by accessing each element in the list, one at a time."
   ]
  },
  {
   "cell_type": "code",
   "execution_count": null,
   "metadata": {},
   "outputs": [],
   "source": [
    "friend_name:list=['ali','asad','ahmad']\n",
    "print(friend_name[0])\n",
    "print(friend_name[1])\n",
    "print(friend_name[2])"
   ]
  },
  {
   "cell_type": "markdown",
   "metadata": {},
   "source": [
    "3-2. Greetings: Start with the list you used in Exercise 3-1, but instead of just\n",
    "printing each person’s name, print a message to them. The text of each message should be the same, but each message should be personalized with the\n",
    "person’s name."
   ]
  },
  {
   "cell_type": "code",
   "execution_count": null,
   "metadata": {},
   "outputs": [],
   "source": [
    "friend_name:list=['ali','asad','ahmad']\n",
    "print(f'friend_name[0] is my friend' )\n",
    "print(f'friend_name[1] is my friend ')\n",
    "print(f'friend_name[2] is my friend ')"
   ]
  },
  {
   "cell_type": "markdown",
   "metadata": {},
   "source": [
    "3-3. Your Own List: Think of your favorite mode of transportation, such as a\n",
    "motorcycle or a car, and make a list that stores several examples. Use your list\n",
    "to print a series of statements about these items, such as “I would like to own a\n",
    "Honda motorcycle.”"
   ]
  },
  {
   "cell_type": "code",
   "execution_count": null,
   "metadata": {},
   "outputs": [],
   "source": [
    "favorite_transportation:list=['motercycle','bus']\n",
    "print(f'I have a {favorite_transportation[0]}')\n",
    "print(f'Fair of {favorite_transportation[1]} is low reletive to the car')"
   ]
  },
  {
   "cell_type": "markdown",
   "metadata": {},
   "source": [
    "### Modifying Elements in a List"
   ]
  },
  {
   "cell_type": "code",
   "execution_count": null,
   "metadata": {},
   "outputs": [],
   "source": [
    "list_of_cars:list = ['honda','suzuki','xli']\n",
    "print(list_of_cars)\n",
    "print(f'Original list {list_of_cars}')\n",
    "list_of_cars[2] = 'wagnor'\n",
    "print(f'Modified list {list_of_cars}')\n"
   ]
  },
  {
   "cell_type": "markdown",
   "metadata": {},
   "source": [
    "### What is a List\n",
    "A list is a collection of items in a particular order."
   ]
  },
  {
   "cell_type": "code",
   "execution_count": null,
   "metadata": {},
   "outputs": [],
   "source": [
    " \n",
    "friend_list = ['ali','asad', 'saad']\n",
    "\n",
    "print(friend_list[2])\n",
    "print(friend_list[-2])\n",
    "print(friend_list[0])\n",
    "print(friend_list[-1])\n",
    "\n"
   ]
  },
  {
   "cell_type": "code",
   "execution_count": null,
   "metadata": {},
   "outputs": [],
   "source": [
    "english_charcter:str = list('ABCDEFGHIJKL')\n",
    "\n",
    "print(english_charcter[0:3:-1])"
   ]
  },
  {
   "cell_type": "code",
   "execution_count": null,
   "metadata": {},
   "outputs": [],
   "source": [
    "a: str = print(\"Pakistan\")  # The print function displays \"Pakistan\" and returns None, which is assigned to 'a'.\n",
    "display(a)  # You display the value of 'a', which is None.\n",
    "print(print(\"Pakistan zinda bad\"))"
   ]
  },
  {
   "cell_type": "code",
   "execution_count": null,
   "metadata": {},
   "outputs": [],
   "source": [
    "a : list[str] = ['a','b','c']\n",
    "b = a.copy() # Deep copy\n",
    "\n",
    "print(a)\n",
    "print(b)\n",
    "b[0] = 'pakistan'  \n",
    "\n",
    "print(a)\n",
    "print(b)\n",
    "a : list[str] = ['a','b','c']\n",
    "b = a # shallow copy\n",
    "\n",
    "print(a)\n",
    "print(b)\n",
    "b[0] = 'pakistan'  \n",
    "\n",
    "print(a)\n",
    "print(b)"
   ]
  },
  {
   "cell_type": "code",
   "execution_count": null,
   "metadata": {},
   "outputs": [],
   "source": [
    "data_sets:list[any] = [1,1,1,2,3,2,1,4,3,4,3]\n",
    "\n",
    "print(data_sets.count(2))\n",
    "print(data_sets.count(3))\n",
    "print(data_sets.count(5))"
   ]
  },
  {
   "cell_type": "code",
   "execution_count": null,
   "metadata": {},
   "outputs": [],
   "source": [
    "my_friends:list[any] = ['ali' , 'asad', 'saad']\n",
    "new_friend:list[any] = ['sameer','ali', 'mazher','ali']\n",
    "my_friends.extend(new_friend)\n",
    "print(my_friends)\n",
    "my_friends.remove('ali') # remove items from the text \n",
    "print(my_friends)\n",
    "find_index :int = my_friends.index('ali',3)\n",
    "print(find_index)\n",
    "\n",
    "\n",
    "\n",
    "\n",
    " "
   ]
  },
  {
   "cell_type": "code",
   "execution_count": null,
   "metadata": {},
   "outputs": [],
   "source": [
    "alphaptical_letter :list[any] = list('xyzabcdefghijklmnopqrstuvw')\n",
    "print(alphaptical_letter)\n",
    "alphaptical_letter.sort(reverse=True)\n",
    "print(alphaptical_letter)\n",
    "alphaptical_letter.reverse()\n",
    "print(alphaptical_letter)"
   ]
  },
  {
   "cell_type": "markdown",
   "metadata": {},
   "source": [
    "### List method"
   ]
  },
  {
   "cell_type": "code",
   "execution_count": null,
   "metadata": {},
   "outputs": [],
   "source": [
    "[i for i in dir(list) if '_' not in i]"
   ]
  },
  {
   "cell_type": "code",
   "execution_count": null,
   "metadata": {},
   "outputs": [],
   "source": [
    "\n",
    "my_number_list:list[any] = [1,2,3,4,5,]\n",
    "print(my_number_list)\n",
    "append_list = my_number_list.append('hello')\n",
    "print(append_list)\n",
    "print(my_number_list)\n",
    "# del remove from the memory\n",
    "del my_number_list[0]\n",
    "print(my_number_list)\n",
    "# # remove all elements but object is remain exist\n",
    "# my_number_list.clear()\n",
    "# print(my_number_list)\n",
    "# pop remove the list item\n",
    "\n",
    "popued_list = my_number_list.pop()\n",
    "print(popued_list)\n",
    "print(my_number_list)\n",
    "my_number_list.pop(2)\n",
    "print(my_number_list)\n",
    "# append add the item in the last\n",
    "append_list = my_number_list.append(11)\n",
    "print(my_number_list)\n",
    "# add element in the particular postion\n",
    "my_number_list.insert(0,111)\n",
    "print(my_number_list)"
   ]
  },
  {
   "cell_type": "code",
   "execution_count": null,
   "metadata": {},
   "outputs": [],
   "source": [
    "city_names:list[any] = [ 'silkot', 'Gujranwala', 'lahore']\n",
    "for item in city_names:\n",
    "    print(item)\n",
    "     \n",
    "else:\n",
    "    print('Thank you')    "
   ]
  },
  {
   "cell_type": "markdown",
   "metadata": {},
   "source": [
    "### Tuple"
   ]
  },
  {
   "cell_type": "code",
   "execution_count": null,
   "metadata": {},
   "outputs": [],
   "source": [
    "students_db = [('ali','23'),\n",
    "                                    ('ali','23'),\n",
    "                                    ('asad','33')\n",
    "                                    ,('ali','23'),]\n",
    "user_input:str = input('Please Enter your name')\n",
    "user_age :int = input('Please enter your age')\n",
    "for std in students_db:\n",
    "    name,age=std\n",
    "    if user_input==name and user_age==age:\n",
    "        print('valid user name')\n",
    "    else:\n",
    "      print('invalid user name')    "
   ]
  },
  {
   "cell_type": "markdown",
   "metadata": {},
   "source": [
    "### python enumerator"
   ]
  },
  {
   "cell_type": "code",
   "execution_count": null,
   "metadata": {},
   "outputs": [],
   "source": [
    " \n",
    "name_list:list[str] = ['ali', 'arman', 'ahmad']\n",
    "print(list(enumerate(name_list)))"
   ]
  },
  {
   "cell_type": "markdown",
   "metadata": {},
   "source": [
    "### "
   ]
  },
  {
   "cell_type": "markdown",
   "metadata": {},
   "source": [
    "### Range \n",
    "range(start,end-1,step)"
   ]
  },
  {
   "cell_type": "code",
   "execution_count": null,
   "metadata": {},
   "outputs": [],
   "source": [
    "a=list(range(1,11))\n",
    "print(a)\n",
    "print(sum(a))\n",
    "print(min(a))\n",
    "print(max(a))"
   ]
  },
  {
   "cell_type": "markdown",
   "metadata": {},
   "source": [
    "### List comprehensive"
   ]
  },
  {
   "cell_type": "code",
   "execution_count": null,
   "metadata": {},
   "outputs": [],
   "source": [
    "[i**2 for i in range(1,10,2)]"
   ]
  },
  {
   "cell_type": "markdown",
   "metadata": {},
   "source": [
    "### Help\n",
    "* help(object)\n",
    "* object?\n",
    "* object??\n",
    "* ?object\n",
    "* ??object"
   ]
  },
  {
   "cell_type": "code",
   "execution_count": null,
   "metadata": {},
   "outputs": [],
   "source": [
    "\n",
    "my_foods = ['pizza', 'falafel', 'carrot cake'] \n",
    "# friend_foods = my_foods[:] # deep copy\n",
    "# OR\n",
    "friend_foods = my_foods.copy() # Deep copy\n",
    "print(my_foods)\n",
    "print(friend_foods)\n",
    "\n",
    "friend_foods[0] = \"Tikka\"\n",
    "\n",
    "print(my_foods)\n",
    "print(friend_foods)\n",
    "sorted([6,4,3,2,22,-2,33])"
   ]
  },
  {
   "cell_type": "markdown",
   "metadata": {},
   "source": [
    "### Tuples\n",
    "Tuples cannot ressign the value"
   ]
  },
  {
   "cell_type": "code",
   "execution_count": null,
   "metadata": {},
   "outputs": [],
   "source": [
    "my_tuple:tuple[str]= ('arman',3,'ahmad',True)\n",
    "print(my_tuple)\n",
    "# my_tuple[0]='ali' # Error in this line\n",
    "print(my_tuple)\n",
    "# but inside the tuple we can perform such as \n",
    "my_new_tuple = ('ali','asad',[33,4,5],'usman',True)\n",
    "print(my_new_tuple)\n",
    "my_new_tuple[2].insert(0,9999)\n",
    "print(my_new_tuple)"
   ]
  },
  {
   "cell_type": "code",
   "execution_count": null,
   "metadata": {},
   "outputs": [],
   "source": [
    "input(\"Enter seprated value for topping\").split(\",\")"
   ]
  },
  {
   "cell_type": "markdown",
   "metadata": {},
   "source": [
    "### Union\n",
    "* aliases\n",
    "PerType = Union[float, int]"
   ]
  },
  {
   "cell_type": "code",
   "execution_count": null,
   "metadata": {},
   "outputs": [],
   "source": [
    "from typing import Union, Optional\n",
    "user_input:Union[int,float]=float(input('Enter your marks'))\n",
    "# OR\n",
    "# user_input:int|float=int(input('Enter your marks'))\n",
    "grade :Optional[str] = None\n",
    "\n",
    "if user_input >= 80:\n",
    "    grade = \"A+\"\n",
    "elif user_input >= 70:\n",
    "    grade = \"A\"\n",
    "elif user_input >= 60:\n",
    "    grade = \"B\"\n",
    "elif user_input >= 50:\n",
    "    grade = \"C\"\n",
    "elif user_input >= 40:\n",
    "    grade = \"D\"\n",
    "elif user_input >= 33:\n",
    "    grade = \"E\"\n",
    "else:\n",
    "    grade = \"Fail\"\n",
    "\n",
    "print(grade)    "
   ]
  },
  {
   "cell_type": "markdown",
   "metadata": {},
   "source": [
    "### List Comprehensions\n",
    "A list comprehension allows you to generate\n",
    "the list in just one line of code. A list comprehension combines the\n",
    "for loop and the creation of new elements into one line, and automatically\n",
    "appends each new element"
   ]
  },
  {
   "cell_type": "code",
   "execution_count": null,
   "metadata": {},
   "outputs": [],
   "source": [
    "squares = [value**2 for value in range(1, 11)]\n",
    "print(squares)"
   ]
  },
  {
   "cell_type": "code",
   "execution_count": null,
   "metadata": {},
   "outputs": [],
   "source": [
    "players = ['charles', 'martina', 'michael', 'florence', 'eli']\n",
    "print(players[-3:])"
   ]
  },
  {
   "cell_type": "markdown",
   "metadata": {},
   "source": [
    "* Copying a List\n",
    "To copy a list, you can make a slice that includes the entire original list\n",
    "by omitting the first index and the second index ([:]). This tells Python to\n",
    "make a slice that starts at the first item and ends with the last item, producing a copy of the entire list."
   ]
  },
  {
   "cell_type": "code",
   "execution_count": null,
   "metadata": {},
   "outputs": [],
   "source": [
    "my_foods = ['pizza', 'falafel', 'carrot cake']\n",
    "friend_foods = my_foods[:]\n",
    "print(\"My favorite foods are:\")\n",
    "print(my_foods)\n",
    "print(\"\\nMy friend's favorite foods are:\")\n",
    "print(friend_foods)"
   ]
  },
  {
   "cell_type": "markdown",
   "metadata": {},
   "source": [
    "### Set"
   ]
  },
  {
   "cell_type": "code",
   "execution_count": null,
   "metadata": {},
   "outputs": [],
   "source": [
    "data : set = {7,1,2,1,1,1,1,3,2}\n",
    "print(data[0])"
   ]
  },
  {
   "cell_type": "markdown",
   "metadata": {},
   "source": [
    "### pprint in python\n",
    "The pprint module in Python stands for \"pretty-print.\" It is used for formatting complex data structures, like dictionaries or lists, in a way that is more human-readable when printed to the console or a file. The primary purpose of pprint is to improve the readability of data structures, especially when they are nested or contain a lot of data."
   ]
  },
  {
   "cell_type": "code",
   "execution_count": null,
   "metadata": {},
   "outputs": [],
   "source": [
    "import pprint\n",
    "\n",
    "data = {\n",
    "    'name': 'arman',\n",
    "    'age': 22,\n",
    "    'address': {\n",
    "        'street': '6',\n",
    "        'city': 'sialkot',\n",
    "        'zipcode': '12345'\n",
    "    }\n",
    "}\n",
    "\n",
    "pprint.pprint(data)\n",
    "\n"
   ]
  },
  {
   "cell_type": "code",
   "execution_count": null,
   "metadata": {},
   "outputs": [],
   "source": [
    "from typing import Dict, Union, Optional\n",
    "import pprint\n",
    "\n",
    "\n",
    "Key = Union[int,list[int]] # create custom type\n",
    "Value = Union[int, str, list, dict, tuple, set]\n",
    "\n",
    "# List                    0                1            2\n",
    "data : Dict[Key,Value] = {\n",
    "                        \"fname\":\"Muhammad Aslam\",\n",
    "                        \"name\":\"Muhammad Qasim\",\n",
    "                        \"education\": \"MSDS\",\n",
    "                      #  [1,2,3] : \"Pakistan\", # error\n",
    "                        # (1,2,3) : \"Pakistan\", #error\n",
    "                        # {1,2,3} : \"pakistan\", #error\n",
    "                        }\n",
    "\n",
    "pprint.pprint(data)\n",
    "print(data[\"name\"])\n",
    "print(data['fname'])\n",
    "print(data['education'])\n",
    "# print(data[0]) # index = key"
   ]
  },
  {
   "cell_type": "code",
   "execution_count": null,
   "metadata": {},
   "outputs": [],
   "source": [
    "from typing import Dict, Union, Optional\n",
    "import pprint\n",
    "\n",
    "\n",
    "Key = Union[int,str] # create custom type\n",
    "Value = Union[int, str, list, dict, tuple, set]\n",
    "\n",
    "            \n",
    "data : Dict[Key,Value] = {\n",
    "                        \"fname\":\"Muhammad Aslam\",\n",
    "                        \"name\":\"Muhammad Qasim\",\n",
    "                        \"education\": \"MSDS\",\n",
    "                        \"abc\" : [1,2,3],\n",
    "                        'xyz': {1,2,3},\n",
    "                        'efg' : (1,2,3),\n",
    "                        'cde' : {\"a\":1, \"b\":2}\n",
    "                        # [1,2,3] : \"Pakistan\", # error\n",
    "                        # (1,2,3) : \"Pakistan\", #error\n",
    "                        # {1,2,3} : \"pakistan\", #error\n",
    "                        }\n",
    "\n",
    "pprint.pprint(data)\n",
    "print(data[\"name\"])\n",
    "print(data['fname'])\n",
    "\n",
    "print(data['xyz'])\n",
    "print(data['education'])"
   ]
  },
  {
   "cell_type": "markdown",
   "metadata": {},
   "source": []
  },
  {
   "cell_type": "code",
   "execution_count": 6,
   "metadata": {},
   "outputs": [
    {
     "name": "stdout",
     "output_type": "stream",
     "text": [
      "Before {'fname': 'Muhammad Aslam', 'name': 'Muhammad Qasim', 'education': 'MSDS'}\n",
      "dddd\n",
      "After {'fname': 'Muhammad Aslam', 'name': 'Muhammad Qasim', 'education': 'MSDS', 'namde': 'dddd'}\n",
      "['clear', 'copy', 'fromkeys', 'get', 'items', 'keys', 'pop', 'popitem', 'setdefault', 'update', 'values']\n"
     ]
    }
   ],
   "source": [
    "from typing import Dict, Union, Optional\n",
    "import pprint\n",
    "\n",
    "\n",
    "Key = Union[int,str] # create custom type\n",
    "Value = Union[int, str, list, dict, tuple, set]\n",
    "\n",
    "data : Dict[Key,Value] = {\n",
    "                        \"fname\":\"Muhammad Aslam\",\n",
    "                        \"name\":\"Muhammad Qasim\",\n",
    "                        \"education\": \"MSDS\"}\n",
    "\n",
    "print(\"Before\", data)\n",
    "# get method is used when there is no key in Dictionary what we want to print out\n",
    "a : str = data.get(\"Pakistan\",\"Pakistan is not the key of Data\")\n",
    "# setdefault method find the key from the object if it is not found then it set that keys and values\n",
    "a : str = data.setdefault(\"age\",33)\n",
    "print(a)\n",
    "\n",
    "print(\"After\", data)\n",
    "\n",
    "methods : list[str] = [m for m in dir(data) if \"__\" not in m]\n",
    "print(methods)\n"
   ]
  },
  {
   "cell_type": "code",
   "execution_count": 9,
   "metadata": {},
   "outputs": [
    {
     "name": "stdout",
     "output_type": "stream",
     "text": [
      "{'fname': 'Muhammad Aslam', 'name': 'M.Qasim', 'education': 'MSDS', 'age': 30, 'Height': '6 Feet'}\n"
     ]
    }
   ],
   "source": [
    "Key = Union[int,str] # create custom type\n",
    "Value = Union[int, str, list, dict, tuple, set]\n",
    "\n",
    "data : Dict[Key,Value] = {\n",
    "                        \"fname\":\"Muhammad Aslam\",\n",
    "                        \"name\":\"Muhammad Qasim\",\n",
    "                        \"education\": \"MSDS\"}\n",
    "\n",
    "\n",
    "data1 : Dict[Key,Value] = {\"name\":\"M.Qasim\",\n",
    "                           \"age\":30,\n",
    "                           \"Height\": \"6 Feet\"}\n",
    "\n",
    "# update method is use to update the value in Dict\n",
    "data.update(data1)\n",
    "\n",
    "\n",
    "print(data)"
   ]
  },
  {
   "cell_type": "code",
   "execution_count": 13,
   "metadata": {},
   "outputs": [
    {
     "data": {
      "text/html": [
       "<div>\n",
       "<style scoped>\n",
       "    .dataframe tbody tr th:only-of-type {\n",
       "        vertical-align: middle;\n",
       "    }\n",
       "\n",
       "    .dataframe tbody tr th {\n",
       "        vertical-align: top;\n",
       "    }\n",
       "\n",
       "    .dataframe thead th {\n",
       "        text-align: right;\n",
       "    }\n",
       "</style>\n",
       "<table border=\"1\" class=\"dataframe\">\n",
       "  <thead>\n",
       "    <tr style=\"text-align: right;\">\n",
       "      <th></th>\n",
       "      <th>roll no</th>\n",
       "      <th>Name</th>\n",
       "      <th>education</th>\n",
       "    </tr>\n",
       "  </thead>\n",
       "  <tbody>\n",
       "    <tr>\n",
       "      <th>0</th>\n",
       "      <td>1</td>\n",
       "      <td>Sir Zia</td>\n",
       "      <td>Master</td>\n",
       "    </tr>\n",
       "    <tr>\n",
       "      <th>1</th>\n",
       "      <td>2</td>\n",
       "      <td>Sir Inam</td>\n",
       "      <td>Master</td>\n",
       "    </tr>\n",
       "    <tr>\n",
       "      <th>2</th>\n",
       "      <td>3</td>\n",
       "      <td>Muhammad Qasim</td>\n",
       "      <td>Master</td>\n",
       "    </tr>\n",
       "  </tbody>\n",
       "</table>\n",
       "</div>"
      ],
      "text/plain": [
       "   roll no            Name education\n",
       "0        1         Sir Zia    Master\n",
       "1        2        Sir Inam    Master\n",
       "2        3  Muhammad Qasim    Master"
      ]
     },
     "execution_count": 13,
     "metadata": {},
     "output_type": "execute_result"
    }
   ],
   "source": [
    "import pandas as pd\n",
    "from typing import Any\n",
    "\n",
    "\n",
    "students_data : Dict[str, list[Any]] = {\n",
    "    \"roll no\": [1,2,3],\n",
    "    \"Name\": [\"Sir Zia\",\"Sir Inam\",\"Muhammad Qasim\"],\n",
    "    \"education\": [\"Master\",\"Master\",\"Master\"]\n",
    "}\n",
    "\n",
    "df : pd.DataFrame = pd.DataFrame(students_data)\n",
    "\n",
    "df"
   ]
  },
  {
   "cell_type": "code",
   "execution_count": 14,
   "metadata": {},
   "outputs": [
    {
     "name": "stdout",
     "output_type": "stream",
     "text": [
      "<class 'str'>\n"
     ]
    },
    {
     "data": {
      "text/plain": [
       "'{\\n    \"fname\": \"Muhammad Aslam\",\\n    \"name\": \"M.Qasim\",\\n    \"education\": \"MSDS\",\\n    \"age\": 30,\\n    \"Height\": \"6 Feet\"\\n}'"
      ]
     },
     "metadata": {},
     "output_type": "display_data"
    },
    {
     "name": "stdout",
     "output_type": "stream",
     "text": [
      "{\n",
      "    \"fname\": \"Muhammad Aslam\",\n",
      "    \"name\": \"M.Qasim\",\n",
      "    \"education\": \"MSDS\",\n",
      "    \"age\": 30,\n",
      "    \"Height\": \"6 Feet\"\n",
      "}\n"
     ]
    }
   ],
   "source": [
    "import json\n",
    "\n",
    "data1  = json.dumps(data, indent=4)\n",
    "\n",
    "print(type(data1))\n",
    "display(data1)\n",
    "print(data1)"
   ]
  },
  {
   "cell_type": "code",
   "execution_count": 7,
   "metadata": {},
   "outputs": [
    {
     "name": "stdout",
     "output_type": "stream",
     "text": [
      "<class 'str'>\n"
     ]
    },
    {
     "data": {
      "text/plain": [
       "'{\\n    \"fname\": \"Muhammad Aslam\",\\n    \"name\": \"Muhammad Qasim\",\\n    \"education\": \"MSDS\"\\n}'"
      ]
     },
     "metadata": {},
     "output_type": "display_data"
    },
    {
     "name": "stdout",
     "output_type": "stream",
     "text": [
      "{\n",
      "    \"fname\": \"Muhammad Aslam\",\n",
      "    \"name\": \"Muhammad Qasim\",\n",
      "    \"education\": \"MSDS\"\n",
      "}\n"
     ]
    }
   ],
   "source": [
    "import json\n",
    "from typing import Dict,Union\n",
    "Key = Union[int,str] \n",
    "Value = Union[int, str, list, dict, tuple, set]\n",
    "data : Dict[Key,Value] = {\n",
    "                        \"fname\":\"Muhammad Aslam\",\n",
    "                        \"name\":\"Muhammad Qasim\",\n",
    "                        \"education\": \"MSDS\"}\n",
    "data1  = json.dumps(data, indent=4)\n",
    "\n",
    "print(type(data1))\n",
    "display(data1)\n",
    "print(data1)"
   ]
  },
  {
   "cell_type": "code",
   "execution_count": 8,
   "metadata": {},
   "outputs": [
    {
     "name": "stdout",
     "output_type": "stream",
     "text": [
      "2\n"
     ]
    }
   ],
   "source": [
    "from typing import Union, TypedDict, Tuple, Set, List\n",
    "import pprint\n",
    "\n",
    "cdeDataType = TypedDict(\n",
    "    'cdeDataType',\n",
    "    {\n",
    "        \"a\": int,\n",
    "        \"b\": int\n",
    "    }\n",
    ")\n",
    "\n",
    "myDataType = TypedDict(\n",
    "    'myDataType', {\n",
    "        \"fname\": str,\n",
    "        \"name\": str,\n",
    "        \"education\": str,\n",
    "        \"abc\": List[int],\n",
    "        'xyz': Set[int],\n",
    "        'efg': Tuple,\n",
    "        'cde': cdeDataType\n",
    "    }\n",
    ")\n",
    "\n",
    "\n",
    "# Key = Union[int, str]  # create custom type\n",
    "# Value = Union[int, str, list, tuple, set]\n",
    "\n",
    "\n",
    "data: myDataType = {\n",
    "    \"fname\": \"Muhammad Aslam\",\n",
    "    \"name\": \"Muhammad Qasim\",\n",
    "    \"education\": \"MSDS\",\n",
    "    \"abc\": [1, 2, 3],\n",
    "    'xyz': {1, 2, 3},\n",
    "    'efg': (1, 2, 3),\n",
    "    'cde': {\"a\": 1, \"b\": 2}\n",
    "}\n",
    "\n",
    "print(data['cde']['b'])"
   ]
  },
  {
   "cell_type": "code",
   "execution_count": 10,
   "metadata": {},
   "outputs": [
    {
     "name": "stdout",
     "output_type": "stream",
     "text": [
      "set item is  1 \n",
      "set item is  2 \n",
      "set item is  3 \n",
      "set item is  4 \n"
     ]
    }
   ],
   "source": [
    "#           iteration perform on keys\n",
    "l1 : set[int] = {2,1,2,3,4,1,1,1,1}\n",
    "\n",
    "for k in l1:\n",
    "    print(f\"set item is  {k} \")"
   ]
  },
  {
   "cell_type": "code",
   "execution_count": null,
   "metadata": {},
   "outputs": [],
   "source": [
    "# list(...) is a type casting operation. It converts the set into a list. \n",
    "# This means that the elements from the set are copied into a list, preserving \n",
    "# their order (in this case, the order is {1, 2, 3, 4}).\n",
    "                     \n",
    "l1 : list[set[int]] = list({1,2,3,4,1,1,1,1})\n",
    "\n",
    "for k in l1:\n",
    "    print(f\"value from list of set : {k} \")"
   ]
  },
  {
   "cell_type": "code",
   "execution_count": 12,
   "metadata": {},
   "outputs": [
    {
     "data": {
      "text/plain": [
       "[('a', 'x', 1), ('b', 'y', 2), ('c', 'z', 3)]"
      ]
     },
     "execution_count": 12,
     "metadata": {},
     "output_type": "execute_result"
    }
   ],
   "source": [
    "names : list[str] = ['a','b','c']\n",
    "fname : list[str] = ['x','y','z']\n",
    "age : list[int] = [1,2,3]\n",
    "\n",
    "list(zip(names,fname,age))"
   ]
  },
  {
   "cell_type": "code",
   "execution_count": 13,
   "metadata": {},
   "outputs": [
    {
     "name": "stdout",
     "output_type": "stream",
     "text": [
      "write quite or exit to stop this program\n",
      "write quite or exit to stop this program\n",
      "write quite or exit to stop this program\n"
     ]
    },
    {
     "data": {
      "text/plain": [
       "[{'name': 'ali', 'education': 'ali'}, {'name': 'arman', 'education': 'arman'}]"
      ]
     },
     "metadata": {},
     "output_type": "display_data"
    }
   ],
   "source": [
    "data : list[dict[str,str]] = []\n",
    "\n",
    "flag : bool = True\n",
    "\n",
    "while flag:\n",
    "    print(\"write quite or exit to stop this program\")\n",
    "    name : str = input (\"Your good name ? \\t:\")\n",
    "    eduction: str = input(\"Your last education? \\t\")\n",
    "\n",
    "    if name in ['exit','quite','close','stop'] or eduction  in ['exit','quite','close','stop']:\n",
    "        flag=False\n",
    "        break\n",
    "    data.append({\"name\":name,\n",
    "                 \"education\": eduction})\n",
    "\n",
    "display(data) "
   ]
  },
  {
   "cell_type": "code",
   "execution_count": 15,
   "metadata": {},
   "outputs": [],
   "source": [
    "# The pass statement can be helpful in situations where you need a \n",
    "# valid code structure but don't want any actual code to\n",
    "# execute at that point. It's often used during development \n",
    "# when you're working on an incomplete or a work-in-progress piece of code.\n",
    "for i in range(1,1000):\n",
    " pass"
   ]
  },
  {
   "cell_type": "code",
   "execution_count": 17,
   "metadata": {},
   "outputs": [
    {
     "name": "stdout",
     "output_type": "stream",
     "text": [
      "15\n"
     ]
    }
   ],
   "source": [
    "print(1 + 7 \\\n",
    "      + 3\\\n",
    "         + 4)"
   ]
  },
  {
   "cell_type": "code",
   "execution_count": 19,
   "metadata": {},
   "outputs": [
    {
     "name": "stdout",
     "output_type": "stream",
     "text": [
      "xs\n",
      "dd\n",
      "quit\n"
     ]
    }
   ],
   "source": [
    "prompt = \"\\nTell me something, and I will repeat it back to you:\"\n",
    "prompt += \"\\nEnter 'quit' to end the program. \"\n",
    "message = \"\"\n",
    "while message != 'quit':\n",
    "    message = input(prompt)\n",
    "    print(message)"
   ]
  },
  {
   "cell_type": "code",
   "execution_count": 21,
   "metadata": {},
   "outputs": [
    {
     "name": "stdout",
     "output_type": "stream",
     "text": [
      "Verifying user: Candace\n",
      "Verifying user: Brian\n",
      "Verifying user: Alice\n",
      "\n",
      "The following users have been confirmed:\n",
      "Candace\n",
      "Brian\n",
      "Alice\n"
     ]
    }
   ],
   "source": [
    " \n",
    "unconfirmed_users : list[str] = ['alice', 'brian', 'candace']\n",
    "confirmed_users : list[str] = []\n",
    "  \n",
    "while unconfirmed_users:\n",
    "    current_user = unconfirmed_users.pop()\n",
    "    print(f\"Verifying user: {current_user.title()}\")\n",
    "    confirmed_users.append(current_user)\n",
    " \n",
    "print(\"\\nThe following users have been confirmed:\")\n",
    "for confirmed_user in confirmed_users:\n",
    "    print(confirmed_user.title())"
   ]
  },
  {
   "cell_type": "code",
   "execution_count": 26,
   "metadata": {},
   "outputs": [
    {
     "data": {
      "text/plain": [
       "8"
      ]
     },
     "metadata": {},
     "output_type": "display_data"
    },
    {
     "name": "stdout",
     "output_type": "stream",
     "text": [
      "Pakistan\n"
     ]
    },
    {
     "data": {
      "text/plain": [
       "None"
      ]
     },
     "metadata": {},
     "output_type": "display_data"
    }
   ],
   "source": [
    "# a: int = len(\"Pakistan\"): In this line of code, you're assigning the\n",
    "# length of the string \"Pakistan\" to the variable a. The length of\n",
    "# the string is 8, so a becomes 8. When you display(a), it simply \n",
    "# shows the value of a, which is 8.\n",
    "\n",
    "# a: str = print(\"Pakistan\"): Here, you're trying to assign the\n",
    "#  result of the print function to the variable a. The print \n",
    "# function doesn't return a value; it prints the string \"Pakistan\"\n",
    "#  to the console and returns None. So, a is assigned the value None.\n",
    "#  When you display(a), it shows the value of a, which is None.\n",
    "a : int = len(\"Pakistan\")  \n",
    "\n",
    "display(a) \n",
    " \n",
    "a : str = print(\"Pakistan\")\n",
    "\n",
    "display(a)  "
   ]
  },
  {
   "cell_type": "code",
   "execution_count": 1,
   "metadata": {},
   "outputs": [
    {
     "name": "stdout",
     "output_type": "stream",
     "text": [
      "Hello\n"
     ]
    }
   ],
   "source": [
    "def stuff():\n",
    "    print('Hello')\n",
    "    return\n",
    "    print('World')\n",
    "\n",
    "stuff()"
   ]
  },
  {
   "cell_type": "code",
   "execution_count": 12,
   "metadata": {},
   "outputs": [
    {
     "name": "stdout",
     "output_type": "stream",
     "text": [
      "Retriving http://py4e-data.dr-chuck.net/json?address=Kaunas+Technology+University&key=42\n",
      "Retrived 2459 characters\n",
      "{\n",
      "    \"results\": [\n",
      "        {\n",
      "            \"address_components\": [\n",
      "                {\n",
      "                    \"long_name\": \"73\",\n",
      "                    \"short_name\": \"73\",\n",
      "                    \"types\": [\n",
      "                        \"street_number\"\n",
      "                    ]\n",
      "                },\n",
      "                {\n",
      "                    \"long_name\": \"K. Donelai\\u010dio gatv\\u0117\",\n",
      "                    \"short_name\": \"K. Donelai\\u010dio g.\",\n",
      "                    \"types\": [\n",
      "                        \"route\"\n",
      "                    ]\n",
      "                },\n",
      "                {\n",
      "                    \"long_name\": \"Kaunas\",\n",
      "                    \"short_name\": \"Kaunas\",\n",
      "                    \"types\": [\n",
      "                        \"locality\",\n",
      "                        \"political\"\n",
      "                    ]\n",
      "                },\n",
      "                {\n",
      "                    \"long_name\": \"Kauno apskritis\",\n",
      "                    \"short_name\": \"Kauno apskr.\",\n",
      "                    \"types\": [\n",
      "                        \"administrative_area_level_1\",\n",
      "                        \"political\"\n",
      "                    ]\n",
      "                },\n",
      "                {\n",
      "                    \"long_name\": \"Lithuania\",\n",
      "                    \"short_name\": \"LT\",\n",
      "                    \"types\": [\n",
      "                        \"country\",\n",
      "                        \"political\"\n",
      "                    ]\n",
      "                },\n",
      "                {\n",
      "                    \"long_name\": \"44249\",\n",
      "                    \"short_name\": \"44249\",\n",
      "                    \"types\": [\n",
      "                        \"postal_code\"\n",
      "                    ]\n",
      "                }\n",
      "            ],\n",
      "            \"formatted_address\": \"K. Donelai\\u010dio g. 73, 44249 Kaunas, Lithuania\",\n",
      "            \"geometry\": {\n",
      "                \"location\": {\n",
      "                    \"lat\": 54.898991,\n",
      "                    \"lng\": 23.912825\n",
      "                },\n",
      "                \"location_type\": \"ROOFTOP\",\n",
      "                \"viewport\": {\n",
      "                    \"northeast\": {\n",
      "                        \"lat\": 54.90035163029149,\n",
      "                        \"lng\": 23.9142847302915\n",
      "                    },\n",
      "                    \"southwest\": {\n",
      "                        \"lat\": 54.89765366970849,\n",
      "                        \"lng\": 23.9115867697085\n",
      "                    }\n",
      "                }\n",
      "            },\n",
      "            \"partial_match\": true,\n",
      "            \"place_id\": \"ChIJiUOy_nQi50YR3wAbo1OCGeY\",\n",
      "            \"plus_code\": {\n",
      "                \"compound_code\": \"VWX7+H4 Kaunas, Kaunas City Municipality, Lithuania\",\n",
      "                \"global_code\": \"9G65VWX7+H4\"\n",
      "            },\n",
      "            \"types\": [\n",
      "                \"establishment\",\n",
      "                \"point_of_interest\"\n",
      "            ]\n",
      "        }\n",
      "    ],\n",
      "    \"status\": \"OK\"\n",
      "}\n",
      "Place id ChIJiUOy_nQi50YR3wAbo1OCGeY\n"
     ]
    }
   ],
   "source": [
    "import urllib.error, urllib.request, urllib.parse\n",
    "import json\n",
    "\n",
    "target = 'http://py4e-data.dr-chuck.net/json?' \n",
    "local = input('Enter location: ')\n",
    "url = target + urllib.parse.urlencode({'address': local, 'key' : 42})\n",
    "\n",
    "print('Retriving', url)\n",
    "data = urllib.request.urlopen(url).read()\n",
    "print('Retrived', len(data), 'characters')\n",
    "js = json.loads(data)\n",
    "print(json.dumps(js, indent = 4)) \n",
    "print('Place id', js['results'][0]['place_id'])"
   ]
  }
 ],
 "metadata": {
  "kernelspec": {
   "display_name": "python12",
   "language": "python",
   "name": "python3"
  },
  "language_info": {
   "codemirror_mode": {
    "name": "ipython",
    "version": 3
   },
   "file_extension": ".py",
   "mimetype": "text/x-python",
   "name": "python",
   "nbconvert_exporter": "python",
   "pygments_lexer": "ipython3",
   "version": "3.12.0"
  }
 },
 "nbformat": 4,
 "nbformat_minor": 2
}
