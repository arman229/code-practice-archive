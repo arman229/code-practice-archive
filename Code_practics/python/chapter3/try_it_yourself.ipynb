{
 "cells": [
  {
   "cell_type": "markdown",
   "metadata": {},
   "source": [
    "3-1. Names: Store the names of a few of your friends in a list called names. Print\n",
    "each person’s name by accessing each element in the list, one at a time."
   ]
  },
  {
   "cell_type": "code",
   "execution_count": 1,
   "metadata": {},
   "outputs": [
    {
     "name": "stdout",
     "output_type": "stream",
     "text": [
      "sameer\n",
      "mazher\n",
      "bilal\n"
     ]
    }
   ],
   "source": [
    "names:list[str] = ['sameer','mazher','bilal']\n",
    "print(names[0])\n",
    "print(names[1])\n",
    "print(names[2])"
   ]
  },
  {
   "cell_type": "markdown",
   "metadata": {},
   "source": [
    "3-2. Greetings: Start with the list you used in Exercise 3-1, but instead of just\n",
    "printing each person’s name, print a message to them. The text of each message should be the same, but each message should be personalized with the\n",
    "person’s name."
   ]
  },
  {
   "cell_type": "code",
   "execution_count": 2,
   "metadata": {},
   "outputs": [
    {
     "name": "stdout",
     "output_type": "stream",
     "text": [
      "sameer is my favorite friend.\n",
      "mazher is my favorite friend.\n",
      "bilal is my favorite friend.\n"
     ]
    }
   ],
   "source": [
    "names:list[str] = ['sameer','mazher','bilal']\n",
    "print(f'{names[0]} is my favorite friend.' )\n",
    "print(f'{names[1]} is my favorite friend.' )\n",
    "print(f'{names[2]} is my favorite friend.' )"
   ]
  },
  {
   "cell_type": "markdown",
   "metadata": {},
   "source": [
    "3-3. Your Own List: Think of your favorite mode of transportation, such as a\n",
    "motorcycle or a car, and make a list that stores several examples. Use your list\n",
    "to print a series of statements about these items, such as “I would like to own a\n",
    "Honda motorcycle.”"
   ]
  },
  {
   "cell_type": "code",
   "execution_count": null,
   "metadata": {},
   "outputs": [],
   "source": [
    "favorite_transportation:list[str]=['motercycle','bus']\n",
    "print(f'I have a {favorite_transportation[0]}')\n",
    "print(f'Fair of {favorite_transportation[1]} is low reletive to the car')"
   ]
  },
  {
   "cell_type": "markdown",
   "metadata": {},
   "source": [
    "3-4. Guest List: If you could invite anyone, living or deceased, to dinner, who\n",
    "would you invite? Make a list that includes at least three people you’d like to\n",
    "invite to dinner. Then use your list to print a message to each person, inviting\n",
    "them to dinner."
   ]
  },
  {
   "cell_type": "code",
   "execution_count": 3,
   "metadata": {},
   "outputs": [
    {
     "name": "stdout",
     "output_type": "stream",
     "text": [
      "Dear sameer ,\n",
      "\tYou are invited to dinner. Please join us for a wonderful evening.\n",
      "\n",
      "Dear mazher,\n",
      "\tYou are invited to dinner. Please join us for a wonderful evening.\n",
      "\n",
      "Dear bilal  ,\n",
      "\tYou are invited to dinner. Please join us for a wonderful evening.\n",
      "\n"
     ]
    }
   ],
   "source": [
    "names:list[str] = ['sameer','mazher','bilal']\n",
    "print(f'Dear {names[0]} ,\\n\\tYou are invited to dinner. Please join us for a wonderful evening.\\n' )\n",
    "print(f'Dear {names[1]},\\n\\tYou are invited to dinner. Please join us for a wonderful evening.\\n' )\n",
    "print(f'Dear {names[2]}  ,\\n\\tYou are invited to dinner. Please join us for a wonderful evening.\\n' )"
   ]
  },
  {
   "cell_type": "markdown",
   "metadata": {},
   "source": [
    "3-5. Changing Guest List: You just heard that one of your guests can’t make the\n",
    "dinner, so you need to send out a new set of invitations. You’ll have to think of\n",
    "someone else to invite.\n",
    "* Start with your program from Exercise 3-4. Add a print() call at the end of\n",
    "your program, stating the name of the guest who can’t make it.\n",
    "* Modify your list, replacing the name of the guest who can’t make it with the\n",
    "name of the new person you are inviting.\n",
    "* Print a second set of invitation messages, one for each person who is still in\n",
    "your list."
   ]
  },
  {
   "cell_type": "code",
   "execution_count": 5,
   "metadata": {},
   "outputs": [
    {
     "name": "stdout",
     "output_type": "stream",
     "text": [
      "Dear sameer ,\n",
      "\tYou are invited to dinner. Please join us for a wonderful evening.\n",
      "\n",
      "Dear mazher,\n",
      "\tYou are invited to dinner. Please join us for a wonderful evening.\n",
      "\n",
      "Dear bilal  ,\n",
      "\tYou are invited to dinner. Please join us for a wonderful evening.\n",
      "\n",
      "Sorry mazher can't make it to dinner\n",
      "Dear sameer ,\n",
      "\tYou are invited to dinner. Please join us for a wonderful evening.\n",
      "\n",
      "Dear arman,\n",
      "\tYou are invited to dinner. Please join us for a wonderful evening.\n",
      "\n",
      "Dear bilal  ,\n",
      "\tYou are invited to dinner. Please join us for a wonderful evening.\n",
      "\n"
     ]
    }
   ],
   "source": [
    "names:list[str] = ['sameer','mazher','bilal']\n",
    "print(f'Dear {names[0]} ,\\n\\tYou are invited to dinner. Please join us for a wonderful evening.\\n' )\n",
    "print(f'Dear {names[1]},\\n\\tYou are invited to dinner. Please join us for a wonderful evening.\\n' )\n",
    "print(f'Dear {names[2]}  ,\\n\\tYou are invited to dinner. Please join us for a wonderful evening.\\n' )\n",
    "deleted:str=names.pop(1)\n",
    "print(f'Sorry {deleted} can\\'t make it to dinner')\n",
    "names.insert(1,'arman')\n",
    "print(f'Dear {names[0]} ,\\n\\tYou are invited to dinner. Please join us for a wonderful evening.\\n' )\n",
    "print(f'Dear {names[1]},\\n\\tYou are invited to dinner. Please join us for a wonderful evening.\\n' )\n",
    "print(f'Dear {names[2]}  ,\\n\\tYou are invited to dinner. Please join us for a wonderful evening.\\n' )"
   ]
  },
  {
   "cell_type": "markdown",
   "metadata": {},
   "source": [
    "\n",
    "3-6. More Guests: You just found a bigger dinner table, so now more space is\n",
    "available. Think of three more guests to invite to dinner.\n",
    "* Start with your program from Exercise 3-4 or 3-5. Add a print() call to the\n",
    "end of your program, informing people that you found a bigger table.\n",
    "* Use insert() to add one new guest to the beginning of your list.\n",
    "* Use insert() to add one new guest to the middle of your list.\n",
    "* Use append() to add one new guest to the end of your list.\n",
    "* Print a new set of invitation messages, one for each person in your list."
   ]
  },
  {
   "cell_type": "code",
   "execution_count": null,
   "metadata": {},
   "outputs": [],
   "source": [
    "names:list[str] = ['sameer','mazher','bilal']\n",
    "print(f'Dear {names[0]} ,\\n\\tYou are invited to dinner. Please join us for a wonderful evening.\\n' )\n",
    "print(f'Dear {names[1]},\\n\\tYou are invited to dinner. Please join us for a wonderful evening.\\n' )\n",
    "print(f'Dear {names[2]}  ,\\n\\tYou are invited to dinner. Please join us for a wonderful evening.\\n' )\n",
    "deleted:str=names.pop(1)\n",
    "print(f'Sorry {deleted} can\\'t make it to dinner')\n",
    "names.insert(1,'arman')\n",
    "print(f'Dear {names[0]} ,\\n\\tYou are invited to dinner. Please join us for a wonderful evening.\\n' )\n",
    "print(f'Dear {names[1]},\\n\\tYou are invited to dinner. Please join us for a wonderful evening.\\n' )\n",
    "print(f'Dear {names[2]}  ,\\n\\tYou are invited to dinner. Please join us for a wonderful evening.\\n' )\n",
    "names.insert(0,'ashraf')\n",
    "names.insert(len(names)//2, 'zaman')\n",
    "\n",
    "names.append('usman')\n",
    "print(f'Dear {names[0]} ,\\n\\tYou are invited to dinner. Please join us for a wonderful evening.\\n' )\n",
    "print(f'Dear {names[1]},\\n\\tYou are invited to dinner. Please join us for a wonderful evening.\\n' )\n",
    "print(f'Dear {names[2]}  ,\\n\\tYou are invited to dinner. Please join us for a wonderful evening.\\n' )\n",
    "print(f'Dear {names[3]} ,\\n\\tYou are invited to dinner. Please join us for a wonderful evening.\\n' )\n",
    "print(f'Dear {names[4]},\\n\\tYou are invited to dinner. Please join us for a wonderful evening.\\n' )\n",
    "print(f'Dear {names[5]}  ,\\n\\tYou are invited to dinner. Please join us for a wonderful evening.\\n' )\n",
    "print(names)"
   ]
  },
  {
   "cell_type": "markdown",
   "metadata": {},
   "source": [
    "3-7. Shrinking Guest List: You just found out that your new dinner table won’t\n",
    "arrive in time for the dinner, and now you have space for only two guests.\n",
    "* Start with your program from Exercise 3-6. Add a new line that prints a\n",
    "message saying that you can invite only two people for dinner.\n",
    "* Use pop() to remove guests from your list one at a time until only two\n",
    "names remain in your list. Each time you pop a name from your list, print a\n",
    "message to that person letting them know you’re sorry you can’t invite them\n",
    "to dinner.\n",
    "* Print a message to each of the two people still on your list, letting them\n",
    "know they’re still invited.\n",
    "* Use del to remove the last two names from your list, so you have an empty\n",
    "list. Print your list to make sure you actually have an empty list at the end of\n",
    "your program."
   ]
  },
  {
   "cell_type": "code",
   "execution_count": null,
   "metadata": {},
   "outputs": [],
   "source": [
    "names:list[str] = ['sameer','mazher','bilal']\n",
    "print(f'Dear {names[0]} ,\\n\\tYou are invited to dinner. Please join us for a wonderful evening.\\n' )\n",
    "print(f'Dear {names[1]},\\n\\tYou are invited to dinner. Please join us for a wonderful evening.\\n' )\n",
    "print(f'Dear {names[2]}  ,\\n\\tYou are invited to dinner. Please join us for a wonderful evening.\\n' )\n",
    "deleted:str=names.pop(1)\n",
    "print(f'Sorry {deleted} can\\'t make it to dinner')\n",
    "names.insert(1,'arman')\n",
    "print(f'Dear {names[0]} ,\\n\\tYou are invited to dinner. Please join us for a wonderful evening.\\n' )\n",
    "print(f'Dear {names[1]},\\n\\tYou are invited to dinner. Please join us for a wonderful evening.\\n' )\n",
    "print(f'Dear {names[2]}  ,\\n\\tYou are invited to dinner. Please join us for a wonderful evening.\\n' )\n",
    "names.insert(0,'ashraf')\n",
    "names.insert(len(names)//2, 'zaman')\n",
    "\n",
    "# names.append('usman')\n",
    "# print(f'Dear {names[0]} ,\\n\\tYou are invited to dinner. Please join us for a wonderful evening.\\n' )\n",
    "# print(f'Dear {names[1]},\\n\\tYou are invited to dinner. Please join us for a wonderful evening.\\n' )\n",
    "# print(f'Dear {names[2]}  ,\\n\\tYou are invited to dinner. Please join us for a wonderful evening.\\n' )\n",
    "# print(f'Dear {names[3]} ,\\n\\tYou are invited to dinner. Please join us for a wonderful evening.\\n' )\n",
    "# print(f'Dear {names[4]},\\n\\tYou are invited to dinner. Please join us for a wonderful evening.\\n' )\n",
    "# print(f'Dear {names[5]}  ,\\n\\tYou are invited to dinner. Please join us for a wonderful evening.\\n' )\n",
    "# print('we can invite only two people')\n",
    "\n",
    "count:int=len(names)-1\n",
    "\n",
    "while count>=2:\n",
    "      deleteditem:str=names.pop()\n",
    "      print(f'Sorry {deleteditem}, you are not invited')\n",
    "      count-=1\n",
    "print(f'Dear {names[0]} ,\\n\\tYou are invited to dinner. Please join us for a wonderful evening.\\n' )\n",
    "print(f'Dear {names[1]},\\n\\tYou are invited to dinner. Please join us for a wonderful evening.\\n' )\n",
    "del names[0]\n",
    "del names[0]\n",
    "\n",
    "print(names)"
   ]
  },
  {
   "cell_type": "markdown",
   "metadata": {},
   "source": [
    "3-8. Seeing the World: Think of at least five places in the world you’d like\n",
    "to visit.\n",
    "* Store the locations in a list. Make sure the list is not in alphabetical order.\n",
    "* Print your list in its original order. Don’t worry about printing the list neatly;\n",
    "just print it as a raw Python list.\n",
    "* Use sorted() to print your list in alphabetical order without modifying the\n",
    "actual list.\n",
    "* Show that your list is still in its original order by printing it.\n",
    "* Use sorted() to print your list in reverse-alphabetical order without changing the order of the original list.\n",
    "* Show that your list is still in its original order by printing it again.\n",
    "* Use reverse() to change the order of your list. Print the list to show that its\n",
    "order has changed.\n",
    "* Use reverse() to change the order of your list again. Print the list to show\n",
    "it’s back to its original order.\n",
    "* Use sort() to change your list so it’s stored in alphabetical order. Print the\n",
    "list to show that its order has been changed.\n",
    "* Use sort() to change your list so it’s stored in reverse-alphabetical order.\n",
    "Print the list to show that its order has changed."
   ]
  },
  {
   "cell_type": "code",
   "execution_count": 2,
   "metadata": {},
   "outputs": [
    {
     "name": "stdout",
     "output_type": "stream",
     "text": [
      "['new York', 'islambad', 'france', 'itlay', 'lahore']\n",
      "['lahore', 'itlay', 'france', 'islambad', 'new York']\n",
      "['france', 'islambad', 'itlay', 'lahore', 'new York']\n",
      "['new York', 'lahore', 'itlay', 'islambad', 'france']\n"
     ]
    }
   ],
   "source": [
    "fav_places:list[str]=['lahore','itlay','france','islambad','new York']\n",
    "print('Original Order')\n",
    "print(fav_places)\n",
    "print(sorted(fav_places))\n",
    "print(fav_places)\n",
    "print(sorted(fav_places,reverse=True))\n",
    "print(fav_places)\n",
    "fav_places.reverse()\n",
    "print(fav_places)\n",
    "fav_places.reverse()\n",
    "print(fav_places)\n",
    "fav_places.sort()\n",
    "print(fav_places)\n",
    "fav_places.sort(reverse=True)\n",
    "print(fav_places)\n"
   ]
  },
  {
   "cell_type": "markdown",
   "metadata": {},
   "source": [
    "\n",
    "3-9. Dinner Guests: Working with one of the programs from Exercises 3-4\n",
    "through 3-7 (pages 41–42), use len() to print a message indicating the number\n",
    "of people you’re inviting to dinner.\n"
   ]
  },
  {
   "cell_type": "code",
   "execution_count": 28,
   "metadata": {},
   "outputs": [
    {
     "name": "stdout",
     "output_type": "stream",
     "text": [
      "Total guest are 3\n"
     ]
    }
   ],
   "source": [
    "total_guest:list[str] = ['ali', 'asad','ahmad']\n",
    "total_length:int = len(total_guest)\n",
    "print(f'Total guest are {total_length}')"
   ]
  },
  {
   "cell_type": "markdown",
   "metadata": {},
   "source": [
    "\n",
    "3-10. Every Function: Think of things you could store in a list. For example, you\n",
    "could make a list of mountains, rivers, countries, cities, languages, or anything\n",
    "else you’d like. Write a program that creates a list containing these items and\n",
    "then uses each function introduced in this chapter at least once"
   ]
  },
  {
   "cell_type": "code",
   "execution_count": 29,
   "metadata": {},
   "outputs": [
    {
     "name": "stdout",
     "output_type": "stream",
     "text": [
      "Original List: ['Italy', 'Dubai', 'Pakistan', 'Makkah', 'California']\n",
      "Appended 'New York': ['Italy', 'Dubai', 'Pakistan', 'Makkah', 'California', 'New York']\n",
      "Inserted 'Paris': ['Italy', 'Paris', 'Dubai', 'Pakistan', 'Makkah', 'California', 'New York']\n",
      "Removed 'Dubai': ['Italy', 'Paris', 'Pakistan', 'Makkah', 'California', 'New York']\n",
      "Popped item at index 3: Makkah\n",
      "Index of 'Pakistan': 2\n",
      "Count of 'Italy': 1\n",
      "Sorted List: ['California', 'Italy', 'New York', 'Pakistan', 'Paris']\n",
      "Reversed List: ['Paris', 'Pakistan', 'New York', 'Italy', 'California']\n",
      "Copy of List: ['Paris', 'Pakistan', 'New York', 'Italy', 'California']\n",
      "Cleared List: []\n",
      "Extended List: ['France', 'Spain']\n"
     ]
    }
   ],
   "source": [
    "five_places = ['Italy', 'Dubai', 'Pakistan', 'Makkah', 'California']\n",
    "\n",
    "print(\"Original List:\", five_places)\n",
    "five_places.append('New York')\n",
    "print(\"Appended 'New York':\", five_places)\n",
    "five_places.insert(1, 'Paris')\n",
    "print(\"Inserted 'Paris':\", five_places)\n",
    "five_places.remove('Dubai')\n",
    "print(\"Removed 'Dubai':\", five_places)\n",
    "popped_in_five_places = five_places.pop(3)\n",
    "print(\"Popped item at index 3:\", popped_in_five_places)\n",
    "index = five_places.index('Pakistan')\n",
    "print(\"Index of 'Pakistan':\", index)\n",
    "count = five_places.count('Italy')\n",
    "print(\"Count of 'Italy':\", count)\n",
    "five_places.sort()\n",
    "print(\"Sorted List:\", five_places)\n",
    "five_places.reverse()\n",
    "print(\"Reversed List:\", five_places)\n",
    "copy_of_five_places = five_places.copy()\n",
    "print(\"Copy of List:\", copy_of_five_places)\n",
    "five_places.clear()\n",
    "print(\"Cleared List:\", five_places)\n",
    "five_places.extend(['France', 'Spain'])\n",
    "print(\"Extended List:\", five_places)\n"
   ]
  },
  {
   "cell_type": "markdown",
   "metadata": {},
   "source": [
    "3-11. Intentional Error: If you haven’t received an index error in one of your programs yet, try to make one happen. Change an index in one of your programs\n",
    "to produce an index error. Make sure you correct the error before closing the\n",
    "program."
   ]
  },
  {
   "cell_type": "code",
   "execution_count": 32,
   "metadata": {},
   "outputs": [
    {
     "name": "stdout",
     "output_type": "stream",
     "text": [
      "2\n"
     ]
    }
   ],
   "source": [
    "\n",
    "numbers:list[int] = [1, 2, 3, 4, 5]\n",
    "\n",
    "try:\n",
    "    print(numbers[1])\n",
    "except IndexError:\n",
    "    print(\"IndexError: Index is out of range\")\n"
   ]
  }
 ],
 "metadata": {
  "kernelspec": {
   "display_name": "mypython12",
   "language": "python",
   "name": "python3"
  },
  "language_info": {
   "codemirror_mode": {
    "name": "ipython",
    "version": 3
   },
   "file_extension": ".py",
   "mimetype": "text/x-python",
   "name": "python",
   "nbconvert_exporter": "python",
   "pygments_lexer": "ipython3",
   "version": "3.12.0"
  }
 },
 "nbformat": 4,
 "nbformat_minor": 2
}
