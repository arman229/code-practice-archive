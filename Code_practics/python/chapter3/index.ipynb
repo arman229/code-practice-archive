{
 "cells": [
  {
   "cell_type": "markdown",
   "metadata": {},
   "source": [
    "# Difference between array and list ?\n",
    "A list in Python is an inbuilt collection of items that can contain elements of multiple data types, \n",
    "An array is a vector containing homogeneous elements i.e. belonging to the same data type.\n",
    "More read https://www.geeksforgeeks.org/difference-between-list-and-array-in-python/"
   ]
  },
  {
   "cell_type": "code",
   "execution_count": 2,
   "metadata": {},
   "outputs": [
    {
     "name": "stdout",
     "output_type": "stream",
     "text": [
      "<class 'list'>\n",
      "[1, 'Yash', ['a', 'e']]\n"
     ]
    }
   ],
   "source": [
    "sample_list = [1, \"Yash\", ['a', 'e']]\n",
    "print(type(sample_list))\n",
    "print(sample_list)\n"
   ]
  },
  {
   "cell_type": "code",
   "execution_count": 4,
   "metadata": {},
   "outputs": [
    {
     "name": "stdout",
     "output_type": "stream",
     "text": [
      "<class 'array.array'>\n",
      "1 6 3 "
     ]
    }
   ],
   "source": [
    "import array as array\n",
    "a = array.array('i', [1, 6, 3])\n",
    "print(type(a))\n",
    "for i in a:\n",
    "\tprint(i, end=\" \")\n"
   ]
  },
  {
   "cell_type": "code",
   "execution_count": 4,
   "metadata": {},
   "outputs": [
    {
     "name": "stdout",
     "output_type": "stream",
     "text": [
      "['javascript', 'React', 'TailwindCss']\n",
      "['javascript', 'React and Nextjs', 'TailwindCss']\n",
      "['javascript', 'React and Nextjs', 'TailwindCss', 'TypeScript']\n",
      "['javascript', 'React and Nextjs', 'python', 'TailwindCss', 'TypeScript']\n",
      "['javascript', 'python', 'TailwindCss', 'TypeScript']\n",
      "['python', 'TailwindCss', 'TypeScript']\n",
      "['python', 'TailwindCss']\n",
      "['TailwindCss']\n"
     ]
    }
   ],
   "source": [
    "my_courses:list[str]=['javascript', 'React','TailwindCss']\n",
    "print(my_courses)\n",
    "my_courses[1]='React and Nextjs'\n",
    "print(my_courses)\n",
    "my_courses.append('TypeScript')\n",
    "print(my_courses)\n",
    "my_courses.insert(2,'python')\n",
    "print(my_courses)\n",
    "del my_courses[1]\n",
    "print(my_courses)\n",
    "my_courses.pop(0)\n",
    "print(my_courses)\n",
    "my_courses.pop()\n",
    "print(my_courses)\n",
    "my_courses.remove('python')\n",
    "print(my_courses)\n",
    " "
   ]
  }
 ],
 "metadata": {
  "kernelspec": {
   "display_name": "mypython12",
   "language": "python",
   "name": "python3"
  },
  "language_info": {
   "codemirror_mode": {
    "name": "ipython",
    "version": 3
   },
   "file_extension": ".py",
   "mimetype": "text/x-python",
   "name": "python",
   "nbconvert_exporter": "python",
   "pygments_lexer": "ipython3",
   "version": "3.12.0"
  }
 },
 "nbformat": 4,
 "nbformat_minor": 2
}
