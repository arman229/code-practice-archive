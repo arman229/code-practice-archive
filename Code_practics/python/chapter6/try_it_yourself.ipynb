{
 "cells": [
  {
   "cell_type": "markdown",
   "metadata": {},
   "source": [
    "6-1. Person: Use a dictionary to store information about a person you know.\n",
    "Store their first name, last name, age, and the city in which they live. You\n",
    "should have keys such as first_name, last_name, age, and city. Print each piece\n",
    "of information stored in your dictionary."
   ]
  },
  {
   "cell_type": "code",
   "execution_count": 1,
   "metadata": {},
   "outputs": [
    {
     "name": "stdout",
     "output_type": "stream",
     "text": [
      "key:first_name value:Arman\n",
      "key:last_name value:Muhammad Ashraf\n",
      "key:age value:22\n",
      "key:city value:sialkot\n"
     ]
    }
   ],
   "source": [
    "from typing import Dict\n",
    "bio_data:Dict[str,str|int] = {'first_name':'Arman',\n",
    "                              'last_name':'Muhammad Ashraf',\n",
    "                              'age':22,\n",
    "                              'city':'sialkot'}\n",
    "\n",
    "for bio_key,bio_value in bio_data.items():\n",
    "    print(f'key:{bio_key} value:{bio_value}')"
   ]
  },
  {
   "cell_type": "markdown",
   "metadata": {},
   "source": [
    "6-2. Favorite Numbers: Use a dictionary to store people’s favorite numbers.\n",
    "Think of five names, and use them as keys in your dictionary. Think of a favorite \n",
    "number for each person, and store each as a value in your dictionary. Print\n",
    "each person’s name and their favorite number. For even more fun, poll a few\n",
    "friends and get some actual data for your program."
   ]
  },
  {
   "cell_type": "code",
   "execution_count": null,
   "metadata": {},
   "outputs": [],
   "source": [
    "from typing import Dict\n",
    " \n",
    "favorite_numbers:Dict[str,int]= {\n",
    "    'ali':1,\n",
    "    'ahmad':2,\n",
    "    'asad':3,\n",
    "    'usman':4,\n",
    "    'arman':5\n",
    "}\n",
    "for name, favorite_number in favorite_numbers.items():\n",
    "    print(f'{name} favorite number is {favorite_number}')"
   ]
  },
  {
   "cell_type": "markdown",
   "metadata": {},
   "source": [
    "6-3. Glossary: A Python dictionary can be used to model an actual dictionary.\n",
    "However, to avoid confusion, let’s call it a glossary.\n",
    "* Think of five programming words you’ve learned about in the previous\n",
    "chapters. Use these words as the keys in your glossary, and store their\n",
    "meanings as values.\n",
    "* Print each word and its meaning as neatly formatted output. You might\n",
    "print the word followed by a colon and then its meaning, or print the word\n",
    "on one line and then print its meaning indented on a second line. Use the\n",
    "newline character (\\n) to insert a blank line between each word-meaning\n",
    "pair in your output."
   ]
  },
  {
   "cell_type": "code",
   "execution_count": null,
   "metadata": {},
   "outputs": [],
   "source": [
    "from typing import Dict\n",
    "five_programming_words:Dict[str,str] = {'get':'get is used to get the item from the dictionary if not exist it gives none',\n",
    "                                        'set':'Set is a data type one point is noted that set is mutable but its elements are immutable',\n",
    "                                        'Dict':'Dict is just like a JavaScript Object for understanding',\n",
    "                                        'key':'In Dictionary Key must be unique and immutable',\n",
    "                                        'value':'In Dictionary Value may be list,tuple ...'}\n",
    "for key_word, value_state in five_programming_words.items():\n",
    "    print(f'\\n{key_word}:{value_state}')"
   ]
  },
  {
   "cell_type": "markdown",
   "metadata": {},
   "source": [
    "6-4. Glossary 2: Now that you know how to loop through a dictionary, clean\n",
    "up the code from Exercise 6-3 (page 99) by replacing your series of print()\n",
    "calls with a loop that runs through the dictionary’s keys and values. When\n",
    "you’re sure that your loop works, add five more Python terms to your glossary.\n",
    "When you run your program again, these new words and meanings should\n",
    "automatically be included in the output."
   ]
  },
  {
   "cell_type": "code",
   "execution_count": 7,
   "metadata": {},
   "outputs": [
    {
     "name": "stdout",
     "output_type": "stream",
     "text": [
      "\n",
      "get:get is used to get the item from the dictionary if not exist it gives none\n",
      "\n",
      "set:Set is a data type one point is noted that set is mutable but its elements are immutable\n",
      "\n",
      "Dict:Dict is just like a JavaScript Object for understanding\n",
      "\n",
      "key:In Dictionary Key must be unique and immutable\n",
      "\n",
      "value:In Dictionary Value may be list,tuple ...\n",
      "\n",
      "if:for condition checking\n",
      "\n",
      "loop:iteration\n",
      "\n",
      "continue:skipping the value in loop\n",
      "\n",
      "break:loop end\n",
      "\n",
      "function:cde again and again use in our code\n"
     ]
    }
   ],
   "source": [
    "from typing import Dict\n",
    "five_programming_words:Dict[str,str] = {'get':'get is used to get the item from the dictionary if not exist it gives none',\n",
    "                                        'set':'Set is a data type one point is noted that set is mutable but its elements are immutable',\n",
    "                                        'Dict':'Dict is just like a JavaScript Object for understanding',\n",
    "                                        'key':'In Dictionary Key must be unique and immutable',\n",
    "                                        'value':'In Dictionary Value may be list,tuple ...',\n",
    "                                        'if':'for condition checking',\n",
    "                                        'loop':'iteration',\n",
    "                                        'continue':'skipping the value in loop',\n",
    "                                        'break':'loop end',\n",
    "                                        'function':'cde again and again use in our code'}\n",
    "for key_word, value_state in five_programming_words.items():\n",
    "    print(f'\\n{key_word}:{value_state}')"
   ]
  },
  {
   "cell_type": "markdown",
   "metadata": {},
   "source": [
    "6-5. Rivers: Make a dictionary containing three major rivers and the country\n",
    "each river runs through. One key-value pair might be 'nile': 'egypt'.\n",
    "* Use a loop to print a sentence about each river, such as The Nile runs\n",
    "through Egypt.\n",
    "* Use a loop to print the name of each river included in the dictionary.\n",
    "* Use a loop to print the name of each country included in the dictionary."
   ]
  },
  {
   "cell_type": "code",
   "execution_count": 16,
   "metadata": {},
   "outputs": [
    {
     "name": "stdout",
     "output_type": "stream",
     "text": [
      "The NILE runs through Egypt\n",
      "The MISSISSIPPI runs through United States\n",
      "The FRASER runs through Canada\n",
      "The KUSKOKWIM runs through Alaska\n",
      "The YANGTZE runs through China\n",
      "\n",
      "The following rivers are included in this data set:\n",
      "- Nile\n",
      "- Mississippi\n",
      "- Fraser\n",
      "- Kuskokwim\n",
      "- Yangtze\n",
      "\n",
      "The following countries are included in this data set:\n",
      "- Egypt\n",
      "- United States\n",
      "- Canada\n",
      "- Alaska\n",
      "- China\n"
     ]
    }
   ],
   "source": [
    "from typing import Dict  \n",
    "\n",
    "rivers: Dict[str, str] = {\n",
    "    'nile': 'egypt',\n",
    "    'mississippi': 'united states',\n",
    "    'fraser': 'canada',\n",
    "    'kuskokwim': 'alaska',\n",
    "    'yangtze': 'china',\n",
    "}\n",
    "\n",
    "for river_name, river_country in rivers.items():\n",
    "        print(f'The {river_name.upper()} runs through {river_country.title()}') \n",
    "\n",
    "print(\"\\nThe following rivers are included in this data set:\")\n",
    "for river in rivers.keys():\n",
    "    print(f\"- {river.title()}\")\n",
    "\n",
    "print(\"\\nThe following countries are included in this data set:\")\n",
    "for country in rivers.values():\n",
    "    print(f\"- {country.title()}\")        "
   ]
  },
  {
   "cell_type": "markdown",
   "metadata": {},
   "source": [
    "6-6. Polling: Use the code in favorite_languages.py (page 96).\n",
    "* Make a list of people who should take the favorite languages poll. Include\n",
    "some names that are already in the dictionary and some that are not.\n",
    "* Loop through the list of people who should take the poll. If they have\n",
    "already taken the poll, print a message thanking them for responding.\n",
    "If they have not yet taken the poll, print a message inviting them to take\n",
    "the poll."
   ]
  },
  {
   "cell_type": "code",
   "execution_count": 18,
   "metadata": {},
   "outputs": [
    {
     "name": "stdout",
     "output_type": "stream",
     "text": [
      "jen favorite language is python\n",
      "sarah favorite language is c\n",
      "edward favorite language is rust\n",
      "phil favorite language is python\n",
      "Thank you, jen, for polling us.\n",
      "Thank you, sarah, for polling us.\n",
      "ali, what's your favorite language?\n",
      "zain, what's your favorite language?\n",
      "asad, what's your favorite language?\n"
     ]
    }
   ],
   "source": [
    "from typing import Dict\n",
    "\n",
    "favorite_languages: Dict[str, str] = {\n",
    "    'jen': 'python',\n",
    "    'sarah': 'c',\n",
    "    'edward': 'rust',\n",
    "    'phil': 'python',\n",
    "}\n",
    "for name, favorite_language in favorite_languages.items():\n",
    "    print(f'{name} favorite language is {favorite_language}')\n",
    "people_list:list[str] = ['jen','sarah','ali','zain','asad']\n",
    "for people in people_list:\n",
    "    if (people in favorite_languages.keys()):\n",
    "           print(f'Thank you, {people}, for polling us.')\n",
    "    else:\n",
    "        print(f\"{people}, what's your favorite language?\")"
   ]
  },
  {
   "cell_type": "markdown",
   "metadata": {},
   "source": [
    "6-7. People: Start with the program you wrote for Exercise 6-1 (page 98). Make\n",
    "two new dictionaries representing different people, and store all three dictionaries in a list called people. Loop through your list of people. As you loop through\n",
    "the list, print everything you know about each person.\n"
   ]
  },
  {
   "cell_type": "code",
   "execution_count": 22,
   "metadata": {},
   "outputs": [
    {
     "name": "stdout",
     "output_type": "stream",
     "text": [
      "first_name :Arman\n",
      "last_name :Muhammad Ashraf\n",
      "age :22\n",
      "city :sialkot\n",
      "\n",
      "first_name :zaman\n",
      "last_name :Muhammad Ashraf\n",
      "age :32\n",
      "city :sialkot\n",
      "\n",
      "first_name :usman\n",
      "last_name :Muhammad Ashraf\n",
      "age :26\n",
      "city :sialkot\n",
      "\n"
     ]
    }
   ],
   "source": [
    "from typing import Dict\n",
    "bio_data0:Dict[str,str|int] = {'first_name':'Arman',\n",
    "                              'last_name':'Muhammad Ashraf',\n",
    "                              'age':22,\n",
    "                              'city':'sialkot'}\n",
    "bio_data1:Dict[str,str|int] = {'first_name':'zaman',\n",
    "                              'last_name':'Muhammad Ashraf',\n",
    "                              'age':32,\n",
    "                              'city':'sialkot'}\n",
    "bio_data2:Dict[str,str|int] = {'first_name':'usman',\n",
    "                              'last_name':'Muhammad Ashraf',\n",
    "                              'age':26,\n",
    "                              'city':'sialkot'}\n",
    "\n",
    "list_bio_data:list[Dict[str,str|int]]=[bio_data0,bio_data1,bio_data2]\n",
    "for single_value in list_bio_data:\n",
    "    for bio_key,bio_data in single_value.items():  \n",
    "        print(f'{bio_key} :{bio_data}')\n",
    "    print()    "
   ]
  },
  {
   "cell_type": "markdown",
   "metadata": {},
   "source": [
    "6-8. Pets: Make several dictionaries, where each dictionary represents a different pet. In each dictionary, include the kind of animal and the owner’s name.\n",
    "Store these dictionaries in a list called pets. Next, loop through your list and as\n",
    "you do, print everything you know about each pet.\n"
   ]
  },
  {
   "cell_type": "code",
   "execution_count": null,
   "metadata": {},
   "outputs": [],
   "source": [
    "from typing import Dict, List\n",
    "\n",
    "pet_1: Dict[str, str] = {\n",
    "    'animal': 'animal_1',\n",
    "    'owner_name': 'x'\n",
    "}\n",
    "\n",
    "pet_2: Dict[str, str] = {\n",
    "    'animal': 'animal_2',\n",
    "    'owner_name': 'y'\n",
    "}\n",
    "\n",
    "pet_3: Dict[str, str] = {\n",
    "    'animal': 'animal_3',\n",
    "    'owner_name': 'z'\n",
    "}\n",
    "\n",
    "pet_4: Dict[str, str] = {\n",
    "    'animal': 'animal_4',\n",
    "    'owner_name': 'a'\n",
    "}\n",
    "\n",
    "pet_list: List[Dict[str, str]] = [pet_1, pet_2, pet_3, pet_4]\n",
    "\n",
    "for item in pet_list:\n",
    "    print(f\"This pet is a {item['animal']} and the owner's name is {item['owner_name']}.\")\n"
   ]
  },
  {
   "cell_type": "markdown",
   "metadata": {},
   "source": [
    "6-9. Favorite Places: Make a dictionary called favorite_places. Think of three\n",
    "names to use as keys in the dictionary, and store one to three favorite places for\n",
    "each person. To make this exercise a bit more interesting, ask some friends to\n",
    "name a few of their favorite places. Loop through the dictionary, and print each\n",
    "person’s name and their favorite places.\n"
   ]
  },
  {
   "cell_type": "code",
   "execution_count": 23,
   "metadata": {},
   "outputs": [
    {
     "name": "stdout",
     "output_type": "stream",
     "text": [
      "Welcome to ali and your favorite places are: \n",
      " -lahore\n",
      " -sialkot\n",
      " -multan\n",
      "Welcome to arman and your favorite places are: \n",
      " -islamabad\n",
      " -karachi\n",
      " -johar town\n",
      "Welcome to asad and your favorite places are: \n",
      " -murree\n",
      " -gujrat\n",
      " -sargodha\n"
     ]
    }
   ],
   "source": [
    "from typing import Dict, List\n",
    "\n",
    "favorite_places: Dict[str, List[str]] = {\n",
    "    'ali': ['lahore', 'sialkot', 'multan'],\n",
    "    'arman': ['islamabad', 'karachi', 'johar town'],\n",
    "    'asad': ['murree', 'gujrat', 'sargodha']\n",
    "}\n",
    "\n",
    "for name, places in favorite_places.items():\n",
    "    print(f\"Welcome to {name} and your favorite places are: \")\n",
    "    for place in places:\n",
    "        print(f' -{place}')\n"
   ]
  },
  {
   "cell_type": "markdown",
   "metadata": {},
   "source": [
    "6-10. Favorite Numbers: Modify your program from Exercise 6-2 (page 98) so\n",
    "each person can have more than one favorite number. Then print each person’s\n",
    "name along with their favorite numbers.\n"
   ]
  },
  {
   "cell_type": "code",
   "execution_count": 28,
   "metadata": {},
   "outputs": [
    {
     "name": "stdout",
     "output_type": "stream",
     "text": [
      "ali favorite number are\n",
      "_1\n",
      "_2\n",
      "ahmad favorite number are\n",
      "_2\n",
      "_3\n",
      "asad favorite number are\n",
      "_3\n",
      "_4\n",
      "usman favorite number are\n",
      "_4\n",
      "_5\n",
      "arman favorite number are\n",
      "_5\n",
      "_6\n"
     ]
    }
   ],
   "source": [
    "from typing import Dict\n",
    " \n",
    "favorite_numbers:Dict[str,list[int]]= {\n",
    "    'ali':[1,2],\n",
    "    'ahmad':[2,3],\n",
    "    'asad':[3,4],\n",
    "    'usman':[4,5],\n",
    "    'arman':[5,6],\n",
    "}\n",
    "for name, favorite_number in favorite_numbers.items():\n",
    "    print(f'{name} favorite number are')\n",
    "    for num in favorite_number:\n",
    "        print(f'_{num}')"
   ]
  },
  {
   "cell_type": "markdown",
   "metadata": {},
   "source": [
    "6-11. Cities: Make a dictionary called cities. Use the names of three cities as\n",
    "keys in your dictionary. Create a dictionary of information about each city and\n",
    "include the country that the city is in, its approximate population, and one fact\n",
    "about that city. The keys for each city’s dictionary should be something like\n",
    "country, population, and fact. Print the name of each city and all of the information you have stored about it.\n"
   ]
  },
  {
   "cell_type": "code",
   "execution_count": 29,
   "metadata": {},
   "outputs": [
    {
     "name": "stdout",
     "output_type": "stream",
     "text": [
      "\n",
      "Sialkot is in Pakistan.\n",
      "  It has a population of about 10.\n",
      "  The K2 mounats are nearby.\n",
      "\n",
      "Lahore is in Pakistan.\n",
      "  It has a population of about 876.\n",
      "  The K2 mounats are nearby.\n",
      "\n",
      "Islamabad is in Pakistan.\n",
      "  It has a population of about 20.\n",
      "  The K2 mounats are nearby.\n"
     ]
    }
   ],
   "source": [
    "from typing import Dict\n",
    "\n",
    "cities: Dict[str, Dict[str, str | int]] = {\n",
    "    'sialkot': {\n",
    "        'country': 'pakistan',\n",
    "        'population': 10,\n",
    "        'nearby mountains': 'k2',\n",
    "    },\n",
    "    'lahore': {\n",
    "        'country': 'pakistan',\n",
    "        'population': 876,\n",
    "        'nearby mountains': 'k2',\n",
    "    },\n",
    "    'islamabad': {\n",
    "        'country': 'pakistan',\n",
    "        'population': 20,\n",
    "        'nearby mountains': 'k2',\n",
    "    }\n",
    "}\n",
    "\n",
    "\n",
    "for city, city_info in cities.items():\n",
    " \n",
    " \n",
    "\n",
    "    print(f\"\\n{city.title()} is in {city_info['country'].title()}.\")\n",
    "    print(f\"  It has a population of about {city_info['population']}.\")\n",
    "    print(f\"  The {city_info['nearby mountains'].title()} mounats are nearby.\")"
   ]
  },
  {
   "cell_type": "markdown",
   "metadata": {},
   "source": [
    "6-12. Extensions: We’re now working with examples that are complex enough\n",
    "that they can be extended in any number of ways. Use one of the example programs from this chapter, and extend it by adding new keys and values, changing the context of the program, or improving the formatting of the output."
   ]
  },
  {
   "cell_type": "code",
   "execution_count": null,
   "metadata": {},
   "outputs": [],
   "source": [
    "from typing import Dict\n",
    "\n",
    "previous_obj:Dict[str,str|int] = {\n",
    "    'name':'arman'\n",
    "}\n",
    "previous_obj['name']='M arman'\n",
    "previous_obj['age']=22\n",
    "print(previous_obj)"
   ]
  }
 ],
 "metadata": {
  "kernelspec": {
   "display_name": "mypython12",
   "language": "python",
   "name": "python3"
  },
  "language_info": {
   "codemirror_mode": {
    "name": "ipython",
    "version": 3
   },
   "file_extension": ".py",
   "mimetype": "text/x-python",
   "name": "python",
   "nbconvert_exporter": "python",
   "pygments_lexer": "ipython3",
   "version": "3.12.0"
  }
 },
 "nbformat": 4,
 "nbformat_minor": 2
}
