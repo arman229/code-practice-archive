{
 "cells": [
  {
   "cell_type": "code",
   "execution_count": 1,
   "metadata": {},
   "outputs": [
    {
     "name": "stdout",
     "output_type": "stream",
     "text": [
      "{2, 4, 6, 8, 10}\n"
     ]
    }
   ],
   "source": [
    "# set in python \n",
    "# Set is the collection of the unordered(means we define 10 first but due to unordered its value change) items\n",
    "# Each element in the set must be unique & immutabble\n",
    " \n",
    "# empty set can be defined as \n",
    "emtpy_set:set = set()\n",
    "set_of_even:set[int] = {10,2,2,4,4,6,8,8}\n",
    "print(set_of_even)\n",
    "# Note: sets are mutable but its elements are immutable.\n",
    "set_of_even.add(12)\n",
    "print(set_of_even)"
   ]
  },
  {
   "cell_type": "code",
   "execution_count": 17,
   "metadata": {},
   "outputs": [
    {
     "name": "stdout",
     "output_type": "stream",
     "text": [
      "set()\n",
      "{6, 'zain', 8, 'arman', 10, 'babar', 12, 14, 'ali'}\n",
      "{12}\n"
     ]
    }
   ],
   "source": [
    "from typing import Dict\n",
    "set_of_even:set[int|tuple[str,str]] = {10,2,2,4,4,6,8,8,('ali','ahmad')} \n",
    "set_of_even1:set[int|str] = {10,2,2,4,4,6,8,8,12,14,'ali','zain','arman','babar' } # not follow the order of the str value, \n",
    "# set_of_even2:set[int|list[str]] = {10,2,2,4,4,6,8,8,['ali','ahmad']}   # not vaild because of list, list are mutable but set elements are always immutable\n",
    "# set_of_even3:Dict[int|list[str]] = {10,2,2,4,4,6,8,8,{'name':'ali','fname':'ahmad'}} # not valid\n",
    " \n",
    "# set methods\n",
    "set_of_even1.remove(2)\n",
    "set_of_even1.pop() # remove random elements from the list\n",
    "set_of_even.clear() # empty the list \n",
    "print(set_of_even)\n",
    "print(set_of_even1)\n",
    "set_of_even.add(12)\n",
    "# set_of_even2.[8].append('zain') Not vaild\n",
    "print(set_of_even)"
   ]
  },
  {
   "cell_type": "code",
   "execution_count": 22,
   "metadata": {},
   "outputs": [
    {
     "ename": "TypeError",
     "evalue": "unhashable type: 'set'",
     "output_type": "error",
     "traceback": [
      "\u001b[1;31m---------------------------------------------------------------------------\u001b[0m",
      "\u001b[1;31mTypeError\u001b[0m                                 Traceback (most recent call last)",
      "Cell \u001b[1;32mIn[22], line 6\u001b[0m\n\u001b[0;32m      4\u001b[0m \u001b[38;5;28;01mfrom\u001b[39;00m \u001b[38;5;21;01mtyping\u001b[39;00m \u001b[38;5;28;01mimport\u001b[39;00m Dict\n\u001b[0;32m      5\u001b[0m my_bio_type\u001b[38;5;241m=\u001b[39mDict[\u001b[38;5;28mstr\u001b[39m\u001b[38;5;241m|\u001b[39m\u001b[38;5;28mset\u001b[39m,\u001b[38;5;28mstr\u001b[39m\u001b[38;5;241m|\u001b[39m\u001b[38;5;28mint\u001b[39m\u001b[38;5;241m|\u001b[39mDict[\u001b[38;5;28mtuple\u001b[39m[\u001b[38;5;28mint\u001b[39m,\u001b[38;5;28mstr\u001b[39m],\u001b[38;5;28mint\u001b[39m]]\n\u001b[1;32m----> 6\u001b[0m my_bio:my_bio_type\u001b[38;5;241m=\u001b[39m{\n\u001b[0;32m      7\u001b[0m \u001b[38;5;124m'\u001b[39m\u001b[38;5;124mname\u001b[39m\u001b[38;5;124m'\u001b[39m:\u001b[38;5;124m'\u001b[39m\u001b[38;5;124mArman\u001b[39m\u001b[38;5;124m'\u001b[39m,\n\u001b[0;32m      8\u001b[0m \u001b[38;5;124m'\u001b[39m\u001b[38;5;124mage\u001b[39m\u001b[38;5;124m'\u001b[39m:\u001b[38;5;241m22\u001b[39m,\n\u001b[0;32m      9\u001b[0m \u001b[38;5;124m'\u001b[39m\u001b[38;5;124mcity\u001b[39m\u001b[38;5;124m'\u001b[39m:\u001b[38;5;124m'\u001b[39m\u001b[38;5;124msialkot\u001b[39m\u001b[38;5;124m'\u001b[39m,\n\u001b[0;32m     10\u001b[0m \u001b[38;5;124m'\u001b[39m\u001b[38;5;124mmarks\u001b[39m\u001b[38;5;124m'\u001b[39m:{\n\u001b[0;32m     11\u001b[0m (\u001b[38;5;241m101\u001b[39m,\u001b[38;5;124m'\u001b[39m\u001b[38;5;124mmath\u001b[39m\u001b[38;5;124m'\u001b[39m):\u001b[38;5;241m95\u001b[39m,\n\u001b[0;32m     12\u001b[0m (\u001b[38;5;241m102\u001b[39m,\u001b[38;5;124m'\u001b[39m\u001b[38;5;124mmath\u001b[39m\u001b[38;5;124m'\u001b[39m):\u001b[38;5;241m90\u001b[39m,\n\u001b[0;32m     13\u001b[0m (\u001b[38;5;241m101\u001b[39m,\u001b[38;5;124m'\u001b[39m\u001b[38;5;124mstate\u001b[39m\u001b[38;5;124m'\u001b[39m):\u001b[38;5;241m85\u001b[39m,\n\u001b[0;32m     14\u001b[0m },\n\u001b[0;32m     15\u001b[0m {\u001b[38;5;124m'\u001b[39m\u001b[38;5;124mmath\u001b[39m\u001b[38;5;124m'\u001b[39m,\u001b[38;5;124m'\u001b[39m\u001b[38;5;124mstate\u001b[39m\u001b[38;5;124m'\u001b[39m,\u001b[38;5;124m'\u001b[39m\u001b[38;5;124mmath\u001b[39m\u001b[38;5;124m'\u001b[39m}:\u001b[38;5;124m'\u001b[39m\u001b[38;5;124mA\u001b[39m\u001b[38;5;124m'\u001b[39m\n\u001b[0;32m     16\u001b[0m \n\u001b[0;32m     17\u001b[0m }\n\u001b[0;32m     18\u001b[0m \u001b[38;5;28;01mfor\u001b[39;00m my_bio_key \u001b[38;5;129;01min\u001b[39;00m my_bio\u001b[38;5;241m.\u001b[39mkeys():\n\u001b[0;32m     19\u001b[0m     \u001b[38;5;28mprint\u001b[39m(my_bio_key)\n",
      "\u001b[1;31mTypeError\u001b[0m: unhashable type: 'set'"
     ]
    }
   ],
   "source": [
    "# Dictionary in Python\n",
    "# Dictionaries are used to store data values in key:value pairs “key” : value\n",
    "# They are unordered, mutable(changeable) & don’t allow duplicate keys\n",
    "# Note that : key always unique in this example we use set in key so it will give error \n",
    "from typing import Dict,Union\n",
    "key_my_bio_type=Union[str,set]\n",
    "value_my_bio_type=Union[str,int,Dict[tuple[int,str],int]]\n",
    "my_bio_type=Dict[key_my_bio_type,value_my_bio_type]\n",
    "my_bio:my_bio_type={\n",
    "'name':'Arman',\n",
    "'age':22,\n",
    "'city':'sialkot',\n",
    "'marks':{\n",
    "(101,'math'):95,\n",
    "(102,'math'):90,\n",
    "(101,'state'):85,\n",
    "},\n",
    "{'math','state','math'}:'A' # error\n",
    "\n",
    "}\n",
    "for my_bio_key in my_bio.keys():\n",
    "    print(my_bio_key)\n",
    " \n",
    "\n",
    " \n",
    "\n"
   ]
  },
  {
   "cell_type": "code",
   "execution_count": 23,
   "metadata": {},
   "outputs": [
    {
     "ename": "TypeError",
     "evalue": "unhashable type: 'list'",
     "output_type": "error",
     "traceback": [
      "\u001b[1;31m---------------------------------------------------------------------------\u001b[0m",
      "\u001b[1;31mTypeError\u001b[0m                                 Traceback (most recent call last)",
      "Cell \u001b[1;32mIn[23], line 3\u001b[0m\n\u001b[0;32m      1\u001b[0m \u001b[38;5;28;01mfrom\u001b[39;00m \u001b[38;5;21;01mtyping\u001b[39;00m \u001b[38;5;28;01mimport\u001b[39;00m Dict\n\u001b[0;32m      2\u001b[0m my_bio_type\u001b[38;5;241m=\u001b[39mDict[\u001b[38;5;28mstr\u001b[39m\u001b[38;5;241m|\u001b[39m\u001b[38;5;28mlist\u001b[39m[\u001b[38;5;28mstr\u001b[39m],\u001b[38;5;28mstr\u001b[39m\u001b[38;5;241m|\u001b[39m\u001b[38;5;28mint\u001b[39m\u001b[38;5;241m|\u001b[39mDict[\u001b[38;5;28mtuple\u001b[39m[\u001b[38;5;28mint\u001b[39m,\u001b[38;5;28mstr\u001b[39m],\u001b[38;5;28mint\u001b[39m]]\n\u001b[1;32m----> 3\u001b[0m my_bio:my_bio_type\u001b[38;5;241m=\u001b[39m{\n\u001b[0;32m      4\u001b[0m \u001b[38;5;124m'\u001b[39m\u001b[38;5;124mname\u001b[39m\u001b[38;5;124m'\u001b[39m:\u001b[38;5;124m'\u001b[39m\u001b[38;5;124mArman\u001b[39m\u001b[38;5;124m'\u001b[39m,\n\u001b[0;32m      5\u001b[0m \u001b[38;5;124m'\u001b[39m\u001b[38;5;124mage\u001b[39m\u001b[38;5;124m'\u001b[39m:\u001b[38;5;241m22\u001b[39m,\n\u001b[0;32m      6\u001b[0m \u001b[38;5;124m'\u001b[39m\u001b[38;5;124mcity\u001b[39m\u001b[38;5;124m'\u001b[39m:\u001b[38;5;124m'\u001b[39m\u001b[38;5;124msialkot\u001b[39m\u001b[38;5;124m'\u001b[39m,\n\u001b[0;32m      7\u001b[0m \u001b[38;5;124m'\u001b[39m\u001b[38;5;124mmarks\u001b[39m\u001b[38;5;124m'\u001b[39m:{\n\u001b[0;32m      8\u001b[0m (\u001b[38;5;241m101\u001b[39m,\u001b[38;5;124m'\u001b[39m\u001b[38;5;124mmath\u001b[39m\u001b[38;5;124m'\u001b[39m):\u001b[38;5;241m95\u001b[39m,\n\u001b[0;32m      9\u001b[0m (\u001b[38;5;241m102\u001b[39m,\u001b[38;5;124m'\u001b[39m\u001b[38;5;124mmath\u001b[39m\u001b[38;5;124m'\u001b[39m):\u001b[38;5;241m90\u001b[39m,\n\u001b[0;32m     10\u001b[0m (\u001b[38;5;241m101\u001b[39m,\u001b[38;5;124m'\u001b[39m\u001b[38;5;124mstate\u001b[39m\u001b[38;5;124m'\u001b[39m):\u001b[38;5;241m85\u001b[39m,\n\u001b[0;32m     11\u001b[0m },\n\u001b[0;32m     12\u001b[0m [\u001b[38;5;124m'\u001b[39m\u001b[38;5;124mmath\u001b[39m\u001b[38;5;124m'\u001b[39m,\u001b[38;5;124m'\u001b[39m\u001b[38;5;124mstate\u001b[39m\u001b[38;5;124m'\u001b[39m,\u001b[38;5;124m'\u001b[39m\u001b[38;5;124mmath\u001b[39m\u001b[38;5;124m'\u001b[39m]:\u001b[38;5;124m'\u001b[39m\u001b[38;5;124mA\u001b[39m\u001b[38;5;124m'\u001b[39m \u001b[38;5;66;03m# error\u001b[39;00m\n\u001b[0;32m     13\u001b[0m \n\u001b[0;32m     14\u001b[0m }\n\u001b[0;32m     15\u001b[0m \u001b[38;5;28;01mfor\u001b[39;00m my_bio_key \u001b[38;5;129;01min\u001b[39;00m my_bio\u001b[38;5;241m.\u001b[39mkeys():\n\u001b[0;32m     16\u001b[0m     \u001b[38;5;28mprint\u001b[39m(my_bio_key)\n",
      "\u001b[1;31mTypeError\u001b[0m: unhashable type: 'list'"
     ]
    }
   ],
   "source": [
    "from typing import Dict\n",
    "my_bio_type=Dict[str|list[str],str|int|Dict[tuple[int,str],int]]\n",
    "my_bio:my_bio_type={\n",
    "'name':'Arman',\n",
    "'age':22,\n",
    "'city':'sialkot',\n",
    "'marks':{\n",
    "(101,'math'):95,\n",
    "(102,'math'):90,\n",
    "(101,'state'):85,\n",
    "},\n",
    "['math','state','math']:'A' # error\n",
    "\n",
    "}\n",
    "for my_bio_key in my_bio.keys():\n",
    "    print(my_bio_key)\n",
    " "
   ]
  },
  {
   "cell_type": "code",
   "execution_count": 31,
   "metadata": {},
   "outputs": [
    {
     "name": "stdout",
     "output_type": "stream",
     "text": [
      "name\n",
      "age\n",
      "city\n",
      "marks\n",
      "('math', 'state', 'math')\n"
     ]
    }
   ],
   "source": [
    "from typing import Dict,Union\n",
    "key_my_bio_type=Union[str,tuple]\n",
    "value_my_bio_type=Union[str,int,Dict[tuple[int,str],int]]\n",
    "my_bio_type=Dict[key_my_bio_type,value_my_bio_type]\n",
    "my_bio:my_bio_type={\n",
    "'name':'Arman',\n",
    "'age':22,\n",
    "'city':'sialkot',\n",
    "'marks':{\n",
    "(101,'math'):95,\n",
    "(102,'math'):90,\n",
    "(101,'state'):85,\n",
    "},\n",
    "('math','state','math'):'A'  \n",
    "\n",
    "}\n",
    "for my_bio_key in my_bio.keys():\n",
    "    print(my_bio_key)\n",
    " \n",
    "\n",
    " \n",
    "\n"
   ]
  },
  {
   "cell_type": "code",
   "execution_count": 49,
   "metadata": {},
   "outputs": [
    {
     "name": "stdout",
     "output_type": "stream",
     "text": [
      "None\n",
      "lahore\n",
      "name\n",
      "age\n",
      "city\n",
      "marks\n",
      "('math', 'state', 'math')\n",
      "arman ashraf\n",
      "22\n",
      "sialkot\n",
      "{(101, 'math'): 97, (102, 'math'): 90, (101, 'state'): 85}\n",
      "A\n",
      "('name', 'arman ashraf')\n",
      "('age', 22)\n",
      "('city', 'sialkot')\n",
      "('marks', {(101, 'math'): 97, (102, 'math'): 90, (101, 'state'): 85})\n",
      "(('math', 'state', 'math'), 'A')\n"
     ]
    }
   ],
   "source": [
    "from typing import Dict\n",
    "my_bio_type=Dict[str|tuple[str,str,str],str|int|Dict[tuple[int,str],int]]\n",
    "my_bio:my_bio_type={\n",
    "'name':'Arman',\n",
    "'age':22,\n",
    "'city':'sialkot',\n",
    "'marks':{\n",
    "(101,'math'):95,\n",
    "(102,'math'):90,\n",
    "(101,'state'):85,\n",
    "},\n",
    "('math','state','math'):'A' #  Working properly\n",
    "\n",
    "}\n",
    "# print(my_bio['citys']) # but it stop all the programs\n",
    "print(my_bio.get('country'))  #returns the key according to value if key is not exist it return None\n",
    "print(my_bio.get('country','pakistan')) # we can set value if the value is not exist.\n",
    "for my_bio_key in my_bio.keys():\n",
    "    print(my_bio_key)\n",
    "\n",
    "# update the Dict\n",
    "my_bio.update({'name':'arman ashraf','marks':{\n",
    "(101,'math'):97,\n",
    "(102,'math'):90,\n",
    "(101,'state'):85,\n",
    "},})        \n",
    "for my_bio_key in my_bio.values():\n",
    "    print(my_bio_key)\n",
    "for my_bio_key in my_bio.items():  #returns all (key, val) pairs as tuples\n",
    "    print(my_bio_key)     "
   ]
  },
  {
   "cell_type": "markdown",
   "metadata": {},
   "source": [
    "* pprint.pprint in Python stands for \"pretty print\" and is part of the pprint module in the Python standard library. This function is used to print data structures like dictionaries and lists in a more human-readable and visually appealing format, particularly when they are complex or nested.\n",
    "* Note: pprint.pprint() sorts the keys of the dictionary alphabetically when printing. "
   ]
  },
  {
   "cell_type": "code",
   "execution_count": null,
   "metadata": {},
   "outputs": [],
   "source": [
    "import pprint\n",
    "from typing import Dict\n",
    "data_type=Dict[str,str|int|Dict[str,str|Dict[str,float]]|list[Dict[str,str|int]]]\n",
    "\n",
    "data:data_type = {\n",
    "    'name': 'arman',\n",
    "    'age': 22,\n",
    "    'address': {\n",
    "        'city': 'sialkot',\n",
    "        'zip_code': '10001',\n",
    "        'street': '123',\n",
    "        'coordinates': {\n",
    "            'latitude': 40.7128,\n",
    "            'longitude': 74.0060\n",
    "        }\n",
    "    },\n",
    "    'friends': [\n",
    "        {'name': 'ali', 'age': 28},\n",
    "        {'name': 'sameer', 'age': 32},\n",
    "        {'name': 'zain', 'age': 29}\n",
    "    ]\n",
    "}\n",
    "\n",
    "pprint.pprint(data)\n",
    "print(data)\n",
    "display(data) # display only works in jupyter notebook\n"
   ]
  },
  {
   "cell_type": "code",
   "execution_count": null,
   "metadata": {},
   "outputs": [],
   "source": [
    "# Optional is a shorthand for a value that can either be of a specific type or None.\n",
    "\n",
    "from typing import Optional\n",
    "name1:Optional[int]='str'  # Error\n",
    "name2:Optional[int] = 3 # working properly\n",
    "name3:Optional[int] = None # working properly\n"
   ]
  },
  {
   "cell_type": "code",
   "execution_count": 44,
   "metadata": {},
   "outputs": [
    {
     "name": "stdout",
     "output_type": "stream",
     "text": [
      "{'65 value': 'A', '66 value': 'B', '67 value': 'C', '68 value': 'D', '69 value': 'E', '70 value': 'F', '71 value': 'G', '72 value': 'H', '73 value': 'I', '74 value': 'J'}\n"
     ]
    }
   ],
   "source": [
    "# Dictionary Comprehensions\n",
    "#Dictionary comprehensions provide a concise way to create dictionaries.\n",
    "from typing import Dict\n",
    "aplhabatics:Dict[str,str] = {f'{i} value': chr(i) for i in range(65,75)}\n",
    "print(aplhabatics)\n",
    " "
   ]
  },
  {
   "cell_type": "code",
   "execution_count": 55,
   "metadata": {},
   "outputs": [
    {
     "name": "stdout",
     "output_type": "stream",
     "text": [
      "{'B': '66 value', 'C': '67 value', 'D': '68 value', 'E': '69 value', 'F': '70 value', 'G': '71 value', 'H': '72 value', 'I': '73 value', 'J': '74 value'}\n"
     ]
    }
   ],
   "source": [
    "# Swapping Keys and Values\n",
    "# Removing Key-Value Pairs\n",
    "# Be aware that the deleted key-value pair is removed permanently\n",
    "from typing import Dict\n",
    "alphabatics:Dict[str,str] = {f'{i} value': chr(i) for i in range(65,75)}\n",
    "del alphabatics['65 value']\n",
    "swapped_dict:Dict[str|int,int|str] = {j:i for i,j in alphabatics.items()}\n",
    "print(swapped_dict)\n"
   ]
  },
  {
   "cell_type": "code",
   "execution_count": 53,
   "metadata": {},
   "outputs": [
    {
     "name": "stdout",
     "output_type": "stream",
     "text": [
      "{'id': None, 'name': None, 'course': None}\n"
     ]
    }
   ],
   "source": [
    "from typing import Dict,Optional\n",
    "keys : list[str] = ['id','name','course']\n",
    "data : Dict[str,Optional[str]] = {}\n",
    "data = data.fromkeys(keys)\n",
    "print(data)"
   ]
  },
  {
   "cell_type": "code",
   "execution_count": 57,
   "metadata": {},
   "outputs": [
    {
     "name": "stdout",
     "output_type": "stream",
     "text": [
      "Jen\n",
      "Sarah\n",
      "Edward\n",
      "Phil\n"
     ]
    }
   ],
   "source": [
    "# # By default in dictionary when we apply loop it iterate over keys\n",
    "favorite_languages = {\n",
    "'jen': 'python',\n",
    "'sarah': 'c',\n",
    "'edward': 'rust',\n",
    "'phil': 'python',\n",
    "}\n",
    "for name in favorite_languages :\n",
    "    print(name.title())"
   ]
  },
  {
   "cell_type": "code",
   "execution_count": 59,
   "metadata": {},
   "outputs": [
    {
     "name": "stdout",
     "output_type": "stream",
     "text": [
      "{'color': 'red', 'points': 15, 'speed': 'fast'}\n",
      "...\n",
      "{'color': 'green', 'points': 5, 'speed': 'slow'}\n",
      "...\n",
      "{'color': 'red', 'points': 15, 'speed': 'fast'}\n",
      "...\n",
      "{'color': 'red', 'points': 15, 'speed': 'fast'}\n",
      "...\n",
      "{'color': 'green', 'points': 5, 'speed': 'slow'}\n",
      "...\n",
      "{'color': 'red', 'points': 15, 'speed': 'fast'}\n",
      "...\n",
      "{'color': 'red', 'points': 15, 'speed': 'fast'}\n",
      "...\n",
      "{'color': 'red', 'points': 15, 'speed': 'fast'}\n",
      "...\n",
      "{'color': 'green', 'points': 5, 'speed': 'slow'}\n",
      "...\n"
     ]
    }
   ],
   "source": [
    "# Make an empty list for storing aliens.\n",
    "aliens = []\n",
    "# Make 30 green aliens.\n",
    "for alien_number in range (30):\n",
    "    new_alien = {'color': 'green', 'points': 5, 'speed': 'slow'}\n",
    "    aliens.append(new_alien)\n",
    "    for alien in aliens[:3]:\n",
    "        if alien['color'] == 'green':\n",
    "            alien['color'] = 'yellow'\n",
    "            alien['speed'] = 'medium'\n",
    "            alien['points'] = 10\n",
    "            \n",
    "        elif alien['color'] == 'yellow':\n",
    "            alien['color'] = 'red'\n",
    "            alien['speed'] = 'fast'\n",
    "            alien['points'] = 15        \n",
    "        # Show the first 5 aliens.\n",
    "            for alien in aliens[:5]:\n",
    "                print(alien)\n",
    "                print(\"...\")    "
   ]
  }
 ],
 "metadata": {
  "kernelspec": {
   "display_name": "mypython12",
   "language": "python",
   "name": "python3"
  },
  "language_info": {
   "codemirror_mode": {
    "name": "ipython",
    "version": 3
   },
   "file_extension": ".py",
   "mimetype": "text/x-python",
   "name": "python",
   "nbconvert_exporter": "python",
   "pygments_lexer": "ipython3",
   "version": "3.12.0"
  }
 },
 "nbformat": 4,
 "nbformat_minor": 2
}
