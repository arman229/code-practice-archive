{
 "cells": [
  {
   "cell_type": "markdown",
   "metadata": {},
   "source": [
    "# print hello  world\n",
    "* Note: All errors are only shown in the .py file, not in the .ipynb file. For example, the error name:int='a' is displayed in the .py file but not in the .ipynb file."
   ]
  },
  {
   "cell_type": "code",
   "execution_count": 6,
   "metadata": {},
   "outputs": [
    {
     "name": "stdout",
     "output_type": "stream",
     "text": [
      "hello world!\n",
      "dd\n"
     ]
    }
   ],
   "source": [
    "print('hello world!')\n",
    "name:int='dd'\n",
    "print(name)"
   ]
  },
  {
   "cell_type": "markdown",
   "metadata": {},
   "source": [
    "* Memory Allocation: The memory manager might allocate memory differently each time the program runs, depending on factors like the available memory, memory fragmentation, and other system-level considerations.\n",
    "* Jupyter notebooks maintain a persistent Python kernel across multiple code executions within the same session, while Python scripts start a new Python process with each execution.\n",
    "* String interning is a process where Python optimizes memory usage by reusing the same memory address for identical string literals.\n",
    "* In Python, a \"physical address\" typically refers to the memory address where an object is stored in the computer's memory. Every object in Python, whether it's a variable, a function, or any other data structure, resides in memory, and each object has a unique memory address."
   ]
  },
  {
   "cell_type": "code",
   "execution_count": 7,
   "metadata": {},
   "outputs": [
    {
     "name": "stdout",
     "output_type": "stream",
     "text": [
      "2426070746608\n",
      "2426070746608\n"
     ]
    }
   ],
   "source": [
    "name:str='pakistan'\n",
    "name1:str = 'pakistan'\n",
    "print(id(name)) \n",
    "print(id(name1)) # physcial address"
   ]
  },
  {
   "cell_type": "markdown",
   "metadata": {},
   "source": [
    "* In Python, the dir() function returns a list of all attributes and methods of an object. "
   ]
  },
  {
   "cell_type": "code",
   "execution_count": 3,
   "metadata": {},
   "outputs": [
    {
     "name": "stdout",
     "output_type": "stream",
     "text": [
      "700\n",
      "<class 'int'>\n",
      "2426070568400\n"
     ]
    }
   ],
   "source": [
    "name = \"Muhammad Qasim\"\n",
    "name = 700\n",
    "print(name) # print\n",
    "print(type(name)) # type\n",
    "print(id(name)) # physcial address"
   ]
  }
 ],
 "metadata": {
  "kernelspec": {
   "display_name": "mypython12",
   "language": "python",
   "name": "python3"
  },
  "language_info": {
   "codemirror_mode": {
    "name": "ipython",
    "version": 3
   },
   "file_extension": ".py",
   "mimetype": "text/x-python",
   "name": "python",
   "nbconvert_exporter": "python",
   "pygments_lexer": "ipython3",
   "version": "3.12.0"
  }
 },
 "nbformat": 4,
 "nbformat_minor": 2
}
